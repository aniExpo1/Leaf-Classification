{
 "cells": [
  {
   "cell_type": "markdown",
   "metadata": {},
   "source": [
    "* one convolution notebook"
   ]
  },
  {
   "cell_type": "code",
   "execution_count": 3,
   "metadata": {
    "collapsed": true
   },
   "outputs": [],
   "source": [
    "# tensorflow on 8889"
   ]
  },
  {
   "cell_type": "code",
   "execution_count": 1,
   "metadata": {
    "collapsed": true
   },
   "outputs": [],
   "source": [
    "import os\n",
    "os.chdir(\"/notebooks/src\")"
   ]
  },
  {
   "cell_type": "code",
   "execution_count": 2,
   "metadata": {},
   "outputs": [
    {
     "data": {
      "text/plain": [
       "u'/notebooks/src'"
      ]
     },
     "execution_count": 2,
     "metadata": {},
     "output_type": "execute_result"
    }
   ],
   "source": [
    "pwd"
   ]
  },
  {
   "cell_type": "code",
   "execution_count": 68,
   "metadata": {
    "collapsed": true
   },
   "outputs": [],
   "source": [
    "! ls /home"
   ]
  },
  {
   "cell_type": "code",
   "execution_count": 69,
   "metadata": {},
   "outputs": [
    {
     "name": "stdout",
     "output_type": "stream",
     "text": [
      "Requirement already satisfied: keras in /usr/local/lib/python2.7/dist-packages\n",
      "Requirement already satisfied: cython in /usr/local/lib/python2.7/dist-packages\n",
      "Requirement already satisfied: h5py in /usr/local/lib/python2.7/dist-packages\n",
      "Requirement already satisfied: pyyaml in /usr/local/lib/python2.7/dist-packages (from keras)\n",
      "Requirement already satisfied: six>=1.9.0 in /usr/local/lib/python2.7/dist-packages (from keras)\n",
      "Requirement already satisfied: scipy>=0.14 in /usr/local/lib/python2.7/dist-packages (from keras)\n",
      "Requirement already satisfied: numpy>=1.9.1 in /usr/local/lib/python2.7/dist-packages (from keras)\n"
     ]
    }
   ],
   "source": [
    "!pip install keras cython h5py"
   ]
  },
  {
   "cell_type": "code",
   "execution_count": 3,
   "metadata": {},
   "outputs": [
    {
     "name": "stderr",
     "output_type": "stream",
     "text": [
      "Using TensorFlow backend.\n"
     ]
    }
   ],
   "source": [
    "import keras\n",
    "from keras.layers import Input, Convolution2D, Dense, Activation, Flatten, merge, Conv2D\n",
    "from keras.layers import MaxPooling2D, Dropout, LocallyConnected2D, MaxPool2D, MaxPool1D\n",
    "from keras.models import Model, load_model,  Sequential\n",
    "from keras.optimizers import SGD\n",
    "from keras.models import Sequential\n",
    "from keras.activations import relu, softmax\n",
    "import numpy as np\n",
    "import pandas as pd\n",
    "import matplotlib.pyplot as plt\n",
    "import matplotlib.image as mpimg\n",
    "#from lib.data_split import load_train_data, load_test_data"
   ]
  },
  {
   "cell_type": "markdown",
   "metadata": {},
   "source": [
    "### preprocessing the data(functions)"
   ]
  },
  {
   "cell_type": "code",
   "execution_count": 4,
   "metadata": {
    "collapsed": true
   },
   "outputs": [],
   "source": [
    "from sklearn.preprocessing import LabelEncoder\n",
    "from sklearn.preprocessing import StandardScaler\n",
    "'''\n",
    "This module takes a file path and loades pre_extracted features \n",
    "from leaf kaggle competiton. The input is the file path for\n",
    "train or test files. \n",
    "'''\n",
    "\n",
    "\n",
    "\n",
    "def load_train(filepath):\n",
    "\n",
    "    #loading\n",
    "    train_df = pd.read_csv(filepath)\n",
    "    id = train_df.pop('id')\n",
    "    target = train_df.pop('species')\n",
    "    \n",
    "    #scaling\n",
    "    target = LabelEncoder().fit(target).transform(target)\n",
    "    features = StandardScaler().fit(train_df).transform(train_df)\n",
    "    \n",
    "    return id,features,target\n",
    "    \n",
    "\n",
    "def load_test(filepath):\n",
    "    \n",
    "    #loading\n",
    "    test_df = pd.read_csv(filepath)\n",
    "    id = test_df.pop('id')\n",
    "    \n",
    "    #scaling\n",
    "    features = StandardScaler().fit(test_df).transform(test_df)\n",
    "    \n",
    "    return id, features\n",
    "    "
   ]
  },
  {
   "cell_type": "markdown",
   "metadata": {},
   "source": [
    "* loading images"
   ]
  },
  {
   "cell_type": "code",
   "execution_count": 5,
   "metadata": {
    "collapsed": true
   },
   "outputs": [],
   "source": [
    "from keras.utils.np_utils import to_categorical\n",
    "from keras.preprocessing.image import img_to_array, load_img\n",
    "\n",
    "'''\n",
    "This module loads all the training/test images, resizes them and \n",
    "makes them ready for kaggle.\n",
    "'''\n",
    "\n",
    "\n",
    "def rebuild_image(img, dim=64):\n",
    "    \n",
    "    # find largest axis\n",
    "    maxsize = max((0,1), key=lambda i: img.size[i])\n",
    "    \n",
    "    #scale both axis\n",
    "    scale = dim/float(img.size[maxsize])\n",
    "    \n",
    "    return img.resize((int(img.size[0] * scale), int(img.size[1]*scale)))\n",
    "    \n",
    "\n",
    "    \n",
    "def load_image(ids,dim=64):\n",
    "\n",
    "    filepath = './data/images/'\n",
    "    \n",
    "    IM = np.empty((len(ids),dim,dim,1))\n",
    "    \n",
    "    for i, ids in enumerate(ids):\n",
    "    \n",
    "        images = rebuild_image(load_img(filepath + str(ids) + '.jpg',\n",
    "grayscale=True),dim = dim)\n",
    "        \n",
    "        images = img_to_array(images)\n",
    "        x = images.shape[0]\n",
    "        y = images.shape[1]\n",
    "        \n",
    "        #centering\n",
    "        l_bound_0 = int((dim - x) / 2)\n",
    "        u_bound_0 = l_bound_0 + x\n",
    "        l_bound_1 = int((dim - y) / 2)\n",
    "        u_bound_1 = l_bound_1 + y\n",
    "        \n",
    "        IM[i,l_bound_0:u_bound_0,l_bound_1:u_bound_1,0:1] = images\n",
    "        \n",
    "        #scale it to grey\n",
    "    return np.around(IM/ 255.0) "
   ]
  },
  {
   "cell_type": "code",
   "execution_count": 6,
   "metadata": {},
   "outputs": [
    {
     "data": {
      "image/png": "[encoded data removed]",
      "text/plain": [
       "<matplotlib.figure.Figure at 0x7f70f4f00790>"
      ]
     },
     "metadata": {},
     "output_type": "display_data"
    }
   ],
   "source": [
    "# reading an image file using matplotlib into a numpy array\n",
    "# good ones: 11, 19, 23, 27, 48, 53, 78, 218\n",
    "img = mpimg.imread('./data/images/53.jpg')\n",
    "plt.imshow(img, cmap='Greens') \n",
    "plt.show()"
   ]
  },
  {
   "cell_type": "markdown",
   "metadata": {},
   "source": [
    "### splitting the data with StratifiedShuffleSplit"
   ]
  },
  {
   "cell_type": "code",
   "execution_count": 7,
   "metadata": {
    "collapsed": true
   },
   "outputs": [],
   "source": [
    "\n",
    "from sklearn.model_selection import StratifiedShuffleSplit\n",
    "\n",
    "random_state = 8\n",
    "split = 0.8\n",
    "\n",
    "\n",
    "\n",
    "def load_train_data(filepath, split = split, random_state = random_state):\n",
    "\n",
    "    id, features_train, target_train = load_train(filepath)\n",
    "    image_train = load_image(id)\n",
    "    \n",
    "    sss = StratifiedShuffleSplit(n_splits = 1, train_size=split ,random_state=random_state)\n",
    "    train_i,val_i = next(sss.split(features_train,target_train))\n",
    "      \n",
    "    features_val,val_img,val_target = features_train[val_i],image_train[val_i], target_train[val_i]\n",
    "      \n",
    "    features_train,train_img,train_target = features_train[train_i],image_train[train_i],target_train[train_i]\n",
    "    \n",
    "    \n",
    "    return (features_train,train_img,train_target),(features_val,val_img,val_target)\n",
    "    \n",
    "\n",
    "def load_test_data(filepath):\n",
    "\n",
    "    id, test_features = load_test(filepath)\n",
    "    test_images = load_image(id)\n",
    "    \n",
    "    return (id,test_features,test_images)\n",
    "    \n",
    "    "
   ]
  },
  {
   "cell_type": "code",
   "execution_count": 8,
   "metadata": {},
   "outputs": [
    {
     "name": "stderr",
     "output_type": "stream",
     "text": [
      "/usr/local/lib/python2.7/dist-packages/sklearn/model_selection/_split.py:1630: FutureWarning: From version 0.21, test_size will always complement train_size unless both are specified.\n",
      "  FutureWarning)\n"
     ]
    }
   ],
   "source": [
    "#X_train, y_train\n",
    "train,validation = load_train_data(\"./data/train.csv\",split = split, random_state = random_state)"
   ]
  },
  {
   "cell_type": "code",
   "execution_count": 9,
   "metadata": {},
   "outputs": [
    {
     "data": {
      "text/plain": [
       "(792, 192)"
      ]
     },
     "execution_count": 9,
     "metadata": {},
     "output_type": "execute_result"
    }
   ],
   "source": [
    "train[0].shape"
   ]
  },
  {
   "cell_type": "code",
   "execution_count": 10,
   "metadata": {
    "collapsed": true
   },
   "outputs": [],
   "source": [
    "test = load_test_data(\"./data/test.csv\")"
   ]
  },
  {
   "cell_type": "code",
   "execution_count": 11,
   "metadata": {},
   "outputs": [
    {
     "data": {
      "text/plain": [
       "tuple"
      ]
     },
     "execution_count": 11,
     "metadata": {},
     "output_type": "execute_result"
    }
   ],
   "source": [
    "type(test)"
   ]
  },
  {
   "cell_type": "code",
   "execution_count": 12,
   "metadata": {
    "collapsed": true
   },
   "outputs": [],
   "source": [
    "train_labels = train[2][:]\n",
    "valid_labels = validation[2][:]"
   ]
  },
  {
   "cell_type": "code",
   "execution_count": 13,
   "metadata": {},
   "outputs": [
    {
     "data": {
      "text/plain": [
       "(792,)"
      ]
     },
     "execution_count": 13,
     "metadata": {},
     "output_type": "execute_result"
    }
   ],
   "source": [
    "train_labels.shape"
   ]
  },
  {
   "cell_type": "code",
   "execution_count": 80,
   "metadata": {},
   "outputs": [
    {
     "data": {
      "text/plain": [
       "array([78, 69, 33, 89, 92, 73, 75, 23, 17, 88, 69, 35, 97, 52, 87, 23, 18,\n",
       "       24, 70, 95, 80, 43, 22,  1, 84, 68, 34, 76, 36, 61, 32, 93, 95,  1,\n",
       "       55, 59, 33, 97, 22,  6, 28, 38, 50, 96, 85, 85, 82, 37, 47, 25, 41,\n",
       "       54, 33, 36, 70, 55, 42, 84, 63,  6, 51, 37,  6, 62, 43,  2, 30, 28,\n",
       "        2, 19, 74, 77, 14, 26, 21, 93,  7, 83, 56, 77, 62, 72,  3, 24, 89,\n",
       "       20, 71, 58,  4, 29, 68,  9, 33, 39, 30, 13, 92, 10, 81, 37, 61, 20,\n",
       "       89, 90,  3, 81, 79, 29, 80, 12, 34, 43, 37,  9, 16, 50, 74,  8, 60,\n",
       "       96, 13,  0, 69, 78, 10, 65, 47, 58, 92, 90,  5, 71, 30, 33, 56, 73,\n",
       "       21, 86, 53,  5, 15, 64, 16, 82, 62, 64, 47, 53, 30, 42, 45, 50, 63,\n",
       "       65, 14, 28, 44, 28, 75, 72, 82, 94, 39, 10, 78, 67, 20, 71, 64, 75,\n",
       "       44,  4, 92, 43, 47, 88, 46, 16, 25, 23,  0,  7,  6, 85, 35, 70,  7,\n",
       "       53,  9, 43, 59, 67, 59, 79, 68, 17, 11, 98, 77, 20, 31,  4, 21, 41,\n",
       "        8, 57, 24, 89, 87, 68, 74, 46,  2, 18, 92,  7, 51, 70, 68, 92, 90,\n",
       "       63, 12, 32, 98, 45, 80, 19, 54,  8, 15, 50, 48, 19, 76, 91, 74, 96,\n",
       "        1, 94, 11, 88, 10, 36, 35, 61,  2, 93, 33, 70, 91, 75, 38, 20, 13,\n",
       "       15, 12, 28, 48, 89, 34, 21, 44, 75, 51, 91, 59, 76, 50, 25, 35,  8,\n",
       "       86,  8, 40, 40, 66, 90, 37, 45, 14, 76,  0, 49, 54,  9, 19, 81, 18,\n",
       "       83, 83, 60, 32, 38, 33, 59,  8, 83,  3, 49,  5, 12, 86, 73, 76, 66,\n",
       "       97, 54,  6, 53, 82, 13, 26, 44,  7, 98, 21, 26, 74,  0, 22, 32, 81,\n",
       "       65, 19, 26, 92, 40, 22, 91, 10, 88, 13, 38, 19, 51, 80, 32,  5, 55,\n",
       "       53, 97, 98, 23, 64, 45, 30, 61, 60, 51, 30,  0, 37, 91, 15, 41, 55,\n",
       "       42, 46, 94, 13,  2, 81, 64, 83, 40, 61, 77, 94, 39, 18, 44, 58,  7,\n",
       "       68, 42, 34, 56, 77, 39, 25, 27, 50,  4, 75, 52, 25, 48, 47,  2, 86,\n",
       "       24, 56, 87, 82, 69,  3, 54, 55, 58, 71, 27, 51, 64,  1, 77, 44, 90,\n",
       "       32, 69, 48, 24, 85, 90, 88, 97, 41, 50, 18, 16, 54,  9, 31, 38,  3,\n",
       "       45, 23, 84, 48, 79, 41, 48, 78, 49, 71, 31,  4, 46, 76, 62, 88, 39,\n",
       "       89, 11, 11, 30, 56, 15, 37, 43, 80, 20, 75, 80, 49, 34,  7, 93, 36,\n",
       "       41, 68, 14, 42, 13, 22, 43, 18, 58, 34, 76, 96, 82, 66, 15, 29, 57,\n",
       "       71, 23, 17, 98, 29, 35, 27, 96, 83, 57, 79, 31, 65, 94, 24, 52, 10,\n",
       "       36, 32, 39, 84, 64, 49, 31, 35,  3, 98, 60, 14, 40, 52, 87, 88, 31,\n",
       "       79, 35, 60, 78, 46, 85, 37, 29,  1, 57, 48, 11,  4, 91, 55, 52, 96,\n",
       "       11, 49,  7, 96, 22,  0, 62, 66,  8,  9, 26, 16, 57,  5, 27, 58, 53,\n",
       "        5, 65, 36, 36, 17, 21, 66, 53, 28, 34, 87, 56, 95, 59, 22,  9, 21,\n",
       "       47, 16, 16, 24, 52, 63, 44, 80, 35, 12, 62, 54, 17, 45, 80, 25, 82,\n",
       "       19, 41, 46, 95, 12,  2, 79, 87, 31, 84, 78, 73,  8, 67, 62, 93, 31,\n",
       "       77, 40, 17, 72, 70, 39, 84, 24, 77, 64, 74, 63, 87, 13, 59, 92, 53,\n",
       "       96, 27, 69, 72, 52, 40, 56, 90, 97, 57, 23,  4,  3, 90, 42, 89, 55,\n",
       "       95, 72,  1, 22,  1, 12, 94, 95, 41, 55, 56, 62, 27, 91, 39, 18, 88,\n",
       "        6, 25,  9, 65, 38, 83, 57, 27, 97, 21,  1, 48, 74,  6,  5, 73, 16,\n",
       "       14, 10, 45, 84, 79, 63, 61, 60, 50,  2, 32, 83, 95, 17, 46, 58, 51,\n",
       "       65, 69, 78, 78, 17, 84, 67,  0, 26, 65, 59, 14, 68, 46, 86, 66, 81,\n",
       "       30, 72, 20, 60, 98, 49, 76, 47, 63, 60, 98, 26, 28, 67, 87, 73, 44,\n",
       "       70, 25, 81, 47,  3, 33, 23, 36, 94, 63, 49,  4,  6, 73, 15, 19, 74,\n",
       "       43, 27, 73, 85, 89, 28,  0, 93, 75, 70, 42, 71, 29, 93, 58, 18, 52,\n",
       "       14, 94, 54, 85, 61, 85, 51, 81, 11, 72, 66, 67, 34, 72, 91, 66, 67,\n",
       "       86, 61, 29, 97,  5, 82, 71, 86, 40, 42, 79, 93, 69, 67, 95, 45, 57,\n",
       "       86, 10, 26, 38, 11, 15, 12, 20, 38, 29])"
      ]
     },
     "execution_count": 80,
     "metadata": {},
     "output_type": "execute_result"
    }
   ],
   "source": [
    "train_labels"
   ]
  },
  {
   "cell_type": "code",
   "execution_count": 81,
   "metadata": {},
   "outputs": [
    {
     "data": {
      "text/plain": [
       "(99,)"
      ]
     },
     "execution_count": 81,
     "metadata": {},
     "output_type": "execute_result"
    }
   ],
   "source": [
    "valid_labels.shape"
   ]
  },
  {
   "cell_type": "code",
   "execution_count": 82,
   "metadata": {},
   "outputs": [
    {
     "data": {
      "text/plain": [
       "array([96,  4, 80,  8, 26,  7, 98, 38, 53, 72, 68, 58, 34, 60, 89,  9, 86,\n",
       "       54, 40,  6, 21, 49, 29, 75, 91, 27, 33, 11, 95, 57, 32, 35, 61, 19,\n",
       "       12, 44, 31, 41, 24, 94, 30, 18, 17,  1, 45, 20, 48, 10, 84, 67, 37,\n",
       "       81, 93, 59, 66, 23, 22, 64, 83, 46, 69, 25, 79, 50, 47, 90, 51,  3,\n",
       "       15,  2, 39, 73,  5, 63, 97, 82, 92, 85, 74, 36, 71, 13, 14, 70, 88,\n",
       "       55, 28, 16, 56,  0, 43, 65, 76, 42, 52, 78, 77, 62, 87])"
      ]
     },
     "execution_count": 82,
     "metadata": {},
     "output_type": "execute_result"
    }
   ],
   "source": [
    "valid_labels"
   ]
  },
  {
   "cell_type": "markdown",
   "metadata": {},
   "source": [
    "### reformat function"
   ]
  },
  {
   "cell_type": "code",
   "execution_count": 14,
   "metadata": {
    "collapsed": true
   },
   "outputs": [],
   "source": [
    "def reformat(labels):\n",
    "    labels = (np.arange(99) == labels[:,None]).astype(np.float32)\n",
    "    return labels\n",
    "train_labels = reformat(train_labels)\n",
    "valid_labels = reformat(valid_labels)"
   ]
  },
  {
   "cell_type": "code",
   "execution_count": 15,
   "metadata": {},
   "outputs": [
    {
     "data": {
      "text/plain": [
       "(792, 99)"
      ]
     },
     "execution_count": 15,
     "metadata": {},
     "output_type": "execute_result"
    }
   ],
   "source": [
    "train_labels.shape"
   ]
  },
  {
   "cell_type": "code",
   "execution_count": 85,
   "metadata": {},
   "outputs": [
    {
     "data": {
      "text/plain": [
       "array([[ 0.,  0.,  0., ...,  0.,  0.,  0.],\n",
       "       [ 0.,  0.,  0., ...,  0.,  0.,  0.],\n",
       "       [ 0.,  0.,  0., ...,  0.,  0.,  0.],\n",
       "       ..., \n",
       "       [ 0.,  0.,  0., ...,  0.,  0.,  0.],\n",
       "       [ 0.,  0.,  0., ...,  0.,  0.,  0.],\n",
       "       [ 0.,  0.,  0., ...,  0.,  0.,  0.]], dtype=float32)"
      ]
     },
     "execution_count": 85,
     "metadata": {},
     "output_type": "execute_result"
    }
   ],
   "source": [
    "train_labels"
   ]
  },
  {
   "cell_type": "code",
   "execution_count": 16,
   "metadata": {},
   "outputs": [
    {
     "data": {
      "text/plain": [
       "(99, 99)"
      ]
     },
     "execution_count": 16,
     "metadata": {},
     "output_type": "execute_result"
    }
   ],
   "source": [
    "valid_labels.shape"
   ]
  },
  {
   "cell_type": "code",
   "execution_count": 87,
   "metadata": {},
   "outputs": [
    {
     "data": {
      "text/plain": [
       "array([[ 0.,  0.,  0., ...,  1.,  0.,  0.],\n",
       "       [ 0.,  0.,  0., ...,  0.,  0.,  0.],\n",
       "       [ 0.,  0.,  0., ...,  0.,  0.,  0.],\n",
       "       ..., \n",
       "       [ 0.,  0.,  0., ...,  0.,  0.,  0.],\n",
       "       [ 0.,  0.,  0., ...,  0.,  0.,  0.],\n",
       "       [ 0.,  0.,  0., ...,  0.,  0.,  0.]], dtype=float32)"
      ]
     },
     "execution_count": 87,
     "metadata": {},
     "output_type": "execute_result"
    }
   ],
   "source": [
    "valid_labels"
   ]
  },
  {
   "cell_type": "code",
   "execution_count": 17,
   "metadata": {
    "collapsed": true
   },
   "outputs": [],
   "source": [
    "input_layer = Input(shape=(64,64,1))"
   ]
  },
  {
   "cell_type": "code",
   "execution_count": 18,
   "metadata": {},
   "outputs": [
    {
     "data": {
      "text/plain": [
       "<tf.Tensor 'input_1:0' shape=(?, 64, 64, 1) dtype=float32>"
      ]
     },
     "execution_count": 18,
     "metadata": {},
     "output_type": "execute_result"
    }
   ],
   "source": [
    "input_layer"
   ]
  },
  {
   "cell_type": "code",
   "execution_count": 19,
   "metadata": {},
   "outputs": [
    {
     "data": {
      "text/plain": [
       "TensorShape([Dimension(None), Dimension(64), Dimension(64), Dimension(1)])"
      ]
     },
     "execution_count": 19,
     "metadata": {},
     "output_type": "execute_result"
    }
   ],
   "source": [
    "input_layer.shape"
   ]
  },
  {
   "cell_type": "markdown",
   "metadata": {},
   "source": [
    "### Frankenstein Neural Network (FNN)\n",
    "* Neural Network the functional way ( concating images and features)"
   ]
  },
  {
   "cell_type": "code",
   "execution_count": 143,
   "metadata": {},
   "outputs": [],
   "source": [
    "# first network only for the images\n",
    "\n",
    "Input_layer = Input(shape=(64,64,1))\n",
    "\n",
    "first = Conv2D(8, kernel_size=(3,3), activation= \"relu\", padding= \"same\")(Input_layer)\n",
    "\n",
    "first = Conv2D(16, kernel_size=(3,3), activation = \"relu\")(first)\n",
    "\n",
    "first = Dropout(.5)(first)\n",
    "\n",
    "first = MaxPool2D(pool_size=(2, 2), strides=(2, 2))(first)\n",
    "\n",
    "first = Flatten()(first)"
   ]
  },
  {
   "cell_type": "code",
   "execution_count": 144,
   "metadata": {},
   "outputs": [],
   "source": [
    "#second network only for the pre_extracted features\n",
    "\n",
    "Input_layer_features = Input(shape=(192,1),name='second')\n",
    "\n",
    "second = Dense(100, activation = \"relu\")(Input_layer_features)\n",
    "\n",
    "second = MaxPool1D()(second)\n",
    "\n",
    "second = Flatten()(second)\n"
   ]
  },
  {
   "cell_type": "code",
   "execution_count": 145,
   "metadata": {
    "collapsed": true
   },
   "outputs": [],
   "source": [
    "\n",
    "from keras.layers import concatenate#,Add"
   ]
  },
  {
   "cell_type": "code",
   "execution_count": 146,
   "metadata": {},
   "outputs": [
    {
     "data": {
      "text/plain": [
       "tensorflow.python.framework.ops.Tensor"
      ]
     },
     "execution_count": 146,
     "metadata": {},
     "output_type": "execute_result"
    }
   ],
   "source": [
    "#concating the first network(the images only) and the second network(the pre_extracted features only)\n",
    "combined = concatenate([first,second])\n",
    "type(combined)"
   ]
  },
  {
   "cell_type": "code",
   "execution_count": 147,
   "metadata": {
    "collapsed": true
   },
   "outputs": [],
   "source": [
    "combined = Dense(100, activation= \"relu\")(combined)\n",
    "combined = Dropout(.5)(combined)\n",
    "#output layer\n",
    "output_layer = Dense(99, activation=\"softmax\")(combined)"
   ]
  },
  {
   "cell_type": "code",
   "execution_count": 148,
   "metadata": {},
   "outputs": [
    {
     "data": {
      "text/plain": [
       "<tf.Tensor 'dense_27/Softmax:0' shape=(?, 99) dtype=float32>"
      ]
     },
     "execution_count": 148,
     "metadata": {},
     "output_type": "execute_result"
    }
   ],
   "source": [
    "output_layer"
   ]
  },
  {
   "cell_type": "code",
   "execution_count": 149,
   "metadata": {},
   "outputs": [
    {
     "data": {
      "text/plain": [
       "(99, 64, 64, 1)"
      ]
     },
     "execution_count": 149,
     "metadata": {},
     "output_type": "execute_result"
    }
   ],
   "source": [
    "validation[1][:].shape"
   ]
  },
  {
   "cell_type": "code",
   "execution_count": 150,
   "metadata": {},
   "outputs": [
    {
     "data": {
      "text/plain": [
       "(99, 192)"
      ]
     },
     "execution_count": 150,
     "metadata": {},
     "output_type": "execute_result"
    }
   ],
   "source": [
    "validation[0][:].shape"
   ]
  },
  {
   "cell_type": "code",
   "execution_count": 151,
   "metadata": {},
   "outputs": [],
   "source": [
    "\n",
    "model = Model(inputs=[Input_layer, Input_layer_features],outputs=output_layer)"
   ]
  },
  {
   "cell_type": "code",
   "execution_count": 152,
   "metadata": {
    "collapsed": true
   },
   "outputs": [],
   "source": [
    "#every time you compile your model It will start over the scoring\n",
    "model.compile(optimizer='adam',loss='categorical_crossentropy',\n",
    "              metrics=['accuracy'])"
   ]
  },
  {
   "cell_type": "code",
   "execution_count": 153,
   "metadata": {},
   "outputs": [],
   "source": [
    "# train[1][:].shape\n",
    "# train[0][:].reshape((792,192,1))"
   ]
  },
  {
   "cell_type": "code",
   "execution_count": 154,
   "metadata": {
    "collapsed": true
   },
   "outputs": [],
   "source": [
    "#reshaping from 2D to 3D\n",
    "train_features = train[0][:].reshape((792,192,1))\n",
    "validation_features = validation[0][:].reshape((99,192,1))"
   ]
  },
  {
   "cell_type": "code",
   "execution_count": 155,
   "metadata": {},
   "outputs": [
    {
     "name": "stdout",
     "output_type": "stream",
     "text": [
      "Train on 792 samples, validate on 99 samples\n",
      "Epoch 1/100\n",
      "792/792 [==============================] - 4s - loss: 4.5000 - acc: 0.0417 - val_loss: 4.0854 - val_acc: 0.1616\n",
      "Epoch 2/100\n",
      "792/792 [==============================] - 3s - loss: 3.8691 - acc: 0.1212 - val_loss: 3.3598 - val_acc: 0.3131\n",
      "Epoch 3/100\n",
      "792/792 [==============================] - 4s - loss: 3.2117 - acc: 0.1982 - val_loss: 2.5411 - val_acc: 0.5657\n",
      "Epoch 4/100\n",
      "792/792 [==============================] - 3s - loss: 2.4833 - acc: 0.3497 - val_loss: 1.7373 - val_acc: 0.6869\n",
      "Epoch 5/100\n",
      "792/792 [==============================] - 3s - loss: 1.9061 - acc: 0.4760 - val_loss: 1.1825 - val_acc: 0.8687\n",
      "Epoch 6/100\n",
      "792/792 [==============================] - 3s - loss: 1.5203 - acc: 0.5644 - val_loss: 0.8222 - val_acc: 0.8990\n",
      "Epoch 7/100\n",
      "792/792 [==============================] - 3s - loss: 1.2558 - acc: 0.6528 - val_loss: 0.5485 - val_acc: 0.9192\n",
      "Epoch 8/100\n",
      "792/792 [==============================] - 3s - loss: 1.1060 - acc: 0.6717 - val_loss: 0.4802 - val_acc: 0.9293\n",
      "Epoch 9/100\n",
      "792/792 [==============================] - 3s - loss: 0.9288 - acc: 0.7096 - val_loss: 0.3966 - val_acc: 0.9293\n",
      "Epoch 10/100\n",
      "792/792 [==============================] - 4s - loss: 0.8780 - acc: 0.7134 - val_loss: 0.3064 - val_acc: 0.9495\n",
      "Epoch 11/100\n",
      "792/792 [==============================] - 3s - loss: 0.7436 - acc: 0.7551 - val_loss: 0.2585 - val_acc: 0.9596\n",
      "Epoch 12/100\n",
      "792/792 [==============================] - 4s - loss: 0.6327 - acc: 0.8081 - val_loss: 0.2654 - val_acc: 0.9596\n",
      "Epoch 13/100\n",
      "792/792 [==============================] - 4s - loss: 0.6668 - acc: 0.7955 - val_loss: 0.2023 - val_acc: 0.9899\n",
      "Epoch 14/100\n",
      "792/792 [==============================] - 4s - loss: 0.5620 - acc: 0.8220 - val_loss: 0.2387 - val_acc: 0.9293\n",
      "Epoch 15/100\n",
      "792/792 [==============================] - 4s - loss: 0.5393 - acc: 0.8359 - val_loss: 0.1797 - val_acc: 0.9899\n",
      "Epoch 16/100\n",
      "792/792 [==============================] - 4s - loss: 0.5757 - acc: 0.8144 - val_loss: 0.1831 - val_acc: 0.9596\n",
      "Epoch 17/100\n",
      "792/792 [==============================] - 3s - loss: 0.4514 - acc: 0.8497 - val_loss: 0.1789 - val_acc: 0.9697\n",
      "Epoch 18/100\n",
      "792/792 [==============================] - 3s - loss: 0.4474 - acc: 0.8699 - val_loss: 0.1530 - val_acc: 0.9596\n",
      "Epoch 19/100\n",
      "792/792 [==============================] - 4s - loss: 0.4283 - acc: 0.8598 - val_loss: 0.1660 - val_acc: 0.9798\n",
      "Epoch 20/100\n",
      "792/792 [==============================] - 3s - loss: 0.4696 - acc: 0.8497 - val_loss: 0.1255 - val_acc: 0.9697\n",
      "Epoch 21/100\n",
      "792/792 [==============================] - 4s - loss: 0.4699 - acc: 0.8598 - val_loss: 0.1189 - val_acc: 0.9899\n",
      "Epoch 22/100\n",
      "792/792 [==============================] - 3s - loss: 0.3283 - acc: 0.8889 - val_loss: 0.1092 - val_acc: 0.9697\n",
      "Epoch 23/100\n",
      "792/792 [==============================] - 3s - loss: 0.3997 - acc: 0.8763 - val_loss: 0.1242 - val_acc: 0.9798\n",
      "Epoch 24/100\n",
      "792/792 [==============================] - 3s - loss: 0.3285 - acc: 0.8927 - val_loss: 0.1122 - val_acc: 0.9899\n",
      "Epoch 25/100\n",
      "792/792 [==============================] - 4s - loss: 0.3252 - acc: 0.8952 - val_loss: 0.0924 - val_acc: 0.9697\n",
      "Epoch 26/100\n",
      "792/792 [==============================] - 3s - loss: 0.3124 - acc: 0.8990 - val_loss: 0.0978 - val_acc: 0.9899\n",
      "Epoch 27/100\n",
      "792/792 [==============================] - 3s - loss: 0.3511 - acc: 0.8838 - val_loss: 0.1262 - val_acc: 0.9798\n",
      "Epoch 28/100\n",
      "792/792 [==============================] - 4s - loss: 0.3527 - acc: 0.8851 - val_loss: 0.1163 - val_acc: 0.9697\n",
      "Epoch 29/100\n",
      "792/792 [==============================] - 4s - loss: 0.3432 - acc: 0.8876 - val_loss: 0.0843 - val_acc: 0.9798\n",
      "Epoch 30/100\n",
      "792/792 [==============================] - 3s - loss: 0.3142 - acc: 0.8927 - val_loss: 0.0839 - val_acc: 0.9899\n",
      "Epoch 31/100\n",
      "792/792 [==============================] - 3s - loss: 0.3094 - acc: 0.8927 - val_loss: 0.0947 - val_acc: 0.9798\n",
      "Epoch 32/100\n",
      "792/792 [==============================] - 3s - loss: 0.3445 - acc: 0.8763 - val_loss: 0.1304 - val_acc: 0.9596\n",
      "Epoch 33/100\n",
      "792/792 [==============================] - 3s - loss: 0.2509 - acc: 0.9091 - val_loss: 0.0899 - val_acc: 0.9798\n",
      "Epoch 34/100\n",
      "792/792 [==============================] - 3s - loss: 0.2797 - acc: 0.9167 - val_loss: 0.0660 - val_acc: 1.0000\n",
      "Epoch 35/100\n",
      "792/792 [==============================] - 3s - loss: 0.2528 - acc: 0.9066 - val_loss: 0.0740 - val_acc: 0.9798\n",
      "Epoch 36/100\n",
      "792/792 [==============================] - 3s - loss: 0.2825 - acc: 0.9104 - val_loss: 0.0660 - val_acc: 0.9798\n",
      "Epoch 37/100\n",
      "792/792 [==============================] - 3s - loss: 0.2963 - acc: 0.8977 - val_loss: 0.1160 - val_acc: 0.9697\n",
      "Epoch 38/100\n",
      "792/792 [==============================] - 4s - loss: 0.2384 - acc: 0.9192 - val_loss: 0.0715 - val_acc: 0.9798\n",
      "Epoch 39/100\n",
      "792/792 [==============================] - 3s - loss: 0.2848 - acc: 0.8965 - val_loss: 0.0786 - val_acc: 0.9899\n",
      "Epoch 40/100\n",
      "792/792 [==============================] - 3s - loss: 0.2601 - acc: 0.9091 - val_loss: 0.0917 - val_acc: 0.9798\n",
      "Epoch 41/100\n",
      "792/792 [==============================] - 4s - loss: 0.1842 - acc: 0.9394 - val_loss: 0.0948 - val_acc: 0.9697\n",
      "Epoch 42/100\n",
      "792/792 [==============================] - 4s - loss: 0.2644 - acc: 0.9141 - val_loss: 0.0695 - val_acc: 0.9798\n",
      "Epoch 43/100\n",
      "792/792 [==============================] - 3s - loss: 0.2488 - acc: 0.9040 - val_loss: 0.0926 - val_acc: 0.9798\n",
      "Epoch 44/100\n",
      "792/792 [==============================] - 3s - loss: 0.2332 - acc: 0.9230 - val_loss: 0.0721 - val_acc: 0.9798\n",
      "Epoch 45/100\n",
      "792/792 [==============================] - 4s - loss: 0.2230 - acc: 0.9293 - val_loss: 0.0634 - val_acc: 0.9798\n",
      "Epoch 46/100\n",
      "792/792 [==============================] - 3s - loss: 0.1858 - acc: 0.9356 - val_loss: 0.0705 - val_acc: 0.9697\n",
      "Epoch 47/100\n",
      "792/792 [==============================] - 3s - loss: 0.2619 - acc: 0.9116 - val_loss: 0.0572 - val_acc: 0.9697\n",
      "Epoch 48/100\n",
      "792/792 [==============================] - 4s - loss: 0.2279 - acc: 0.9242 - val_loss: 0.0456 - val_acc: 0.9798\n",
      "Epoch 49/100\n",
      "792/792 [==============================] - 4s - loss: 0.2360 - acc: 0.9217 - val_loss: 0.0661 - val_acc: 0.9697\n",
      "Epoch 50/100\n",
      "792/792 [==============================] - 4s - loss: 0.2541 - acc: 0.9141 - val_loss: 0.0327 - val_acc: 1.0000\n",
      "Epoch 51/100\n",
      "792/792 [==============================] - 3s - loss: 0.2325 - acc: 0.9192 - val_loss: 0.0783 - val_acc: 0.9899\n",
      "Epoch 52/100\n",
      "792/792 [==============================] - 4s - loss: 0.2233 - acc: 0.9255 - val_loss: 0.0615 - val_acc: 0.9899\n",
      "Epoch 53/100\n",
      "792/792 [==============================] - 4s - loss: 0.2341 - acc: 0.9205 - val_loss: 0.0693 - val_acc: 0.9899\n",
      "Epoch 54/100\n",
      "792/792 [==============================] - 4s - loss: 0.1855 - acc: 0.9381 - val_loss: 0.0447 - val_acc: 0.9798\n",
      "Epoch 55/100\n",
      "792/792 [==============================] - 5s - loss: 0.2409 - acc: 0.9167 - val_loss: 0.0625 - val_acc: 0.9697\n",
      "Epoch 56/100\n",
      "792/792 [==============================] - 5s - loss: 0.2441 - acc: 0.9179 - val_loss: 0.0640 - val_acc: 0.9697\n",
      "Epoch 57/100\n",
      "792/792 [==============================] - 3s - loss: 0.2018 - acc: 0.9280 - val_loss: 0.0890 - val_acc: 0.9596\n",
      "Epoch 58/100\n",
      "792/792 [==============================] - 4s - loss: 0.2186 - acc: 0.9268 - val_loss: 0.0543 - val_acc: 0.9899\n",
      "Epoch 59/100\n",
      "792/792 [==============================] - 4s - loss: 0.2420 - acc: 0.9154 - val_loss: 0.0584 - val_acc: 0.9596\n",
      "Epoch 60/100\n",
      "792/792 [==============================] - 4s - loss: 0.1683 - acc: 0.9394 - val_loss: 0.0322 - val_acc: 1.0000\n",
      "Epoch 61/100\n",
      "792/792 [==============================] - 3s - loss: 0.1576 - acc: 0.9470 - val_loss: 0.0320 - val_acc: 0.9899\n",
      "Epoch 62/100\n",
      "792/792 [==============================] - 4s - loss: 0.1572 - acc: 0.9432 - val_loss: 0.0527 - val_acc: 0.9697\n",
      "Epoch 63/100\n",
      "792/792 [==============================] - 3s - loss: 0.1941 - acc: 0.9381 - val_loss: 0.0335 - val_acc: 0.9899\n",
      "Epoch 64/100\n",
      "792/792 [==============================] - 4s - loss: 0.1883 - acc: 0.9318 - val_loss: 0.0320 - val_acc: 1.0000\n",
      "Epoch 65/100\n",
      "792/792 [==============================] - 4s - loss: 0.1687 - acc: 0.9419 - val_loss: 0.0465 - val_acc: 0.9697\n",
      "Epoch 66/100\n"
     ]
    },
    {
     "name": "stdout",
     "output_type": "stream",
     "text": [
      "792/792 [==============================] - 4s - loss: 0.2211 - acc: 0.9293 - val_loss: 0.0728 - val_acc: 0.9798\n",
      "Epoch 67/100\n",
      "792/792 [==============================] - 3s - loss: 0.1891 - acc: 0.9306 - val_loss: 0.0561 - val_acc: 0.9798\n",
      "Epoch 68/100\n",
      "792/792 [==============================] - 3s - loss: 0.1692 - acc: 0.9419 - val_loss: 0.0437 - val_acc: 1.0000\n",
      "Epoch 69/100\n",
      "792/792 [==============================] - 3s - loss: 0.2135 - acc: 0.9318 - val_loss: 0.0403 - val_acc: 0.9899\n",
      "Epoch 70/100\n",
      "792/792 [==============================] - 3s - loss: 0.1820 - acc: 0.9343 - val_loss: 0.0589 - val_acc: 0.9697\n",
      "Epoch 71/100\n",
      "792/792 [==============================] - 3s - loss: 0.1948 - acc: 0.9356 - val_loss: 0.0472 - val_acc: 1.0000\n",
      "Epoch 72/100\n",
      "792/792 [==============================] - 3s - loss: 0.2062 - acc: 0.9318 - val_loss: 0.0647 - val_acc: 0.9798\n",
      "Epoch 73/100\n",
      "792/792 [==============================] - 4s - loss: 0.1453 - acc: 0.9545 - val_loss: 0.0509 - val_acc: 0.9798\n",
      "Epoch 74/100\n",
      "792/792 [==============================] - 4s - loss: 0.1567 - acc: 0.9457 - val_loss: 0.0423 - val_acc: 0.9899\n",
      "Epoch 75/100\n",
      "792/792 [==============================] - 4s - loss: 0.1678 - acc: 0.9457 - val_loss: 0.0407 - val_acc: 0.9798\n",
      "Epoch 76/100\n",
      "792/792 [==============================] - 4s - loss: 0.1348 - acc: 0.9571 - val_loss: 0.0454 - val_acc: 0.9899\n",
      "Epoch 77/100\n",
      "792/792 [==============================] - 4s - loss: 0.1880 - acc: 0.9343 - val_loss: 0.0348 - val_acc: 0.9899\n",
      "Epoch 78/100\n",
      "792/792 [==============================] - 4s - loss: 0.1851 - acc: 0.9280 - val_loss: 0.0582 - val_acc: 0.9798\n",
      "Epoch 79/100\n",
      "792/792 [==============================] - 3s - loss: 0.1820 - acc: 0.9419 - val_loss: 0.0717 - val_acc: 0.9697\n",
      "Epoch 80/100\n",
      "792/792 [==============================] - 4s - loss: 0.1619 - acc: 0.9444 - val_loss: 0.1002 - val_acc: 0.9596\n",
      "Epoch 81/100\n",
      "792/792 [==============================] - 4s - loss: 0.1631 - acc: 0.9457 - val_loss: 0.0722 - val_acc: 0.9697\n",
      "Epoch 82/100\n",
      "792/792 [==============================] - 4s - loss: 0.2316 - acc: 0.9154 - val_loss: 0.0384 - val_acc: 1.0000\n",
      "Epoch 83/100\n",
      "792/792 [==============================] - 3s - loss: 0.1779 - acc: 0.9407 - val_loss: 0.0498 - val_acc: 0.9798\n",
      "Epoch 84/100\n",
      "792/792 [==============================] - 3s - loss: 0.1905 - acc: 0.9318 - val_loss: 0.0637 - val_acc: 0.9798\n",
      "Epoch 85/100\n",
      "792/792 [==============================] - 3s - loss: 0.1543 - acc: 0.9407 - val_loss: 0.1025 - val_acc: 0.9798\n",
      "Epoch 86/100\n",
      "792/792 [==============================] - 3s - loss: 0.1790 - acc: 0.9369 - val_loss: 0.1353 - val_acc: 0.9596\n",
      "Epoch 87/100\n",
      "792/792 [==============================] - 3s - loss: 0.1904 - acc: 0.9230 - val_loss: 0.0668 - val_acc: 0.9697\n",
      "Epoch 88/100\n",
      "792/792 [==============================] - 3s - loss: 0.1368 - acc: 0.9508 - val_loss: 0.0465 - val_acc: 0.9798\n",
      "Epoch 89/100\n",
      "792/792 [==============================] - 3s - loss: 0.1679 - acc: 0.9432 - val_loss: 0.0843 - val_acc: 0.9697\n",
      "Epoch 90/100\n",
      "792/792 [==============================] - 3s - loss: 0.1639 - acc: 0.9394 - val_loss: 0.0325 - val_acc: 0.9798\n",
      "Epoch 91/100\n",
      "792/792 [==============================] - 3s - loss: 0.1517 - acc: 0.9520 - val_loss: 0.0543 - val_acc: 0.9697\n",
      "Epoch 92/100\n",
      "792/792 [==============================] - 3s - loss: 0.1491 - acc: 0.9457 - val_loss: 0.0376 - val_acc: 0.9798\n",
      "Epoch 93/100\n",
      "792/792 [==============================] - 3s - loss: 0.1304 - acc: 0.9596 - val_loss: 0.0671 - val_acc: 0.9697\n",
      "Epoch 94/100\n",
      "792/792 [==============================] - 3s - loss: 0.1553 - acc: 0.9394 - val_loss: 0.0462 - val_acc: 0.9697\n",
      "Epoch 95/100\n",
      "792/792 [==============================] - 3s - loss: 0.1491 - acc: 0.9508 - val_loss: 0.0583 - val_acc: 0.9697\n",
      "Epoch 96/100\n",
      "792/792 [==============================] - 3s - loss: 0.1720 - acc: 0.9407 - val_loss: 0.0672 - val_acc: 0.9697\n",
      "Epoch 97/100\n",
      "792/792 [==============================] - 3s - loss: 0.1393 - acc: 0.9545 - val_loss: 0.0458 - val_acc: 0.9798\n",
      "Epoch 98/100\n",
      "792/792 [==============================] - 3s - loss: 0.1470 - acc: 0.9495 - val_loss: 0.0612 - val_acc: 0.9596\n",
      "Epoch 99/100\n",
      "792/792 [==============================] - 3s - loss: 0.1703 - acc: 0.9444 - val_loss: 0.0602 - val_acc: 0.9697\n",
      "Epoch 100/100\n",
      "792/792 [==============================] - 3s - loss: 0.1356 - acc: 0.9508 - val_loss: 0.0477 - val_acc: 0.9697\n"
     ]
    }
   ],
   "source": [
    "history_cat = model.fit([train[1][:],\n",
    "                         train_features],\n",
    "                        train_labels,\n",
    "                        validation_data = ([validation[1][:],\n",
    "                                            validation_features],\n",
    "                                           valid_labels),epochs= 100)\n"
   ]
  },
  {
   "cell_type": "code",
   "execution_count": 174,
   "metadata": {},
   "outputs": [
    {
     "data": {
      "text/plain": [
       "1.0"
      ]
     },
     "execution_count": 174,
     "metadata": {},
     "output_type": "execute_result"
    }
   ],
   "source": [
    "np.max(history_cat.history['val_acc'])"
   ]
  },
  {
   "cell_type": "code",
   "execution_count": 175,
   "metadata": {},
   "outputs": [
    {
     "data": {
      "text/plain": [
       "0.032019013430772708"
      ]
     },
     "execution_count": 175,
     "metadata": {},
     "output_type": "execute_result"
    }
   ],
   "source": [
    "np.min(history_cat.history['val_loss'])"
   ]
  },
  {
   "cell_type": "code",
   "execution_count": 176,
   "metadata": {},
   "outputs": [
    {
     "data": {
      "text/plain": [
       "0.95959596019802673"
      ]
     },
     "execution_count": 176,
     "metadata": {},
     "output_type": "execute_result"
    }
   ],
   "source": [
    "np.max(history_cat.history['acc'])"
   ]
  },
  {
   "cell_type": "code",
   "execution_count": 177,
   "metadata": {},
   "outputs": [
    {
     "data": {
      "text/plain": [
       "0.13039327217171889"
      ]
     },
     "execution_count": 177,
     "metadata": {},
     "output_type": "execute_result"
    }
   ],
   "source": [
    "np.min(history_cat.history['loss'])"
   ]
  },
  {
   "cell_type": "code",
   "execution_count": 166,
   "metadata": {},
   "outputs": [
    {
     "data": {
      "image/png": "[encoded data removed]",
      "text/plain": [
       "<matplotlib.figure.Figure at 0x7f70b6039110>"
      ]
     },
     "metadata": {},
     "output_type": "display_data"
    }
   ],
   "source": [
    "plt.plot(history_cat.history['val_acc'])\n",
    "plt.plot(history_cat.history[\"acc\"])\n",
    "plt.show()"
   ]
  },
  {
   "cell_type": "code",
   "execution_count": 164,
   "metadata": {},
   "outputs": [
    {
     "data": {
      "text/plain": [
       "<matplotlib.legend.Legend at 0x7f70b6194590>"
      ]
     },
     "execution_count": 164,
     "metadata": {},
     "output_type": "execute_result"
    },
    {
     "data": {
      "image/png": "[encoded data removed]",
      "text/plain": [
       "<matplotlib.figure.Figure at 0x7f70bbd2b310>"
      ]
     },
     "metadata": {},
     "output_type": "display_data"
    }
   ],
   "source": [
    "import matplotlib.pyplot as plt\n",
    "import seaborn as sns\n",
    "%matplotlib inline\n",
    "plt.plot(history_cat.history['loss'])\n",
    "plt.plot(history_cat.history['val_loss'])\n",
    "plt.title('model loss')\n",
    "plt.ylabel('loss')\n",
    "plt.xlabel('epoch')\n",
    "plt.legend(['train', 'validation'], loc='upper left')"
   ]
  },
  {
   "cell_type": "code",
   "execution_count": 161,
   "metadata": {},
   "outputs": [
    {
     "name": "stdout",
     "output_type": "stream",
     "text": [
      "Train on 792 samples, validate on 99 samples\n",
      "Epoch 1/200\n",
      "792/792 [==============================] - 3s - loss: 0.1708 - acc: 0.9470 - val_loss: 0.0648 - val_acc: 0.9899\n",
      "Epoch 2/200\n",
      "792/792 [==============================] - 3s - loss: 0.1407 - acc: 0.9571 - val_loss: 0.0751 - val_acc: 0.9798\n",
      "Epoch 3/200\n",
      "792/792 [==============================] - 3s - loss: 0.1369 - acc: 0.9558 - val_loss: 0.0691 - val_acc: 0.9798\n",
      "Epoch 4/200\n",
      "792/792 [==============================] - 3s - loss: 0.1616 - acc: 0.9495 - val_loss: 0.1728 - val_acc: 0.9495\n",
      "Epoch 5/200\n",
      "792/792 [==============================] - 3s - loss: 0.1768 - acc: 0.9394 - val_loss: 0.0899 - val_acc: 0.9697\n",
      "Epoch 6/200\n",
      "792/792 [==============================] - 4s - loss: 0.1667 - acc: 0.9318 - val_loss: 0.0682 - val_acc: 0.9697\n",
      "Epoch 7/200\n",
      "792/792 [==============================] - 4s - loss: 0.1345 - acc: 0.9508 - val_loss: 0.1104 - val_acc: 0.9596\n",
      "Epoch 8/200\n",
      "792/792 [==============================] - 3s - loss: 0.1473 - acc: 0.9520 - val_loss: 0.1172 - val_acc: 0.9798\n",
      "Epoch 9/200\n",
      "792/792 [==============================] - 4s - loss: 0.1638 - acc: 0.9394 - val_loss: 0.1456 - val_acc: 0.9697\n",
      "Epoch 10/200\n",
      "792/792 [==============================] - 3s - loss: 0.1532 - acc: 0.9432 - val_loss: 0.1236 - val_acc: 0.9596\n",
      "Epoch 11/200\n",
      "792/792 [==============================] - 4s - loss: 0.1311 - acc: 0.9508 - val_loss: 0.1007 - val_acc: 0.9798\n",
      "Epoch 12/200\n",
      "792/792 [==============================] - 4s - loss: 0.1166 - acc: 0.9533 - val_loss: 0.0914 - val_acc: 0.9798\n",
      "Epoch 13/200\n",
      "792/792 [==============================] - 4s - loss: 0.1372 - acc: 0.9583 - val_loss: 0.1159 - val_acc: 0.9596\n",
      "Epoch 14/200\n",
      "792/792 [==============================] - 3s - loss: 0.1784 - acc: 0.9419 - val_loss: 0.1568 - val_acc: 0.9596\n",
      "Epoch 15/200\n",
      "792/792 [==============================] - 3s - loss: 0.1258 - acc: 0.9634 - val_loss: 0.1014 - val_acc: 0.9596\n",
      "Epoch 16/200\n",
      "792/792 [==============================] - 3s - loss: 0.1424 - acc: 0.9520 - val_loss: 0.1159 - val_acc: 0.9697\n",
      "Epoch 17/200\n",
      "792/792 [==============================] - 3s - loss: 0.1428 - acc: 0.9508 - val_loss: 0.1312 - val_acc: 0.9495\n",
      "Epoch 18/200\n",
      "792/792 [==============================] - 3s - loss: 0.1443 - acc: 0.9369 - val_loss: 0.1156 - val_acc: 0.9596\n",
      "Epoch 19/200\n",
      "792/792 [==============================] - 3s - loss: 0.1395 - acc: 0.9495 - val_loss: 0.0892 - val_acc: 0.9596\n",
      "Epoch 20/200\n",
      "792/792 [==============================] - 3s - loss: 0.1342 - acc: 0.9470 - val_loss: 0.0824 - val_acc: 0.9798\n",
      "Epoch 21/200\n",
      "792/792 [==============================] - 4s - loss: 0.1273 - acc: 0.9583 - val_loss: 0.0909 - val_acc: 0.9697\n",
      "Epoch 22/200\n",
      "792/792 [==============================] - 3s - loss: 0.1208 - acc: 0.9545 - val_loss: 0.0870 - val_acc: 0.9697\n",
      "Epoch 23/200\n",
      "792/792 [==============================] - 3s - loss: 0.1203 - acc: 0.9634 - val_loss: 0.0895 - val_acc: 0.9697\n",
      "Epoch 24/200\n",
      "792/792 [==============================] - 3s - loss: 0.1501 - acc: 0.9508 - val_loss: 0.0629 - val_acc: 0.9798\n",
      "Epoch 25/200\n",
      "792/792 [==============================] - 3s - loss: 0.1106 - acc: 0.9596 - val_loss: 0.1161 - val_acc: 0.9596\n",
      "Epoch 26/200\n",
      "792/792 [==============================] - 3s - loss: 0.1332 - acc: 0.9508 - val_loss: 0.0714 - val_acc: 0.9697\n",
      "Epoch 27/200\n",
      "792/792 [==============================] - 3s - loss: 0.1330 - acc: 0.9545 - val_loss: 0.1038 - val_acc: 0.9596\n",
      "Epoch 28/200\n",
      "792/792 [==============================] - 3s - loss: 0.1418 - acc: 0.9545 - val_loss: 0.1575 - val_acc: 0.9596\n",
      "Epoch 29/200\n",
      "792/792 [==============================] - 4s - loss: 0.1082 - acc: 0.9621 - val_loss: 0.1281 - val_acc: 0.9697\n",
      "Epoch 30/200\n",
      "792/792 [==============================] - 3s - loss: 0.1499 - acc: 0.9482 - val_loss: 0.1567 - val_acc: 0.9596\n",
      "Epoch 31/200\n",
      "792/792 [==============================] - 3s - loss: 0.1863 - acc: 0.9331 - val_loss: 0.0906 - val_acc: 0.9798\n",
      "Epoch 32/200\n",
      "792/792 [==============================] - 4s - loss: 0.1469 - acc: 0.9558 - val_loss: 0.1020 - val_acc: 0.9697\n",
      "Epoch 33/200\n",
      "792/792 [==============================] - 4s - loss: 0.1445 - acc: 0.9508 - val_loss: 0.1499 - val_acc: 0.9596\n",
      "Epoch 34/200\n",
      "792/792 [==============================] - 3s - loss: 0.1005 - acc: 0.9659 - val_loss: 0.1029 - val_acc: 0.9798\n",
      "Epoch 35/200\n",
      "792/792 [==============================] - 3s - loss: 0.1146 - acc: 0.9609 - val_loss: 0.0774 - val_acc: 0.9899\n",
      "Epoch 36/200\n",
      "792/792 [==============================] - 3s - loss: 0.1344 - acc: 0.9508 - val_loss: 0.1191 - val_acc: 0.9697\n",
      "Epoch 37/200\n",
      "792/792 [==============================] - 3s - loss: 0.1248 - acc: 0.9558 - val_loss: 0.1176 - val_acc: 0.9697\n",
      "Epoch 38/200\n",
      "792/792 [==============================] - 4s - loss: 0.1192 - acc: 0.9596 - val_loss: 0.1376 - val_acc: 0.9697\n",
      "Epoch 39/200\n",
      "792/792 [==============================] - 3s - loss: 0.1581 - acc: 0.9495 - val_loss: 0.0830 - val_acc: 0.9697\n",
      "Epoch 40/200\n",
      "792/792 [==============================] - 3s - loss: 0.1073 - acc: 0.9634 - val_loss: 0.1064 - val_acc: 0.9596\n",
      "Epoch 41/200\n",
      "792/792 [==============================] - 3s - loss: 0.1465 - acc: 0.9419 - val_loss: 0.1291 - val_acc: 0.9697\n",
      "Epoch 42/200\n",
      "792/792 [==============================] - 3s - loss: 0.0923 - acc: 0.9634 - val_loss: 0.1090 - val_acc: 0.9495\n",
      "Epoch 43/200\n",
      "792/792 [==============================] - 3s - loss: 0.1105 - acc: 0.9609 - val_loss: 0.1430 - val_acc: 0.9394\n",
      "Epoch 44/200\n",
      "792/792 [==============================] - 3s - loss: 0.1235 - acc: 0.9596 - val_loss: 0.1563 - val_acc: 0.9596\n",
      "Epoch 45/200\n",
      "792/792 [==============================] - 4s - loss: 0.1114 - acc: 0.9558 - val_loss: 0.1095 - val_acc: 0.9596\n",
      "Epoch 46/200\n",
      "792/792 [==============================] - 3s - loss: 0.1362 - acc: 0.9558 - val_loss: 0.1339 - val_acc: 0.9495\n",
      "Epoch 47/200\n",
      "792/792 [==============================] - 3s - loss: 0.1057 - acc: 0.9609 - val_loss: 0.1088 - val_acc: 0.9697\n",
      "Epoch 48/200\n",
      "792/792 [==============================] - 3s - loss: 0.1460 - acc: 0.9444 - val_loss: 0.0965 - val_acc: 0.9697\n",
      "Epoch 49/200\n",
      "792/792 [==============================] - 3s - loss: 0.1405 - acc: 0.9520 - val_loss: 0.0873 - val_acc: 0.9798\n",
      "Epoch 50/200\n",
      "792/792 [==============================] - 3s - loss: 0.1116 - acc: 0.9659 - val_loss: 0.1500 - val_acc: 0.9495\n",
      "Epoch 51/200\n",
      "792/792 [==============================] - 3s - loss: 0.1028 - acc: 0.9710 - val_loss: 0.0892 - val_acc: 0.9495\n",
      "Epoch 52/200\n",
      "792/792 [==============================] - 4s - loss: 0.1092 - acc: 0.9634 - val_loss: 0.0857 - val_acc: 0.9798\n",
      "Epoch 53/200\n",
      "792/792 [==============================] - 3s - loss: 0.1021 - acc: 0.9583 - val_loss: 0.0836 - val_acc: 0.9899\n",
      "Epoch 54/200\n",
      "792/792 [==============================] - 3s - loss: 0.1223 - acc: 0.9558 - val_loss: 0.1062 - val_acc: 0.9697\n",
      "Epoch 55/200\n",
      "792/792 [==============================] - 3s - loss: 0.0821 - acc: 0.9735 - val_loss: 0.1246 - val_acc: 0.9596\n",
      "Epoch 56/200\n",
      "792/792 [==============================] - 3s - loss: 0.0988 - acc: 0.9634 - val_loss: 0.1334 - val_acc: 0.9596\n",
      "Epoch 57/200\n",
      "792/792 [==============================] - 3s - loss: 0.0985 - acc: 0.9634 - val_loss: 0.1399 - val_acc: 0.9596\n",
      "Epoch 58/200\n",
      "792/792 [==============================] - 3s - loss: 0.1457 - acc: 0.9508 - val_loss: 0.1188 - val_acc: 0.9495\n",
      "Epoch 59/200\n",
      "792/792 [==============================] - 3s - loss: 0.1044 - acc: 0.9634 - val_loss: 0.1451 - val_acc: 0.9596\n",
      "Epoch 60/200\n",
      "792/792 [==============================] - 3s - loss: 0.1062 - acc: 0.9621 - val_loss: 0.1082 - val_acc: 0.9697\n",
      "Epoch 61/200\n",
      "792/792 [==============================] - 3s - loss: 0.1040 - acc: 0.9672 - val_loss: 0.0900 - val_acc: 0.9596\n",
      "Epoch 62/200\n",
      "792/792 [==============================] - 4s - loss: 0.1168 - acc: 0.9672 - val_loss: 0.0778 - val_acc: 0.9596\n",
      "Epoch 63/200\n",
      "792/792 [==============================] - 3s - loss: 0.1058 - acc: 0.9634 - val_loss: 0.0509 - val_acc: 0.9697\n",
      "Epoch 64/200\n",
      "792/792 [==============================] - 3s - loss: 0.1110 - acc: 0.9659 - val_loss: 0.0966 - val_acc: 0.9596\n",
      "Epoch 65/200\n",
      "792/792 [==============================] - 3s - loss: 0.1288 - acc: 0.9571 - val_loss: 0.0874 - val_acc: 0.9697\n",
      "Epoch 66/200\n"
     ]
    },
    {
     "name": "stdout",
     "output_type": "stream",
     "text": [
      "792/792 [==============================] - 3s - loss: 0.1305 - acc: 0.9533 - val_loss: 0.0835 - val_acc: 0.9697\n",
      "Epoch 67/200\n",
      "792/792 [==============================] - 3s - loss: 0.1044 - acc: 0.9697 - val_loss: 0.1065 - val_acc: 0.9495\n",
      "Epoch 68/200\n",
      "792/792 [==============================] - 3s - loss: 0.1017 - acc: 0.9609 - val_loss: 0.0936 - val_acc: 0.9798\n",
      "Epoch 69/200\n",
      "792/792 [==============================] - 3s - loss: 0.0977 - acc: 0.9672 - val_loss: 0.0341 - val_acc: 1.0000\n",
      "Epoch 70/200\n",
      "792/792 [==============================] - 3s - loss: 0.1058 - acc: 0.9533 - val_loss: 0.0843 - val_acc: 0.9697\n",
      "Epoch 71/200\n",
      "792/792 [==============================] - 3s - loss: 0.0882 - acc: 0.9722 - val_loss: 0.0966 - val_acc: 0.9495\n",
      "Epoch 72/200\n",
      "792/792 [==============================] - 3s - loss: 0.0880 - acc: 0.9722 - val_loss: 0.0910 - val_acc: 0.9596\n",
      "Epoch 73/200\n",
      "792/792 [==============================] - 3s - loss: 0.0972 - acc: 0.9609 - val_loss: 0.0434 - val_acc: 0.9798\n",
      "Epoch 74/200\n",
      "792/792 [==============================] - 3s - loss: 0.0873 - acc: 0.9722 - val_loss: 0.0465 - val_acc: 0.9798\n",
      "Epoch 75/200\n",
      "792/792 [==============================] - 4s - loss: 0.1226 - acc: 0.9571 - val_loss: 0.0785 - val_acc: 0.9697\n",
      "Epoch 76/200\n",
      "792/792 [==============================] - 4s - loss: 0.1175 - acc: 0.9621 - val_loss: 0.0905 - val_acc: 0.9697\n",
      "Epoch 77/200\n",
      "792/792 [==============================] - 3s - loss: 0.1089 - acc: 0.9634 - val_loss: 0.0747 - val_acc: 0.9899\n",
      "Epoch 78/200\n",
      "792/792 [==============================] - 3s - loss: 0.0831 - acc: 0.9747 - val_loss: 0.0746 - val_acc: 0.9697\n",
      "Epoch 79/200\n",
      "792/792 [==============================] - 3s - loss: 0.1212 - acc: 0.9558 - val_loss: 0.0802 - val_acc: 0.9697\n",
      "Epoch 80/200\n",
      "792/792 [==============================] - 3s - loss: 0.1004 - acc: 0.9646 - val_loss: 0.0735 - val_acc: 0.9697\n",
      "Epoch 81/200\n",
      "792/792 [==============================] - 3s - loss: 0.1382 - acc: 0.9558 - val_loss: 0.0628 - val_acc: 0.9798\n",
      "Epoch 82/200\n",
      "792/792 [==============================] - 3s - loss: 0.1248 - acc: 0.9545 - val_loss: 0.0718 - val_acc: 0.9697\n",
      "Epoch 83/200\n",
      "792/792 [==============================] - 3s - loss: 0.0934 - acc: 0.9722 - val_loss: 0.0691 - val_acc: 0.9798\n",
      "Epoch 84/200\n",
      "792/792 [==============================] - 3s - loss: 0.1451 - acc: 0.9545 - val_loss: 0.0768 - val_acc: 0.9697\n",
      "Epoch 85/200\n",
      "792/792 [==============================] - 3s - loss: 0.0971 - acc: 0.9672 - val_loss: 0.0521 - val_acc: 0.9798\n",
      "Epoch 86/200\n",
      "792/792 [==============================] - 3s - loss: 0.0804 - acc: 0.9684 - val_loss: 0.0599 - val_acc: 0.9697\n",
      "Epoch 87/200\n",
      "792/792 [==============================] - 3s - loss: 0.0751 - acc: 0.9747 - val_loss: 0.0429 - val_acc: 0.9798\n",
      "Epoch 88/200\n",
      "792/792 [==============================] - 4s - loss: 0.0973 - acc: 0.9710 - val_loss: 0.0566 - val_acc: 0.9899\n",
      "Epoch 89/200\n",
      "792/792 [==============================] - 3s - loss: 0.0918 - acc: 0.9659 - val_loss: 0.0573 - val_acc: 0.9899\n",
      "Epoch 90/200\n",
      "792/792 [==============================] - 3s - loss: 0.0652 - acc: 0.9760 - val_loss: 0.0517 - val_acc: 0.9899\n",
      "Epoch 91/200\n",
      "792/792 [==============================] - 3s - loss: 0.0863 - acc: 0.9697 - val_loss: 0.0547 - val_acc: 0.9798\n",
      "Epoch 92/200\n",
      "792/792 [==============================] - 4s - loss: 0.0977 - acc: 0.9659 - val_loss: 0.0427 - val_acc: 0.9697\n",
      "Epoch 93/200\n",
      "792/792 [==============================] - 4s - loss: 0.1039 - acc: 0.9659 - val_loss: 0.0551 - val_acc: 0.9697\n",
      "Epoch 94/200\n",
      "792/792 [==============================] - 3s - loss: 0.0857 - acc: 0.9646 - val_loss: 0.0635 - val_acc: 0.9697\n",
      "Epoch 95/200\n",
      "792/792 [==============================] - 3s - loss: 0.0864 - acc: 0.9735 - val_loss: 0.0676 - val_acc: 0.9697\n",
      "Epoch 96/200\n",
      "792/792 [==============================] - 3s - loss: 0.0906 - acc: 0.9621 - val_loss: 0.0944 - val_acc: 0.9495\n",
      "Epoch 97/200\n",
      "792/792 [==============================] - 4s - loss: 0.1178 - acc: 0.9659 - val_loss: 0.0733 - val_acc: 0.9798\n",
      "Epoch 98/200\n",
      "792/792 [==============================] - 4s - loss: 0.0838 - acc: 0.9722 - val_loss: 0.0997 - val_acc: 0.9596\n",
      "Epoch 99/200\n",
      "792/792 [==============================] - 4s - loss: 0.0976 - acc: 0.9735 - val_loss: 0.0735 - val_acc: 0.9798\n",
      "Epoch 100/200\n",
      "792/792 [==============================] - 3s - loss: 0.0945 - acc: 0.9646 - val_loss: 0.1049 - val_acc: 0.9798\n",
      "Epoch 101/200\n",
      "792/792 [==============================] - 3s - loss: 0.0817 - acc: 0.9710 - val_loss: 0.0484 - val_acc: 0.9798\n",
      "Epoch 102/200\n",
      "792/792 [==============================] - 3s - loss: 0.0854 - acc: 0.9710 - val_loss: 0.0727 - val_acc: 0.9697\n",
      "Epoch 103/200\n",
      "792/792 [==============================] - 4s - loss: 0.1258 - acc: 0.9533 - val_loss: 0.0667 - val_acc: 0.9697\n",
      "Epoch 104/200\n",
      "792/792 [==============================] - 3s - loss: 0.0624 - acc: 0.9798 - val_loss: 0.1651 - val_acc: 0.9293\n",
      "Epoch 105/200\n",
      "792/792 [==============================] - 3s - loss: 0.0811 - acc: 0.9697 - val_loss: 0.1250 - val_acc: 0.9495\n",
      "Epoch 106/200\n",
      "792/792 [==============================] - 3s - loss: 0.0878 - acc: 0.9697 - val_loss: 0.0927 - val_acc: 0.9697\n",
      "Epoch 107/200\n",
      "792/792 [==============================] - 3s - loss: 0.0923 - acc: 0.9684 - val_loss: 0.0703 - val_acc: 0.9899\n",
      "Epoch 108/200\n",
      "792/792 [==============================] - 3s - loss: 0.0951 - acc: 0.9710 - val_loss: 0.1329 - val_acc: 0.9596\n",
      "Epoch 109/200\n",
      "792/792 [==============================] - 3s - loss: 0.1180 - acc: 0.9634 - val_loss: 0.0959 - val_acc: 0.9596\n",
      "Epoch 110/200\n",
      "792/792 [==============================] - 3s - loss: 0.0944 - acc: 0.9710 - val_loss: 0.1154 - val_acc: 0.9495\n",
      "Epoch 111/200\n",
      "792/792 [==============================] - 3s - loss: 0.0910 - acc: 0.9659 - val_loss: 0.1304 - val_acc: 0.9596\n",
      "Epoch 112/200\n",
      "792/792 [==============================] - 3s - loss: 0.0701 - acc: 0.9735 - val_loss: 0.1441 - val_acc: 0.9495\n",
      "Epoch 113/200\n",
      "792/792 [==============================] - 3s - loss: 0.1068 - acc: 0.9583 - val_loss: 0.1554 - val_acc: 0.9394\n",
      "Epoch 114/200\n",
      "792/792 [==============================] - 3s - loss: 0.0935 - acc: 0.9646 - val_loss: 0.0948 - val_acc: 0.9596\n",
      "Epoch 115/200\n",
      "792/792 [==============================] - 4s - loss: 0.1119 - acc: 0.9558 - val_loss: 0.1488 - val_acc: 0.9293\n",
      "Epoch 116/200\n",
      "792/792 [==============================] - 3s - loss: 0.0653 - acc: 0.9722 - val_loss: 0.1403 - val_acc: 0.9596\n",
      "Epoch 117/200\n",
      "792/792 [==============================] - 3s - loss: 0.0893 - acc: 0.9697 - val_loss: 0.1361 - val_acc: 0.9293\n",
      "Epoch 118/200\n",
      "792/792 [==============================] - 3s - loss: 0.0839 - acc: 0.9697 - val_loss: 0.1255 - val_acc: 0.9394\n",
      "Epoch 119/200\n",
      "792/792 [==============================] - 3s - loss: 0.0751 - acc: 0.9672 - val_loss: 0.0690 - val_acc: 0.9596\n",
      "Epoch 120/200\n",
      "792/792 [==============================] - 3s - loss: 0.0799 - acc: 0.9722 - val_loss: 0.0990 - val_acc: 0.9596\n",
      "Epoch 121/200\n",
      "792/792 [==============================] - 4s - loss: 0.1010 - acc: 0.9684 - val_loss: 0.1135 - val_acc: 0.9697\n",
      "Epoch 122/200\n",
      "792/792 [==============================] - 4s - loss: 0.1008 - acc: 0.9672 - val_loss: 0.1416 - val_acc: 0.9495\n",
      "Epoch 123/200\n",
      "792/792 [==============================] - 4s - loss: 0.0738 - acc: 0.9722 - val_loss: 0.1531 - val_acc: 0.9394\n",
      "Epoch 124/200\n",
      "792/792 [==============================] - 3s - loss: 0.0984 - acc: 0.9646 - val_loss: 0.1456 - val_acc: 0.9495\n",
      "Epoch 125/200\n",
      "792/792 [==============================] - 4s - loss: 0.0982 - acc: 0.9659 - val_loss: 0.1349 - val_acc: 0.9697\n",
      "Epoch 126/200\n",
      "792/792 [==============================] - 3s - loss: 0.0694 - acc: 0.9735 - val_loss: 0.1664 - val_acc: 0.9596\n",
      "Epoch 127/200\n",
      "792/792 [==============================] - 4s - loss: 0.0794 - acc: 0.9735 - val_loss: 0.1436 - val_acc: 0.9697\n",
      "Epoch 128/200\n",
      "792/792 [==============================] - 3s - loss: 0.1256 - acc: 0.9520 - val_loss: 0.1730 - val_acc: 0.9596\n",
      "Epoch 129/200\n",
      "792/792 [==============================] - 4s - loss: 0.0858 - acc: 0.9659 - val_loss: 0.1729 - val_acc: 0.9495\n",
      "Epoch 130/200\n",
      "792/792 [==============================] - 3s - loss: 0.1095 - acc: 0.9621 - val_loss: 0.0977 - val_acc: 0.9798\n",
      "Epoch 131/200\n"
     ]
    },
    {
     "name": "stdout",
     "output_type": "stream",
     "text": [
      "792/792 [==============================] - 4s - loss: 0.0957 - acc: 0.9697 - val_loss: 0.1377 - val_acc: 0.9596\n",
      "Epoch 132/200\n",
      "792/792 [==============================] - 4s - loss: 0.0611 - acc: 0.9785 - val_loss: 0.1364 - val_acc: 0.9596\n",
      "Epoch 133/200\n",
      "792/792 [==============================] - 4s - loss: 0.0866 - acc: 0.9684 - val_loss: 0.1317 - val_acc: 0.9697\n",
      "Epoch 134/200\n",
      "792/792 [==============================] - 3s - loss: 0.0858 - acc: 0.9722 - val_loss: 0.1361 - val_acc: 0.9697\n",
      "Epoch 135/200\n",
      "792/792 [==============================] - 3s - loss: 0.0971 - acc: 0.9722 - val_loss: 0.1487 - val_acc: 0.9495\n",
      "Epoch 136/200\n",
      "792/792 [==============================] - 4s - loss: 0.1147 - acc: 0.9621 - val_loss: 0.1345 - val_acc: 0.9596\n",
      "Epoch 137/200\n",
      "792/792 [==============================] - 3s - loss: 0.1072 - acc: 0.9596 - val_loss: 0.1146 - val_acc: 0.9697\n",
      "Epoch 138/200\n",
      "792/792 [==============================] - 3s - loss: 0.1110 - acc: 0.9609 - val_loss: 0.1296 - val_acc: 0.9596\n",
      "Epoch 139/200\n",
      "792/792 [==============================] - 3s - loss: 0.0779 - acc: 0.9672 - val_loss: 0.1090 - val_acc: 0.9697\n",
      "Epoch 140/200\n",
      "792/792 [==============================] - 3s - loss: 0.0804 - acc: 0.9747 - val_loss: 0.1120 - val_acc: 0.9596\n",
      "Epoch 141/200\n",
      "792/792 [==============================] - 3s - loss: 0.0619 - acc: 0.9773 - val_loss: 0.0992 - val_acc: 0.9596\n",
      "Epoch 142/200\n",
      "792/792 [==============================] - 3s - loss: 0.1194 - acc: 0.9596 - val_loss: 0.0668 - val_acc: 0.9798\n",
      "Epoch 143/200\n",
      "792/792 [==============================] - 4s - loss: 0.0715 - acc: 0.9747 - val_loss: 0.0702 - val_acc: 0.9697\n",
      "Epoch 144/200\n",
      "792/792 [==============================] - 3s - loss: 0.1011 - acc: 0.9672 - val_loss: 0.0515 - val_acc: 0.9798\n",
      "Epoch 145/200\n",
      "792/792 [==============================] - 3s - loss: 0.0738 - acc: 0.9735 - val_loss: 0.0736 - val_acc: 0.9697\n",
      "Epoch 146/200\n",
      "792/792 [==============================] - 4s - loss: 0.0885 - acc: 0.9672 - val_loss: 0.0643 - val_acc: 0.9798\n",
      "Epoch 147/200\n",
      "792/792 [==============================] - 3s - loss: 0.0902 - acc: 0.9634 - val_loss: 0.0916 - val_acc: 0.9495\n",
      "Epoch 148/200\n",
      "792/792 [==============================] - 4s - loss: 0.0648 - acc: 0.9773 - val_loss: 0.0548 - val_acc: 0.9697\n",
      "Epoch 149/200\n",
      "792/792 [==============================] - 4s - loss: 0.0637 - acc: 0.9722 - val_loss: 0.0764 - val_acc: 0.9697\n",
      "Epoch 150/200\n",
      "792/792 [==============================] - 3s - loss: 0.1089 - acc: 0.9609 - val_loss: 0.0651 - val_acc: 0.9697\n",
      "Epoch 151/200\n",
      "792/792 [==============================] - 3s - loss: 0.0793 - acc: 0.9710 - val_loss: 0.0581 - val_acc: 0.9798\n",
      "Epoch 152/200\n",
      "792/792 [==============================] - 4s - loss: 0.0790 - acc: 0.9672 - val_loss: 0.0629 - val_acc: 0.9899\n",
      "Epoch 153/200\n",
      "792/792 [==============================] - 4s - loss: 0.0910 - acc: 0.9760 - val_loss: 0.0706 - val_acc: 0.9697\n",
      "Epoch 154/200\n",
      "792/792 [==============================] - 3s - loss: 0.0578 - acc: 0.9785 - val_loss: 0.0609 - val_acc: 0.9697\n",
      "Epoch 155/200\n",
      "792/792 [==============================] - 3s - loss: 0.0688 - acc: 0.9785 - val_loss: 0.0936 - val_acc: 0.9596\n",
      "Epoch 156/200\n",
      "792/792 [==============================] - 4s - loss: 0.0877 - acc: 0.9697 - val_loss: 0.1005 - val_acc: 0.9596\n",
      "Epoch 157/200\n",
      "792/792 [==============================] - 4s - loss: 0.1000 - acc: 0.9659 - val_loss: 0.1037 - val_acc: 0.9697\n",
      "Epoch 158/200\n",
      "792/792 [==============================] - 4s - loss: 0.0759 - acc: 0.9747 - val_loss: 0.0982 - val_acc: 0.9798\n",
      "Epoch 159/200\n",
      "792/792 [==============================] - 3s - loss: 0.0787 - acc: 0.9735 - val_loss: 0.1029 - val_acc: 0.9596\n",
      "Epoch 160/200\n",
      "792/792 [==============================] - 3s - loss: 0.0559 - acc: 0.9874 - val_loss: 0.0776 - val_acc: 0.9697\n",
      "Epoch 161/200\n",
      "792/792 [==============================] - 4s - loss: 0.0835 - acc: 0.9697 - val_loss: 0.0578 - val_acc: 0.9798\n",
      "Epoch 162/200\n",
      "792/792 [==============================] - 3s - loss: 0.0850 - acc: 0.9735 - val_loss: 0.0767 - val_acc: 0.9697\n",
      "Epoch 163/200\n",
      "792/792 [==============================] - 4s - loss: 0.0717 - acc: 0.9760 - val_loss: 0.0663 - val_acc: 0.9697\n",
      "Epoch 164/200\n",
      "792/792 [==============================] - 3s - loss: 0.0830 - acc: 0.9684 - val_loss: 0.0602 - val_acc: 0.9798\n",
      "Epoch 165/200\n",
      "792/792 [==============================] - 3s - loss: 0.0956 - acc: 0.9697 - val_loss: 0.0673 - val_acc: 0.9798\n",
      "Epoch 166/200\n",
      "792/792 [==============================] - 4s - loss: 0.0535 - acc: 0.9798 - val_loss: 0.0955 - val_acc: 0.9697\n",
      "Epoch 167/200\n",
      "792/792 [==============================] - 3s - loss: 0.0707 - acc: 0.9798 - val_loss: 0.1111 - val_acc: 0.9596\n",
      "Epoch 168/200\n",
      "792/792 [==============================] - 4s - loss: 0.0836 - acc: 0.9659 - val_loss: 0.0670 - val_acc: 0.9697\n",
      "Epoch 169/200\n",
      "792/792 [==============================] - 3s - loss: 0.1056 - acc: 0.9722 - val_loss: 0.0748 - val_acc: 0.9697\n",
      "Epoch 170/200\n",
      "792/792 [==============================] - 3s - loss: 0.0750 - acc: 0.9760 - val_loss: 0.0727 - val_acc: 0.9697\n",
      "Epoch 171/200\n",
      "792/792 [==============================] - 4s - loss: 0.0914 - acc: 0.9735 - val_loss: 0.0696 - val_acc: 0.9798\n",
      "Epoch 172/200\n",
      "792/792 [==============================] - 4s - loss: 0.0594 - acc: 0.9773 - val_loss: 0.0675 - val_acc: 0.9697\n",
      "Epoch 173/200\n",
      "792/792 [==============================] - 3s - loss: 0.0732 - acc: 0.9760 - val_loss: 0.0850 - val_acc: 0.9697\n",
      "Epoch 174/200\n",
      "792/792 [==============================] - 4s - loss: 0.0568 - acc: 0.9760 - val_loss: 0.0810 - val_acc: 0.9495\n",
      "Epoch 175/200\n",
      "792/792 [==============================] - 3s - loss: 0.0709 - acc: 0.9722 - val_loss: 0.0701 - val_acc: 0.9697\n",
      "Epoch 176/200\n",
      "792/792 [==============================] - 3s - loss: 0.0929 - acc: 0.9697 - val_loss: 0.1009 - val_acc: 0.9495\n",
      "Epoch 177/200\n",
      "792/792 [==============================] - 4s - loss: 0.0662 - acc: 0.9747 - val_loss: 0.0790 - val_acc: 0.9596\n",
      "Epoch 178/200\n",
      "792/792 [==============================] - 4s - loss: 0.1074 - acc: 0.9621 - val_loss: 0.0707 - val_acc: 0.9697\n",
      "Epoch 179/200\n",
      "792/792 [==============================] - 4s - loss: 0.0745 - acc: 0.9773 - val_loss: 0.0520 - val_acc: 0.9798\n",
      "Epoch 180/200\n",
      "792/792 [==============================] - 3s - loss: 0.0648 - acc: 0.9747 - val_loss: 0.0538 - val_acc: 0.9798\n",
      "Epoch 181/200\n",
      "792/792 [==============================] - 4s - loss: 0.0754 - acc: 0.9747 - val_loss: 0.0639 - val_acc: 0.9697\n",
      "Epoch 182/200\n",
      "792/792 [==============================] - 4s - loss: 0.0915 - acc: 0.9646 - val_loss: 0.0344 - val_acc: 0.9899\n",
      "Epoch 183/200\n",
      "792/792 [==============================] - 4s - loss: 0.1204 - acc: 0.9583 - val_loss: 0.0310 - val_acc: 0.9798\n",
      "Epoch 184/200\n",
      "792/792 [==============================] - 3s - loss: 0.0946 - acc: 0.9735 - val_loss: 0.0500 - val_acc: 0.9798\n",
      "Epoch 185/200\n",
      "792/792 [==============================] - 4s - loss: 0.0846 - acc: 0.9684 - val_loss: 0.0395 - val_acc: 0.9798\n",
      "Epoch 186/200\n",
      "792/792 [==============================] - 3s - loss: 0.0724 - acc: 0.9722 - val_loss: 0.0628 - val_acc: 0.9697\n",
      "Epoch 187/200\n",
      "792/792 [==============================] - 4s - loss: 0.0790 - acc: 0.9773 - val_loss: 0.0606 - val_acc: 0.9798\n",
      "Epoch 188/200\n",
      "792/792 [==============================] - 4s - loss: 0.0660 - acc: 0.9710 - val_loss: 0.0650 - val_acc: 0.9798\n",
      "Epoch 189/200\n",
      "792/792 [==============================] - 4s - loss: 0.0852 - acc: 0.9722 - val_loss: 0.0859 - val_acc: 0.9596\n",
      "Epoch 190/200\n",
      "792/792 [==============================] - 3s - loss: 0.0812 - acc: 0.9710 - val_loss: 0.0638 - val_acc: 0.9798\n",
      "Epoch 191/200\n",
      "792/792 [==============================] - 3s - loss: 0.0733 - acc: 0.9773 - val_loss: 0.0854 - val_acc: 0.9697\n",
      "Epoch 192/200\n",
      "792/792 [==============================] - 3s - loss: 0.0542 - acc: 0.9747 - val_loss: 0.0870 - val_acc: 0.9697\n",
      "Epoch 193/200\n",
      "792/792 [==============================] - 3s - loss: 0.0698 - acc: 0.9773 - val_loss: 0.0622 - val_acc: 0.9798\n",
      "Epoch 194/200\n",
      "792/792 [==============================] - 4s - loss: 0.0702 - acc: 0.9760 - val_loss: 0.0736 - val_acc: 0.9798\n",
      "Epoch 195/200\n",
      "792/792 [==============================] - 3s - loss: 0.0655 - acc: 0.9785 - val_loss: 0.0553 - val_acc: 0.9697\n",
      "Epoch 196/200\n"
     ]
    },
    {
     "name": "stdout",
     "output_type": "stream",
     "text": [
      "792/792 [==============================] - 4s - loss: 0.1040 - acc: 0.9672 - val_loss: 0.0667 - val_acc: 0.9697\n",
      "Epoch 197/200\n",
      "792/792 [==============================] - 4s - loss: 0.0810 - acc: 0.9785 - val_loss: 0.0764 - val_acc: 0.9697\n",
      "Epoch 198/200\n",
      "792/792 [==============================] - 3s - loss: 0.0552 - acc: 0.9823 - val_loss: 0.1055 - val_acc: 0.9596\n",
      "Epoch 199/200\n",
      "792/792 [==============================] - 3s - loss: 0.0742 - acc: 0.9735 - val_loss: 0.1032 - val_acc: 0.9697\n",
      "Epoch 200/200\n",
      "792/792 [==============================] - 3s - loss: 0.0812 - acc: 0.9760 - val_loss: 0.0858 - val_acc: 0.9798\n"
     ]
    }
   ],
   "source": [
    "history_cat_2 = model.fit([train[1][:],\n",
    "                         train_features],\n",
    "                        train_labels,\n",
    "                        validation_data = ([validation[1][:],\n",
    "                                            validation_features],\n",
    "                                           valid_labels),epochs= 200)"
   ]
  },
  {
   "cell_type": "code",
   "execution_count": 167,
   "metadata": {
    "collapsed": true
   },
   "outputs": [],
   "source": [
    "model.save(\"model.h5\")"
   ]
  },
  {
   "cell_type": "code",
   "execution_count": null,
   "metadata": {
    "collapsed": true
   },
   "outputs": [],
   "source": []
  },
  {
   "cell_type": "markdown",
   "metadata": {},
   "source": [
    " ### Sequential Convolutional Neural Network(CNN)-images only"
   ]
  },
  {
   "cell_type": "code",
   "execution_count": 137,
   "metadata": {
    "collapsed": true
   },
   "outputs": [],
   "source": [
    "#start with the images only.\n",
    "\n",
    "cnn = Sequential([\n",
    "    Conv2D(8, kernel_size=(3,3),\n",
    "          activation= \"relu\",\n",
    "          input_shape = (64,64,1)),\n",
    "    Conv2D(16, kernel_size=(3,3), \n",
    "           activation = \"relu\"),\n",
    "    Dropout(.25),\n",
    "    MaxPool2D(pool_size=(2, 2), strides=(2, 2)),\n",
    "    Flatten(),\n",
    "    Dense(100, activation = \"relu\"),\n",
    "    Dropout(.25),\n",
    "    #output _ layer\n",
    "    Dense(256),\n",
    "    Dense(99, activation= \"softmax\")\n",
    "])"
   ]
  },
  {
   "cell_type": "code",
   "execution_count": 108,
   "metadata": {},
   "outputs": [
    {
     "name": "stdout",
     "output_type": "stream",
     "text": [
      "_________________________________________________________________\n",
      "Layer (type)                 Output Shape              Param #   \n",
      "=================================================================\n",
      "conv2d_23 (Conv2D)           (None, 62, 62, 8)         80        \n",
      "_________________________________________________________________\n",
      "conv2d_24 (Conv2D)           (None, 60, 60, 16)        1168      \n",
      "_________________________________________________________________\n",
      "dropout_18 (Dropout)         (None, 60, 60, 16)        0         \n",
      "_________________________________________________________________\n",
      "max_pooling2d_13 (MaxPooling (None, 30, 30, 16)        0         \n",
      "_________________________________________________________________\n",
      "flatten_12 (Flatten)         (None, 14400)             0         \n",
      "_________________________________________________________________\n",
      "dense_23 (Dense)             (None, 100)               1440100   \n",
      "_________________________________________________________________\n",
      "dropout_19 (Dropout)         (None, 100)               0         \n",
      "_________________________________________________________________\n",
      "dense_24 (Dense)             (None, 256)               25856     \n",
      "_________________________________________________________________\n",
      "dense_25 (Dense)             (None, 99)                25443     \n",
      "=================================================================\n",
      "Total params: 1,492,647\n",
      "Trainable params: 1,492,647\n",
      "Non-trainable params: 0\n",
      "_________________________________________________________________\n"
     ]
    }
   ],
   "source": [
    "cnn.summary()"
   ]
  },
  {
   "cell_type": "code",
   "execution_count": 109,
   "metadata": {
    "collapsed": true
   },
   "outputs": [],
   "source": [
    "cnn.compile(loss= keras.losses.categorical_crossentropy,\n",
    "           optimizer= keras.optimizers.adam(),\n",
    "           metrics=[\"accuracy\"])"
   ]
  },
  {
   "cell_type": "code",
   "execution_count": 110,
   "metadata": {},
   "outputs": [
    {
     "name": "stdout",
     "output_type": "stream",
     "text": [
      "Train on 792 samples, validate on 99 samples\n",
      "Epoch 1/20\n",
      "792/792 [==============================] - 3s - loss: 4.5576 - acc: 0.0202 - val_loss: 4.2439 - val_acc: 0.0808\n",
      "Epoch 2/20\n",
      "792/792 [==============================] - 3s - loss: 3.7604 - acc: 0.0846 - val_loss: 3.1458 - val_acc: 0.1818\n",
      "Epoch 3/20\n",
      "792/792 [==============================] - 3s - loss: 2.8101 - acc: 0.2449 - val_loss: 2.4668 - val_acc: 0.3535\n",
      "Epoch 4/20\n",
      "792/792 [==============================] - 3s - loss: 2.2514 - acc: 0.3245 - val_loss: 2.1048 - val_acc: 0.4242\n",
      "Epoch 5/20\n",
      "792/792 [==============================] - 3s - loss: 1.8565 - acc: 0.4571 - val_loss: 1.8336 - val_acc: 0.5152\n",
      "Epoch 6/20\n",
      "792/792 [==============================] - 3s - loss: 1.7217 - acc: 0.4722 - val_loss: 1.7084 - val_acc: 0.5354\n",
      "Epoch 7/20\n",
      "792/792 [==============================] - 3s - loss: 1.4511 - acc: 0.5682 - val_loss: 1.5166 - val_acc: 0.5354\n",
      "Epoch 8/20\n",
      "792/792 [==============================] - 3s - loss: 1.2963 - acc: 0.5960 - val_loss: 1.5006 - val_acc: 0.5758\n",
      "Epoch 9/20\n",
      "792/792 [==============================] - 3s - loss: 1.1555 - acc: 0.6288 - val_loss: 1.5559 - val_acc: 0.5253\n",
      "Epoch 10/20\n",
      "792/792 [==============================] - 3s - loss: 1.0568 - acc: 0.6641 - val_loss: 1.5516 - val_acc: 0.5657\n",
      "Epoch 11/20\n",
      "792/792 [==============================] - 3s - loss: 0.9591 - acc: 0.6667 - val_loss: 1.5054 - val_acc: 0.5859\n",
      "Epoch 12/20\n",
      "792/792 [==============================] - 3s - loss: 0.9013 - acc: 0.7247 - val_loss: 1.4944 - val_acc: 0.5859\n",
      "Epoch 13/20\n",
      "792/792 [==============================] - 3s - loss: 0.8083 - acc: 0.7348 - val_loss: 1.4965 - val_acc: 0.5657\n",
      "Epoch 14/20\n",
      "792/792 [==============================] - 3s - loss: 0.7669 - acc: 0.7614 - val_loss: 1.4547 - val_acc: 0.5859\n",
      "Epoch 15/20\n",
      "792/792 [==============================] - 3s - loss: 0.6599 - acc: 0.7929 - val_loss: 1.5280 - val_acc: 0.5859\n",
      "Epoch 16/20\n",
      "792/792 [==============================] - 3s - loss: 0.6646 - acc: 0.7740 - val_loss: 1.4396 - val_acc: 0.5758\n",
      "Epoch 17/20\n",
      "792/792 [==============================] - 3s - loss: 0.6071 - acc: 0.7942 - val_loss: 1.4575 - val_acc: 0.5556\n",
      "Epoch 18/20\n",
      "792/792 [==============================] - 3s - loss: 0.5863 - acc: 0.8144 - val_loss: 1.5812 - val_acc: 0.5556\n",
      "Epoch 19/20\n",
      "792/792 [==============================] - 3s - loss: 0.5764 - acc: 0.7980 - val_loss: 1.7092 - val_acc: 0.5455\n",
      "Epoch 20/20\n",
      "792/792 [==============================] - 3s - loss: 0.4433 - acc: 0.8548 - val_loss: 1.6206 - val_acc: 0.5354\n"
     ]
    }
   ],
   "source": [
    "# for images only ==> train[1] and validation[1]\n",
    "history = cnn.fit(train[1],train_labels, validation_data=(validation[1], valid_labels),nb_epoch=20)"
   ]
  },
  {
   "cell_type": "code",
   "execution_count": 124,
   "metadata": {},
   "outputs": [
    {
     "data": {
      "text/plain": [
       "(792, 64, 64, 1)"
      ]
     },
     "execution_count": 124,
     "metadata": {},
     "output_type": "execute_result"
    }
   ],
   "source": [
    "train[1][:].shape"
   ]
  },
  {
   "cell_type": "code",
   "execution_count": 125,
   "metadata": {},
   "outputs": [
    {
     "data": {
      "text/plain": [
       "(792, 192)"
      ]
     },
     "execution_count": 125,
     "metadata": {},
     "output_type": "execute_result"
    }
   ],
   "source": [
    "train[0][:].shape"
   ]
  },
  {
   "cell_type": "code",
   "execution_count": 16,
   "metadata": {
    "collapsed": true
   },
   "outputs": [],
   "source": [
    "#you need an optimizer anyway.\n",
    "#sgd = SGD(lr=0.008, momentum=0.9,decay=0.0,nesterov=False)"
   ]
  },
  {
   "cell_type": "code",
   "execution_count": 17,
   "metadata": {},
   "outputs": [
    {
     "name": "stderr",
     "output_type": "stream",
     "text": [
      "/usr/local/lib/python2.7/dist-packages/ipykernel_launcher.py:2: UserWarning: Update your `Model` call to the Keras 2 API: `Model(outputs=Tensor(\"de..., inputs=[<tf.Tenso...)`\n",
      "  \n"
     ]
    }
   ],
   "source": [
    "# for image + numerical data\n",
    "model = Model(input=[input_layer,num],output=output_layer)"
   ]
  },
  {
   "cell_type": "code",
   "execution_count": 18,
   "metadata": {
    "collapsed": true
   },
   "outputs": [],
   "source": [
    "#model.compile(optimizer='Adam',loss='categorical_crossentropy',\n",
    "#              metrics=['accuracy'])"
   ]
  },
  {
   "cell_type": "code",
   "execution_count": 59,
   "metadata": {
    "collapsed": true
   },
   "outputs": [],
   "source": [
    "#!pip install seaborn"
   ]
  }
 ],
 "metadata": {
  "kernelspec": {
   "display_name": "Python 2",
   "language": "python",
   "name": "python2"
  },
  "language_info": {
   "codemirror_mode": {
    "name": "ipython",
    "version": 2
   },
   "file_extension": ".py",
   "mimetype": "text/x-python",
   "name": "python",
   "nbconvert_exporter": "python",
   "pygments_lexer": "ipython2",
   "version": "2.7.12"
  }
 },
 "nbformat": 4,
 "nbformat_minor": 2
}
