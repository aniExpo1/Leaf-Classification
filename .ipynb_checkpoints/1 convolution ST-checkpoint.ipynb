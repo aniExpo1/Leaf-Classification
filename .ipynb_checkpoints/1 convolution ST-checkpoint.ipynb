{
 "cells": [
  {
   "cell_type": "markdown",
   "metadata": {},
   "source": [
    "* one convolution notebook"
   ]
  },
  {
   "cell_type": "code",
   "execution_count": 3,
   "metadata": {
    "collapsed": true
   },
   "outputs": [],
   "source": [
    "# tensorflow on 8889"
   ]
  },
  {
   "cell_type": "code",
   "execution_count": 5,
   "metadata": {
    "collapsed": true
   },
   "outputs": [],
   "source": [
    "import os\n",
    "os.chdir(\"/notebooks/src\")"
   ]
  },
  {
   "cell_type": "code",
   "execution_count": 1,
   "metadata": {},
   "outputs": [
    {
     "data": {
      "text/plain": [
       "u'/notebooks/src'"
      ]
     },
     "execution_count": 1,
     "metadata": {},
     "output_type": "execute_result"
    }
   ],
   "source": [
    "pwd"
   ]
  },
  {
   "cell_type": "code",
   "execution_count": 4,
   "metadata": {
    "collapsed": true
   },
   "outputs": [],
   "source": [
    "! ls /home"
   ]
  },
  {
   "cell_type": "code",
   "execution_count": 7,
   "metadata": {},
   "outputs": [
    {
     "name": "stdout",
     "output_type": "stream",
     "text": [
      "Collecting keras\n",
      "  Downloading Keras-2.0.8-py2.py3-none-any.whl (276kB)\n",
      "\u001b[K    100% |################################| 276kB 2.2MB/s ta 0:00:01\n",
      "\u001b[?25hCollecting cython\n",
      "  Downloading Cython-0.26.1-cp27-cp27mu-manylinux1_x86_64.whl (2.9MB)\n",
      "\u001b[K    100% |################################| 2.9MB 450kB/s eta 0:00:01\n",
      "\u001b[?25hRequirement already satisfied: h5py in /usr/local/lib/python2.7/dist-packages\n",
      "Collecting pyyaml (from keras)\n",
      "  Downloading PyYAML-3.12.tar.gz (253kB)\n",
      "\u001b[K    100% |################################| 256kB 5.1MB/s eta 0:00:01\n",
      "\u001b[?25hRequirement already satisfied: six>=1.9.0 in /usr/local/lib/python2.7/dist-packages (from keras)\n",
      "Requirement already satisfied: scipy>=0.14 in /usr/local/lib/python2.7/dist-packages (from keras)\n",
      "Requirement already satisfied: numpy>=1.9.1 in /usr/local/lib/python2.7/dist-packages (from keras)\n",
      "Building wheels for collected packages: pyyaml\n",
      "  Running setup.py bdist_wheel for pyyaml ... \u001b[?25ldone\n",
      "\u001b[?25h  Stored in directory: /root/.cache/pip/wheels/2c/f7/79/13f3a12cd723892437c0cfbde1230ab4d82947ff7b3839a4fc\n",
      "Successfully built pyyaml\n",
      "Installing collected packages: pyyaml, keras, cython\n",
      "Successfully installed cython-0.26.1 keras-2.0.8 pyyaml-3.12\n"
     ]
    }
   ],
   "source": [
    "!pip install keras cython h5py"
   ]
  },
  {
   "cell_type": "code",
   "execution_count": 126,
   "metadata": {},
   "outputs": [],
   "source": [
    "import keras\n",
    "from keras.layers import Input,Convolution2D, Dense, Activation, Flatten, merge, Conv2D\n",
    "from keras.layers import MaxPooling2D, Dropout, LocallyConnected2D, MaxPool2D, MaxPool1D\n",
    "from keras.models import Model, load_model,  Sequential\n",
    "from keras.optimizers import SGD\n",
    "import numpy as np\n",
    "import pandas as pd\n",
    "#from lib.data_split import load_train_data, load_test_data"
   ]
  },
  {
   "cell_type": "markdown",
   "metadata": {},
   "source": [
    "### preprocessing / splitting"
   ]
  },
  {
   "cell_type": "code",
   "execution_count": 189,
   "metadata": {
    "collapsed": true
   },
   "outputs": [],
   "source": [
    "train_df = pd.read_csv(\"./data/train.csv\")"
   ]
  },
  {
   "cell_type": "code",
   "execution_count": 190,
   "metadata": {
    "collapsed": true
   },
   "outputs": [],
   "source": [
    "test_df = pd.read_csv(\"./data/test.csv\")"
   ]
  },
  {
   "cell_type": "code",
   "execution_count": 191,
   "metadata": {
    "collapsed": true
   },
   "outputs": [],
   "source": [
    "# function to organize the data\n",
    "def encode(train_df, test_df):\n",
    "    le = LabelEncoder().fit(train_df.species)\n",
    "    labels = le.transform(train_df.species)   #encode species strings\n",
    "    classes = list(le.classes_)\n",
    "    test_ids = test_df.id\n",
    "    \n",
    "    \n",
    "    train_df = train_df.drop([\"species\" , \"id\"] , axis = 1)\n",
    "    test_df =test_df.drop([\"id\"], axis =1)\n",
    "    \n",
    "    return train_df, labels, test_df, test_ids, classes"
   ]
  },
  {
   "cell_type": "code",
   "execution_count": 192,
   "metadata": {
    "scrolled": true
   },
   "outputs": [
    {
     "data": {
      "text/html": [
       "<div>\n",
       "<style>\n",
       "    .dataframe thead tr:only-child th {\n",
       "        text-align: right;\n",
       "    }\n",
       "\n",
       "    .dataframe thead th {\n",
       "        text-align: left;\n",
       "    }\n",
       "\n",
       "    .dataframe tbody tr th {\n",
       "        vertical-align: top;\n",
       "    }\n",
       "</style>\n",
       "<table border=\"1\" class=\"dataframe\">\n",
       "  <thead>\n",
       "    <tr style=\"text-align: right;\">\n",
       "      <th></th>\n",
       "      <th>margin1</th>\n",
       "      <th>margin2</th>\n",
       "      <th>margin3</th>\n",
       "      <th>margin4</th>\n",
       "      <th>margin5</th>\n",
       "      <th>margin6</th>\n",
       "      <th>margin7</th>\n",
       "      <th>margin8</th>\n",
       "      <th>margin9</th>\n",
       "      <th>margin10</th>\n",
       "      <th>...</th>\n",
       "      <th>texture55</th>\n",
       "      <th>texture56</th>\n",
       "      <th>texture57</th>\n",
       "      <th>texture58</th>\n",
       "      <th>texture59</th>\n",
       "      <th>texture60</th>\n",
       "      <th>texture61</th>\n",
       "      <th>texture62</th>\n",
       "      <th>texture63</th>\n",
       "      <th>texture64</th>\n",
       "    </tr>\n",
       "  </thead>\n",
       "  <tbody>\n",
       "    <tr>\n",
       "      <th>0</th>\n",
       "      <td>0.007812</td>\n",
       "      <td>0.023438</td>\n",
       "      <td>0.023438</td>\n",
       "      <td>0.003906</td>\n",
       "      <td>0.011719</td>\n",
       "      <td>0.009766</td>\n",
       "      <td>0.027344</td>\n",
       "      <td>0.0</td>\n",
       "      <td>0.001953</td>\n",
       "      <td>0.033203</td>\n",
       "      <td>...</td>\n",
       "      <td>0.007812</td>\n",
       "      <td>0.000000</td>\n",
       "      <td>0.002930</td>\n",
       "      <td>0.002930</td>\n",
       "      <td>0.035156</td>\n",
       "      <td>0.0</td>\n",
       "      <td>0.0</td>\n",
       "      <td>0.004883</td>\n",
       "      <td>0.000000</td>\n",
       "      <td>0.025391</td>\n",
       "    </tr>\n",
       "    <tr>\n",
       "      <th>1</th>\n",
       "      <td>0.005859</td>\n",
       "      <td>0.000000</td>\n",
       "      <td>0.031250</td>\n",
       "      <td>0.015625</td>\n",
       "      <td>0.025391</td>\n",
       "      <td>0.001953</td>\n",
       "      <td>0.019531</td>\n",
       "      <td>0.0</td>\n",
       "      <td>0.000000</td>\n",
       "      <td>0.007812</td>\n",
       "      <td>...</td>\n",
       "      <td>0.000977</td>\n",
       "      <td>0.000000</td>\n",
       "      <td>0.000000</td>\n",
       "      <td>0.000977</td>\n",
       "      <td>0.023438</td>\n",
       "      <td>0.0</td>\n",
       "      <td>0.0</td>\n",
       "      <td>0.000977</td>\n",
       "      <td>0.039062</td>\n",
       "      <td>0.022461</td>\n",
       "    </tr>\n",
       "    <tr>\n",
       "      <th>2</th>\n",
       "      <td>0.005859</td>\n",
       "      <td>0.009766</td>\n",
       "      <td>0.019531</td>\n",
       "      <td>0.007812</td>\n",
       "      <td>0.003906</td>\n",
       "      <td>0.005859</td>\n",
       "      <td>0.068359</td>\n",
       "      <td>0.0</td>\n",
       "      <td>0.000000</td>\n",
       "      <td>0.044922</td>\n",
       "      <td>...</td>\n",
       "      <td>0.154300</td>\n",
       "      <td>0.000000</td>\n",
       "      <td>0.005859</td>\n",
       "      <td>0.000977</td>\n",
       "      <td>0.007812</td>\n",
       "      <td>0.0</td>\n",
       "      <td>0.0</td>\n",
       "      <td>0.000000</td>\n",
       "      <td>0.020508</td>\n",
       "      <td>0.002930</td>\n",
       "    </tr>\n",
       "    <tr>\n",
       "      <th>3</th>\n",
       "      <td>0.000000</td>\n",
       "      <td>0.003906</td>\n",
       "      <td>0.023438</td>\n",
       "      <td>0.005859</td>\n",
       "      <td>0.021484</td>\n",
       "      <td>0.019531</td>\n",
       "      <td>0.023438</td>\n",
       "      <td>0.0</td>\n",
       "      <td>0.013672</td>\n",
       "      <td>0.017578</td>\n",
       "      <td>...</td>\n",
       "      <td>0.000000</td>\n",
       "      <td>0.000977</td>\n",
       "      <td>0.000000</td>\n",
       "      <td>0.000000</td>\n",
       "      <td>0.020508</td>\n",
       "      <td>0.0</td>\n",
       "      <td>0.0</td>\n",
       "      <td>0.017578</td>\n",
       "      <td>0.000000</td>\n",
       "      <td>0.047852</td>\n",
       "    </tr>\n",
       "    <tr>\n",
       "      <th>4</th>\n",
       "      <td>0.005859</td>\n",
       "      <td>0.003906</td>\n",
       "      <td>0.048828</td>\n",
       "      <td>0.009766</td>\n",
       "      <td>0.013672</td>\n",
       "      <td>0.015625</td>\n",
       "      <td>0.005859</td>\n",
       "      <td>0.0</td>\n",
       "      <td>0.000000</td>\n",
       "      <td>0.005859</td>\n",
       "      <td>...</td>\n",
       "      <td>0.096680</td>\n",
       "      <td>0.000000</td>\n",
       "      <td>0.021484</td>\n",
       "      <td>0.000000</td>\n",
       "      <td>0.000000</td>\n",
       "      <td>0.0</td>\n",
       "      <td>0.0</td>\n",
       "      <td>0.000000</td>\n",
       "      <td>0.000000</td>\n",
       "      <td>0.031250</td>\n",
       "    </tr>\n",
       "  </tbody>\n",
       "</table>\n",
       "<p>5 rows × 192 columns</p>\n",
       "</div>"
      ],
      "text/plain": [
       "    margin1   margin2   margin3   margin4   margin5   margin6   margin7  \\\n",
       "0  0.007812  0.023438  0.023438  0.003906  0.011719  0.009766  0.027344   \n",
       "1  0.005859  0.000000  0.031250  0.015625  0.025391  0.001953  0.019531   \n",
       "2  0.005859  0.009766  0.019531  0.007812  0.003906  0.005859  0.068359   \n",
       "3  0.000000  0.003906  0.023438  0.005859  0.021484  0.019531  0.023438   \n",
       "4  0.005859  0.003906  0.048828  0.009766  0.013672  0.015625  0.005859   \n",
       "\n",
       "   margin8   margin9  margin10    ...      texture55  texture56  texture57  \\\n",
       "0      0.0  0.001953  0.033203    ...       0.007812   0.000000   0.002930   \n",
       "1      0.0  0.000000  0.007812    ...       0.000977   0.000000   0.000000   \n",
       "2      0.0  0.000000  0.044922    ...       0.154300   0.000000   0.005859   \n",
       "3      0.0  0.013672  0.017578    ...       0.000000   0.000977   0.000000   \n",
       "4      0.0  0.000000  0.005859    ...       0.096680   0.000000   0.021484   \n",
       "\n",
       "   texture58  texture59  texture60  texture61  texture62  texture63  texture64  \n",
       "0   0.002930   0.035156        0.0        0.0   0.004883   0.000000   0.025391  \n",
       "1   0.000977   0.023438        0.0        0.0   0.000977   0.039062   0.022461  \n",
       "2   0.000977   0.007812        0.0        0.0   0.000000   0.020508   0.002930  \n",
       "3   0.000000   0.020508        0.0        0.0   0.017578   0.000000   0.047852  \n",
       "4   0.000000   0.000000        0.0        0.0   0.000000   0.000000   0.031250  \n",
       "\n",
       "[5 rows x 192 columns]"
      ]
     },
     "execution_count": 192,
     "metadata": {},
     "output_type": "execute_result"
    }
   ],
   "source": [
    "train_df, labels, test_df, test_ids, classes = encode(train_df, test_df)\n",
    "train_df.head()"
   ]
  },
  {
   "cell_type": "code",
   "execution_count": 194,
   "metadata": {},
   "outputs": [],
   "source": [
    "scaler = StandardScaler()\n",
    "scaled_data = scaler.fit_transform(train_df)\n",
    "scaled_test_data = scaler.transform(test_df)"
   ]
  },
  {
   "cell_type": "code",
   "execution_count": null,
   "metadata": {
    "collapsed": true
   },
   "outputs": [],
   "source": []
  },
  {
   "cell_type": "code",
   "execution_count": 196,
   "metadata": {
    "collapsed": true
   },
   "outputs": [],
   "source": [
    "X = train_df.values\n",
    "y = keras.utils.to_categorical(labels)"
   ]
  },
  {
   "cell_type": "code",
   "execution_count": 198,
   "metadata": {},
   "outputs": [
    {
     "data": {
      "text/plain": [
       "1"
      ]
     },
     "execution_count": 198,
     "metadata": {},
     "output_type": "execute_result"
    }
   ],
   "source": [
    "sss = StratifiedShuffleSplit(n_splits = 1,test_size = 0.2, random_state= 8)\n",
    "sss.get_n_splits(X, y)"
   ]
  },
  {
   "cell_type": "code",
   "execution_count": 199,
   "metadata": {
    "collapsed": true
   },
   "outputs": [],
   "source": [
    "for train_index, test_index in sss.split(X,y):\n",
    "    X_train, X_test = X[train_index],X[test_index]\n",
    "    y_train, y_test = y[train_index],y[test_index]"
   ]
  },
  {
   "cell_type": "code",
   "execution_count": 200,
   "metadata": {},
   "outputs": [
    {
     "data": {
      "text/plain": [
       "(792, 192)"
      ]
     },
     "execution_count": 200,
     "metadata": {},
     "output_type": "execute_result"
    }
   ],
   "source": [
    "X_train.shape"
   ]
  },
  {
   "cell_type": "code",
   "execution_count": 201,
   "metadata": {},
   "outputs": [
    {
     "data": {
      "text/plain": [
       "(792, 99)"
      ]
     },
     "execution_count": 201,
     "metadata": {},
     "output_type": "execute_result"
    }
   ],
   "source": [
    "y_train.shape"
   ]
  },
  {
   "cell_type": "markdown",
   "metadata": {},
   "source": [
    "### preprocessing the data(functions)"
   ]
  },
  {
   "cell_type": "code",
   "execution_count": 2,
   "metadata": {
    "collapsed": true
   },
   "outputs": [],
   "source": [
    "from sklearn.preprocessing import LabelEncoder\n",
    "from sklearn.preprocessing import StandardScaler\n",
    "'''\n",
    "This module takes a file path and loades pre_extracted features \n",
    "from leaf kaggle competiton. The input is the file path for\n",
    "train or test files. \n",
    "'''\n",
    "\n",
    "\n",
    "\n",
    "def load_train(filepath):\n",
    "\n",
    "    #loading\n",
    "    train_df = pd.read_csv(filepath)\n",
    "    id = train_df.pop('id')\n",
    "    target = train_df.pop('species')\n",
    "    \n",
    "    #scaling\n",
    "    target = LabelEncoder().fit(target).transform(target)\n",
    "    features = StandardScaler().fit(train_df).transform(train_df)\n",
    "    \n",
    "    return id,features,target\n",
    "    \n",
    "\n",
    "def load_test(filepath):\n",
    "    \n",
    "    #loading\n",
    "    test_df = pd.read_csv(filepath)\n",
    "    id = test_df.pop('id')\n",
    "    \n",
    "    #scaling\n",
    "    features = StandardScaler().fit(test_df).transform(test_df)\n",
    "    \n",
    "    return id, features\n",
    "    "
   ]
  },
  {
   "cell_type": "code",
   "execution_count": 38,
   "metadata": {},
   "outputs": [
    {
     "data": {
      "text/html": [
       "<div>\n",
       "<style>\n",
       "    .dataframe thead tr:only-child th {\n",
       "        text-align: right;\n",
       "    }\n",
       "\n",
       "    .dataframe thead th {\n",
       "        text-align: left;\n",
       "    }\n",
       "\n",
       "    .dataframe tbody tr th {\n",
       "        vertical-align: top;\n",
       "    }\n",
       "</style>\n",
       "<table border=\"1\" class=\"dataframe\">\n",
       "  <thead>\n",
       "    <tr style=\"text-align: right;\">\n",
       "      <th></th>\n",
       "      <th>margin1</th>\n",
       "      <th>margin2</th>\n",
       "      <th>margin3</th>\n",
       "      <th>margin4</th>\n",
       "      <th>margin5</th>\n",
       "      <th>margin6</th>\n",
       "      <th>margin7</th>\n",
       "      <th>margin8</th>\n",
       "      <th>margin9</th>\n",
       "      <th>margin10</th>\n",
       "      <th>...</th>\n",
       "      <th>texture55</th>\n",
       "      <th>texture56</th>\n",
       "      <th>texture57</th>\n",
       "      <th>texture58</th>\n",
       "      <th>texture59</th>\n",
       "      <th>texture60</th>\n",
       "      <th>texture61</th>\n",
       "      <th>texture62</th>\n",
       "      <th>texture63</th>\n",
       "      <th>texture64</th>\n",
       "    </tr>\n",
       "  </thead>\n",
       "  <tbody>\n",
       "    <tr>\n",
       "      <th>0</th>\n",
       "      <td>0.007812</td>\n",
       "      <td>0.023438</td>\n",
       "      <td>0.023438</td>\n",
       "      <td>0.003906</td>\n",
       "      <td>0.011719</td>\n",
       "      <td>0.009766</td>\n",
       "      <td>0.027344</td>\n",
       "      <td>0.0</td>\n",
       "      <td>0.001953</td>\n",
       "      <td>0.033203</td>\n",
       "      <td>...</td>\n",
       "      <td>0.007812</td>\n",
       "      <td>0.000000</td>\n",
       "      <td>0.002930</td>\n",
       "      <td>0.002930</td>\n",
       "      <td>0.035156</td>\n",
       "      <td>0.0</td>\n",
       "      <td>0.0</td>\n",
       "      <td>0.004883</td>\n",
       "      <td>0.000000</td>\n",
       "      <td>0.025391</td>\n",
       "    </tr>\n",
       "    <tr>\n",
       "      <th>1</th>\n",
       "      <td>0.005859</td>\n",
       "      <td>0.000000</td>\n",
       "      <td>0.031250</td>\n",
       "      <td>0.015625</td>\n",
       "      <td>0.025391</td>\n",
       "      <td>0.001953</td>\n",
       "      <td>0.019531</td>\n",
       "      <td>0.0</td>\n",
       "      <td>0.000000</td>\n",
       "      <td>0.007812</td>\n",
       "      <td>...</td>\n",
       "      <td>0.000977</td>\n",
       "      <td>0.000000</td>\n",
       "      <td>0.000000</td>\n",
       "      <td>0.000977</td>\n",
       "      <td>0.023438</td>\n",
       "      <td>0.0</td>\n",
       "      <td>0.0</td>\n",
       "      <td>0.000977</td>\n",
       "      <td>0.039062</td>\n",
       "      <td>0.022461</td>\n",
       "    </tr>\n",
       "    <tr>\n",
       "      <th>2</th>\n",
       "      <td>0.005859</td>\n",
       "      <td>0.009766</td>\n",
       "      <td>0.019531</td>\n",
       "      <td>0.007812</td>\n",
       "      <td>0.003906</td>\n",
       "      <td>0.005859</td>\n",
       "      <td>0.068359</td>\n",
       "      <td>0.0</td>\n",
       "      <td>0.000000</td>\n",
       "      <td>0.044922</td>\n",
       "      <td>...</td>\n",
       "      <td>0.154300</td>\n",
       "      <td>0.000000</td>\n",
       "      <td>0.005859</td>\n",
       "      <td>0.000977</td>\n",
       "      <td>0.007812</td>\n",
       "      <td>0.0</td>\n",
       "      <td>0.0</td>\n",
       "      <td>0.000000</td>\n",
       "      <td>0.020508</td>\n",
       "      <td>0.002930</td>\n",
       "    </tr>\n",
       "    <tr>\n",
       "      <th>3</th>\n",
       "      <td>0.000000</td>\n",
       "      <td>0.003906</td>\n",
       "      <td>0.023438</td>\n",
       "      <td>0.005859</td>\n",
       "      <td>0.021484</td>\n",
       "      <td>0.019531</td>\n",
       "      <td>0.023438</td>\n",
       "      <td>0.0</td>\n",
       "      <td>0.013672</td>\n",
       "      <td>0.017578</td>\n",
       "      <td>...</td>\n",
       "      <td>0.000000</td>\n",
       "      <td>0.000977</td>\n",
       "      <td>0.000000</td>\n",
       "      <td>0.000000</td>\n",
       "      <td>0.020508</td>\n",
       "      <td>0.0</td>\n",
       "      <td>0.0</td>\n",
       "      <td>0.017578</td>\n",
       "      <td>0.000000</td>\n",
       "      <td>0.047852</td>\n",
       "    </tr>\n",
       "    <tr>\n",
       "      <th>4</th>\n",
       "      <td>0.005859</td>\n",
       "      <td>0.003906</td>\n",
       "      <td>0.048828</td>\n",
       "      <td>0.009766</td>\n",
       "      <td>0.013672</td>\n",
       "      <td>0.015625</td>\n",
       "      <td>0.005859</td>\n",
       "      <td>0.0</td>\n",
       "      <td>0.000000</td>\n",
       "      <td>0.005859</td>\n",
       "      <td>...</td>\n",
       "      <td>0.096680</td>\n",
       "      <td>0.000000</td>\n",
       "      <td>0.021484</td>\n",
       "      <td>0.000000</td>\n",
       "      <td>0.000000</td>\n",
       "      <td>0.0</td>\n",
       "      <td>0.0</td>\n",
       "      <td>0.000000</td>\n",
       "      <td>0.000000</td>\n",
       "      <td>0.031250</td>\n",
       "    </tr>\n",
       "  </tbody>\n",
       "</table>\n",
       "<p>5 rows × 192 columns</p>\n",
       "</div>"
      ],
      "text/plain": [
       "    margin1   margin2   margin3   margin4   margin5   margin6   margin7  \\\n",
       "0  0.007812  0.023438  0.023438  0.003906  0.011719  0.009766  0.027344   \n",
       "1  0.005859  0.000000  0.031250  0.015625  0.025391  0.001953  0.019531   \n",
       "2  0.005859  0.009766  0.019531  0.007812  0.003906  0.005859  0.068359   \n",
       "3  0.000000  0.003906  0.023438  0.005859  0.021484  0.019531  0.023438   \n",
       "4  0.005859  0.003906  0.048828  0.009766  0.013672  0.015625  0.005859   \n",
       "\n",
       "   margin8   margin9  margin10    ...      texture55  texture56  texture57  \\\n",
       "0      0.0  0.001953  0.033203    ...       0.007812   0.000000   0.002930   \n",
       "1      0.0  0.000000  0.007812    ...       0.000977   0.000000   0.000000   \n",
       "2      0.0  0.000000  0.044922    ...       0.154300   0.000000   0.005859   \n",
       "3      0.0  0.013672  0.017578    ...       0.000000   0.000977   0.000000   \n",
       "4      0.0  0.000000  0.005859    ...       0.096680   0.000000   0.021484   \n",
       "\n",
       "   texture58  texture59  texture60  texture61  texture62  texture63  texture64  \n",
       "0   0.002930   0.035156        0.0        0.0   0.004883   0.000000   0.025391  \n",
       "1   0.000977   0.023438        0.0        0.0   0.000977   0.039062   0.022461  \n",
       "2   0.000977   0.007812        0.0        0.0   0.000000   0.020508   0.002930  \n",
       "3   0.000000   0.020508        0.0        0.0   0.017578   0.000000   0.047852  \n",
       "4   0.000000   0.000000        0.0        0.0   0.000000   0.000000   0.031250  \n",
       "\n",
       "[5 rows x 192 columns]"
      ]
     },
     "execution_count": 38,
     "metadata": {},
     "output_type": "execute_result"
    }
   ],
   "source": [
    "#train_df.head()"
   ]
  },
  {
   "cell_type": "code",
   "execution_count": 39,
   "metadata": {},
   "outputs": [
    {
     "data": {
      "text/html": [
       "<div>\n",
       "<style>\n",
       "    .dataframe thead tr:only-child th {\n",
       "        text-align: right;\n",
       "    }\n",
       "\n",
       "    .dataframe thead th {\n",
       "        text-align: left;\n",
       "    }\n",
       "\n",
       "    .dataframe tbody tr th {\n",
       "        vertical-align: top;\n",
       "    }\n",
       "</style>\n",
       "<table border=\"1\" class=\"dataframe\">\n",
       "  <thead>\n",
       "    <tr style=\"text-align: right;\">\n",
       "      <th></th>\n",
       "      <th>margin1</th>\n",
       "      <th>margin2</th>\n",
       "      <th>margin3</th>\n",
       "      <th>margin4</th>\n",
       "      <th>margin5</th>\n",
       "      <th>margin6</th>\n",
       "      <th>margin7</th>\n",
       "      <th>margin8</th>\n",
       "      <th>margin9</th>\n",
       "      <th>margin10</th>\n",
       "      <th>...</th>\n",
       "      <th>texture55</th>\n",
       "      <th>texture56</th>\n",
       "      <th>texture57</th>\n",
       "      <th>texture58</th>\n",
       "      <th>texture59</th>\n",
       "      <th>texture60</th>\n",
       "      <th>texture61</th>\n",
       "      <th>texture62</th>\n",
       "      <th>texture63</th>\n",
       "      <th>texture64</th>\n",
       "    </tr>\n",
       "  </thead>\n",
       "  <tbody>\n",
       "    <tr>\n",
       "      <th>0</th>\n",
       "      <td>0.019531</td>\n",
       "      <td>0.009766</td>\n",
       "      <td>0.078125</td>\n",
       "      <td>0.011719</td>\n",
       "      <td>0.003906</td>\n",
       "      <td>0.015625</td>\n",
       "      <td>0.005859</td>\n",
       "      <td>0.0</td>\n",
       "      <td>0.005859</td>\n",
       "      <td>0.023438</td>\n",
       "      <td>...</td>\n",
       "      <td>0.006836</td>\n",
       "      <td>0.000000</td>\n",
       "      <td>0.015625</td>\n",
       "      <td>0.000977</td>\n",
       "      <td>0.015625</td>\n",
       "      <td>0.0</td>\n",
       "      <td>0.0</td>\n",
       "      <td>0.000000</td>\n",
       "      <td>0.003906</td>\n",
       "      <td>0.053711</td>\n",
       "    </tr>\n",
       "    <tr>\n",
       "      <th>1</th>\n",
       "      <td>0.007812</td>\n",
       "      <td>0.005859</td>\n",
       "      <td>0.064453</td>\n",
       "      <td>0.009766</td>\n",
       "      <td>0.003906</td>\n",
       "      <td>0.013672</td>\n",
       "      <td>0.007812</td>\n",
       "      <td>0.0</td>\n",
       "      <td>0.033203</td>\n",
       "      <td>0.023438</td>\n",
       "      <td>...</td>\n",
       "      <td>0.000000</td>\n",
       "      <td>0.000000</td>\n",
       "      <td>0.006836</td>\n",
       "      <td>0.001953</td>\n",
       "      <td>0.013672</td>\n",
       "      <td>0.0</td>\n",
       "      <td>0.0</td>\n",
       "      <td>0.000977</td>\n",
       "      <td>0.037109</td>\n",
       "      <td>0.044922</td>\n",
       "    </tr>\n",
       "    <tr>\n",
       "      <th>2</th>\n",
       "      <td>0.000000</td>\n",
       "      <td>0.000000</td>\n",
       "      <td>0.001953</td>\n",
       "      <td>0.021484</td>\n",
       "      <td>0.041016</td>\n",
       "      <td>0.000000</td>\n",
       "      <td>0.023438</td>\n",
       "      <td>0.0</td>\n",
       "      <td>0.011719</td>\n",
       "      <td>0.005859</td>\n",
       "      <td>...</td>\n",
       "      <td>0.128910</td>\n",
       "      <td>0.000000</td>\n",
       "      <td>0.000977</td>\n",
       "      <td>0.000000</td>\n",
       "      <td>0.000000</td>\n",
       "      <td>0.0</td>\n",
       "      <td>0.0</td>\n",
       "      <td>0.015625</td>\n",
       "      <td>0.000000</td>\n",
       "      <td>0.000000</td>\n",
       "    </tr>\n",
       "    <tr>\n",
       "      <th>3</th>\n",
       "      <td>0.000000</td>\n",
       "      <td>0.000000</td>\n",
       "      <td>0.009766</td>\n",
       "      <td>0.011719</td>\n",
       "      <td>0.017578</td>\n",
       "      <td>0.000000</td>\n",
       "      <td>0.003906</td>\n",
       "      <td>0.0</td>\n",
       "      <td>0.003906</td>\n",
       "      <td>0.001953</td>\n",
       "      <td>...</td>\n",
       "      <td>0.012695</td>\n",
       "      <td>0.015625</td>\n",
       "      <td>0.002930</td>\n",
       "      <td>0.036133</td>\n",
       "      <td>0.013672</td>\n",
       "      <td>0.0</td>\n",
       "      <td>0.0</td>\n",
       "      <td>0.089844</td>\n",
       "      <td>0.000000</td>\n",
       "      <td>0.008789</td>\n",
       "    </tr>\n",
       "    <tr>\n",
       "      <th>4</th>\n",
       "      <td>0.001953</td>\n",
       "      <td>0.000000</td>\n",
       "      <td>0.015625</td>\n",
       "      <td>0.009766</td>\n",
       "      <td>0.039062</td>\n",
       "      <td>0.000000</td>\n",
       "      <td>0.009766</td>\n",
       "      <td>0.0</td>\n",
       "      <td>0.005859</td>\n",
       "      <td>0.000000</td>\n",
       "      <td>...</td>\n",
       "      <td>0.000000</td>\n",
       "      <td>0.042969</td>\n",
       "      <td>0.016602</td>\n",
       "      <td>0.010742</td>\n",
       "      <td>0.041016</td>\n",
       "      <td>0.0</td>\n",
       "      <td>0.0</td>\n",
       "      <td>0.007812</td>\n",
       "      <td>0.009766</td>\n",
       "      <td>0.007812</td>\n",
       "    </tr>\n",
       "  </tbody>\n",
       "</table>\n",
       "<p>5 rows × 192 columns</p>\n",
       "</div>"
      ],
      "text/plain": [
       "    margin1   margin2   margin3   margin4   margin5   margin6   margin7  \\\n",
       "0  0.019531  0.009766  0.078125  0.011719  0.003906  0.015625  0.005859   \n",
       "1  0.007812  0.005859  0.064453  0.009766  0.003906  0.013672  0.007812   \n",
       "2  0.000000  0.000000  0.001953  0.021484  0.041016  0.000000  0.023438   \n",
       "3  0.000000  0.000000  0.009766  0.011719  0.017578  0.000000  0.003906   \n",
       "4  0.001953  0.000000  0.015625  0.009766  0.039062  0.000000  0.009766   \n",
       "\n",
       "   margin8   margin9  margin10    ...      texture55  texture56  texture57  \\\n",
       "0      0.0  0.005859  0.023438    ...       0.006836   0.000000   0.015625   \n",
       "1      0.0  0.033203  0.023438    ...       0.000000   0.000000   0.006836   \n",
       "2      0.0  0.011719  0.005859    ...       0.128910   0.000000   0.000977   \n",
       "3      0.0  0.003906  0.001953    ...       0.012695   0.015625   0.002930   \n",
       "4      0.0  0.005859  0.000000    ...       0.000000   0.042969   0.016602   \n",
       "\n",
       "   texture58  texture59  texture60  texture61  texture62  texture63  texture64  \n",
       "0   0.000977   0.015625        0.0        0.0   0.000000   0.003906   0.053711  \n",
       "1   0.001953   0.013672        0.0        0.0   0.000977   0.037109   0.044922  \n",
       "2   0.000000   0.000000        0.0        0.0   0.015625   0.000000   0.000000  \n",
       "3   0.036133   0.013672        0.0        0.0   0.089844   0.000000   0.008789  \n",
       "4   0.010742   0.041016        0.0        0.0   0.007812   0.009766   0.007812  \n",
       "\n",
       "[5 rows x 192 columns]"
      ]
     },
     "execution_count": 39,
     "metadata": {},
     "output_type": "execute_result"
    }
   ],
   "source": [
    "#test_df.head()"
   ]
  },
  {
   "cell_type": "markdown",
   "metadata": {},
   "source": [
    "* loading images"
   ]
  },
  {
   "cell_type": "code",
   "execution_count": 10,
   "metadata": {
    "collapsed": true
   },
   "outputs": [],
   "source": [
    "from keras.utils.np_utils import to_categorical\n",
    "from keras.preprocessing.image import img_to_array, load_img\n",
    "\n",
    "'''\n",
    "This module loads all the training/test images, resizes them and \n",
    "makes them ready for kaggle.\n",
    "'''\n",
    "\n",
    "\n",
    "def rebuild_image(img, dim=64):\n",
    "    \n",
    "    # find largest axis\n",
    "    maxsize = max((0,1), key=lambda i: img.size[i])\n",
    "    \n",
    "    #scale both axis\n",
    "    scale = dim/float(img.size[maxsize])\n",
    "    \n",
    "    return img.resize((int(img.size[0] * scale), int(img.size[1]*scale)))\n",
    "    \n",
    "\n",
    "    \n",
    "def load_image(ids,dim=64):\n",
    "\n",
    "    filepath = './data/images/'\n",
    "    \n",
    "    IM = np.empty((len(ids),dim,dim,1))\n",
    "    \n",
    "    for i, ids in enumerate(ids):\n",
    "    \n",
    "        images = rebuild_image(load_img(filepath + str(ids) + '.jpg',\n",
    "grayscale=True),dim = dim)\n",
    "        \n",
    "        images = img_to_array(images)\n",
    "        x = images.shape[0]\n",
    "        y = images.shape[1]\n",
    "        \n",
    "        #centering\n",
    "        l_bound_0 = int((dim - x) / 2)\n",
    "        u_bound_0 = l_bound_0 + x\n",
    "        l_bound_1 = int((dim - y) / 2)\n",
    "        u_bound_1 = l_bound_1 + y\n",
    "        \n",
    "        IM[i,l_bound_0:u_bound_0,l_bound_1:u_bound_1,0:1] = images\n",
    "        \n",
    "        #scale it to grey\n",
    "    return np.around(IM/ 255.0) "
   ]
  },
  {
   "cell_type": "markdown",
   "metadata": {},
   "source": [
    "### splitting the data with StratifiedShuffleSplit"
   ]
  },
  {
   "cell_type": "code",
   "execution_count": 15,
   "metadata": {
    "collapsed": true
   },
   "outputs": [],
   "source": [
    "\n",
    "from sklearn.model_selection import StratifiedShuffleSplit\n",
    "\n",
    "random_state = 8\n",
    "split = 0.8\n",
    "\n",
    "\n",
    "\n",
    "\n",
    "\n",
    "def load_train_data(filepath, split = split, random_state = random_state):\n",
    "\n",
    "    id, features_train, target_train = load_train(filepath)\n",
    "    #image_train = load_image(id)\n",
    "    \n",
    "    sss = StratifiedShuffleSplit(n_splits = 1, train_size=split,random_state=random_state)\n",
    "    train_i,val_i = next(sss.split(features_train,target_train))\n",
    "    #,val_img   #,image_train[val_i]\n",
    "    features_val,val_target = features_train[val_i], target_train[val_i]\n",
    "    #,train_img  #,image_train[train_i]\n",
    "    features_train,train_target = features_train[train_i],target_train[train_i]\n",
    "    \n",
    "    #,train_img   #,val_img\n",
    "    return (features_train,train_target),(features_val,val_target)\n",
    "    \n",
    "\n",
    "def load_test_data(filepath):\n",
    "\n",
    "    id, test_features = load_test(filepath)\n",
    "    #test_images = load_image(id)\n",
    "    \n",
    "    return (id,test_features)#,test_images)\n",
    "    \n",
    "    "
   ]
  },
  {
   "cell_type": "code",
   "execution_count": 16,
   "metadata": {},
   "outputs": [],
   "source": [
    "#X_train, y_train\n",
    "train,validation = load_train_data(\"./data/train.csv\")"
   ]
  },
  {
   "cell_type": "code",
   "execution_count": 17,
   "metadata": {},
   "outputs": [],
   "source": [
    "test = load_test_data(\"./data/test.csv\")"
   ]
  },
  {
   "cell_type": "code",
   "execution_count": 46,
   "metadata": {},
   "outputs": [
    {
     "data": {
      "text/plain": [
       "tuple"
      ]
     },
     "execution_count": 46,
     "metadata": {},
     "output_type": "execute_result"
    }
   ],
   "source": [
    "type(test)"
   ]
  },
  {
   "cell_type": "code",
   "execution_count": 64,
   "metadata": {},
   "outputs": [],
   "source": [
    "train_labels = train[1][:]\n",
    "valid_labels = validation[1][:]"
   ]
  },
  {
   "cell_type": "code",
   "execution_count": 63,
   "metadata": {},
   "outputs": [
    {
     "data": {
      "text/plain": [
       "(792, 99)"
      ]
     },
     "execution_count": 63,
     "metadata": {},
     "output_type": "execute_result"
    }
   ],
   "source": [
    "train_labels.shape"
   ]
  },
  {
   "cell_type": "code",
   "execution_count": 66,
   "metadata": {},
   "outputs": [
    {
     "data": {
      "text/plain": [
       "(99,)"
      ]
     },
     "execution_count": 66,
     "metadata": {},
     "output_type": "execute_result"
    }
   ],
   "source": [
    "valid_labels.shape"
   ]
  },
  {
   "cell_type": "code",
   "execution_count": 24,
   "metadata": {},
   "outputs": [
    {
     "data": {
      "text/plain": [
       "(792,)"
      ]
     },
     "execution_count": 24,
     "metadata": {},
     "output_type": "execute_result"
    }
   ],
   "source": [
    "train[1][:].shape"
   ]
  },
  {
   "cell_type": "code",
   "execution_count": 25,
   "metadata": {},
   "outputs": [
    {
     "data": {
      "text/plain": [
       "(99,)"
      ]
     },
     "execution_count": 25,
     "metadata": {},
     "output_type": "execute_result"
    }
   ],
   "source": [
    "validation[1][:].shape"
   ]
  },
  {
   "cell_type": "markdown",
   "metadata": {},
   "source": [
    "### reformat function"
   ]
  },
  {
   "cell_type": "code",
   "execution_count": 85,
   "metadata": {},
   "outputs": [],
   "source": [
    "def reformat(labels):\n",
    "    labels = (np.arange(99) == labels[:,None]).astype(np.float32)\n",
    "    return labels\n",
    "train_labels = reformat(train_labels)\n",
    "valid_labels = reformat(valid_labels)"
   ]
  },
  {
   "cell_type": "markdown",
   "metadata": {},
   "source": [
    "# right after here!!!"
   ]
  },
  {
   "cell_type": "code",
   "execution_count": 28,
   "metadata": {
    "collapsed": true
   },
   "outputs": [],
   "source": [
    "#input_layer = Input(shape=(64,64,1))"
   ]
  },
  {
   "cell_type": "markdown",
   "metadata": {},
   "source": [
    " ### The Convolutional Neural Network(CNN)"
   ]
  },
  {
   "cell_type": "code",
   "execution_count": 131,
   "metadata": {},
   "outputs": [],
   "source": [
    "#the uotput layer the last layer should be the number of your classes.(here it's 99)\n",
    "# the input_shape should be like \n",
    "dnn_clf = Sequential([\n",
    "#     Conv2D(8, kernel_size=(3, 3),\n",
    "#                  border_mode= \"same\",\n",
    "#                  W_regularizer= \"l1\",\n",
    "#                  activation='relu',\n",
    "#                  input_shape=(192,1)),\n",
    "    Dense(100, input_shape=(192, 1), activation='relu'),\n",
    "#     Conv2D(16, (3, 3), activation='relu'),\n",
    "#     Dropout(.25),\n",
    "    MaxPool1D(),\n",
    "    Flatten(),\n",
    "    Dense(100, activation='relu'),\n",
    "    Dropout(.25),\n",
    "    Dense(99, activation='softmax')\n",
    "])\n"
   ]
  },
  {
   "cell_type": "code",
   "execution_count": 132,
   "metadata": {},
   "outputs": [
    {
     "name": "stdout",
     "output_type": "stream",
     "text": [
      "_________________________________________________________________\n",
      "Layer (type)                 Output Shape              Param #   \n",
      "=================================================================\n",
      "dense_39 (Dense)             (None, 192, 100)          200       \n",
      "_________________________________________________________________\n",
      "max_pooling1d_2 (MaxPooling1 (None, 96, 100)           0         \n",
      "_________________________________________________________________\n",
      "flatten_17 (Flatten)         (None, 9600)              0         \n",
      "_________________________________________________________________\n",
      "dense_40 (Dense)             (None, 100)               960100    \n",
      "_________________________________________________________________\n",
      "dropout_17 (Dropout)         (None, 100)               0         \n",
      "_________________________________________________________________\n",
      "dense_41 (Dense)             (None, 99)                9999      \n",
      "=================================================================\n",
      "Total params: 970,299\n",
      "Trainable params: 970,299\n",
      "Non-trainable params: 0\n",
      "_________________________________________________________________\n"
     ]
    }
   ],
   "source": [
    "dnn_clf.summary()"
   ]
  },
  {
   "cell_type": "markdown",
   "metadata": {},
   "source": [
    "### compile on (optimizer = Adam)"
   ]
  },
  {
   "cell_type": "code",
   "execution_count": 133,
   "metadata": {},
   "outputs": [],
   "source": [
    "cnn.compile(loss=\"categorical_crossentropy\",\n",
    "              optimizer=\"adam\",\n",
    "              metrics=['accuracy'])"
   ]
  },
  {
   "cell_type": "code",
   "execution_count": 134,
   "metadata": {
    "collapsed": true
   },
   "outputs": [],
   "source": [
    "#cnn.fit(X_train, y_train, validation_split=.3, epochs=3)"
   ]
  },
  {
   "cell_type": "code",
   "execution_count": 69,
   "metadata": {},
   "outputs": [
    {
     "data": {
      "text/plain": [
       "(792,)"
      ]
     },
     "execution_count": 69,
     "metadata": {},
     "output_type": "execute_result"
    }
   ],
   "source": [
    "train[1][:].shape"
   ]
  },
  {
   "cell_type": "code",
   "execution_count": 72,
   "metadata": {},
   "outputs": [
    {
     "data": {
      "text/plain": [
       "(792, 99)"
      ]
     },
     "execution_count": 72,
     "metadata": {},
     "output_type": "execute_result"
    }
   ],
   "source": [
    "train_labels.shape"
   ]
  },
  {
   "cell_type": "code",
   "execution_count": 73,
   "metadata": {},
   "outputs": [
    {
     "data": {
      "text/plain": [
       "(99, 99)"
      ]
     },
     "execution_count": 73,
     "metadata": {},
     "output_type": "execute_result"
    }
   ],
   "source": [
    "valid_labels.shape"
   ]
  },
  {
   "cell_type": "code",
   "execution_count": 202,
   "metadata": {},
   "outputs": [],
   "source": [
    "X2_train = X_train.reshape(-1, 192, 1)"
   ]
  },
  {
   "cell_type": "code",
   "execution_count": 203,
   "metadata": {},
   "outputs": [
    {
     "data": {
      "text/plain": [
       "(792, 192)"
      ]
     },
     "execution_count": 203,
     "metadata": {},
     "output_type": "execute_result"
    }
   ],
   "source": [
    "X_train.shape"
   ]
  },
  {
   "cell_type": "code",
   "execution_count": 204,
   "metadata": {},
   "outputs": [
    {
     "data": {
      "text/plain": [
       "(792, 192, 1)"
      ]
     },
     "execution_count": 204,
     "metadata": {},
     "output_type": "execute_result"
    }
   ],
   "source": [
    "X2_train.shape"
   ]
  },
  {
   "cell_type": "code",
   "execution_count": null,
   "metadata": {
    "collapsed": true
   },
   "outputs": [],
   "source": [
    "# adding layers or depth might not help the scores any more.\n",
    "# but you can add random_forest and other classifiers prediction to the end of your data set that might help you\n",
    "# get a better score.\n"
   ]
  },
  {
   "cell_type": "code",
   "execution_count": 206,
   "metadata": {
    "scrolled": true
   },
   "outputs": [
    {
     "name": "stdout",
     "output_type": "stream",
     "text": [
      "Train on 554 samples, validate on 238 samples\n",
      "Epoch 1/100\n",
      "554/554 [==============================] - 0s - loss: 4.4145 - acc: 0.1155 - val_loss: 4.4570 - val_acc: 0.0798\n",
      "Epoch 2/100\n",
      "554/554 [==============================] - 0s - loss: 4.2845 - acc: 0.1625 - val_loss: 4.3601 - val_acc: 0.1092\n",
      "Epoch 3/100\n",
      "554/554 [==============================] - 0s - loss: 4.1209 - acc: 0.1805 - val_loss: 4.2028 - val_acc: 0.1429\n",
      "Epoch 4/100\n",
      "554/554 [==============================] - 0s - loss: 3.8833 - acc: 0.2166 - val_loss: 4.0217 - val_acc: 0.1639\n",
      "Epoch 5/100\n",
      "554/554 [==============================] - 0s - loss: 3.6192 - acc: 0.2563 - val_loss: 3.7954 - val_acc: 0.2101\n",
      "Epoch 6/100\n",
      "554/554 [==============================] - 0s - loss: 3.3522 - acc: 0.2780 - val_loss: 3.5314 - val_acc: 0.2647\n",
      "Epoch 7/100\n",
      "554/554 [==============================] - 0s - loss: 3.0922 - acc: 0.3484 - val_loss: 3.2654 - val_acc: 0.2983\n",
      "Epoch 8/100\n",
      "554/554 [==============================] - 0s - loss: 2.7952 - acc: 0.3700 - val_loss: 2.9914 - val_acc: 0.3613\n",
      "Epoch 9/100\n",
      "554/554 [==============================] - 0s - loss: 2.5666 - acc: 0.4314 - val_loss: 2.7435 - val_acc: 0.3950\n",
      "Epoch 10/100\n",
      "554/554 [==============================] - 0s - loss: 2.3472 - acc: 0.4765 - val_loss: 2.5278 - val_acc: 0.4286\n",
      "Epoch 11/100\n",
      "554/554 [==============================] - 0s - loss: 2.1366 - acc: 0.5144 - val_loss: 2.3512 - val_acc: 0.5000\n",
      "Epoch 12/100\n",
      "554/554 [==============================] - 0s - loss: 1.9747 - acc: 0.5253 - val_loss: 2.1418 - val_acc: 0.6134\n",
      "Epoch 13/100\n",
      "554/554 [==============================] - 0s - loss: 1.8005 - acc: 0.5704 - val_loss: 2.0050 - val_acc: 0.5798\n",
      "Epoch 14/100\n",
      "554/554 [==============================] - 0s - loss: 1.6754 - acc: 0.5903 - val_loss: 1.8881 - val_acc: 0.6218\n",
      "Epoch 15/100\n",
      "554/554 [==============================] - 0s - loss: 1.5265 - acc: 0.6354 - val_loss: 1.7773 - val_acc: 0.6555\n",
      "Epoch 16/100\n",
      "554/554 [==============================] - 0s - loss: 1.4635 - acc: 0.6318 - val_loss: 1.6589 - val_acc: 0.6471\n",
      "Epoch 17/100\n",
      "554/554 [==============================] - 0s - loss: 1.3910 - acc: 0.6426 - val_loss: 1.5566 - val_acc: 0.6765\n",
      "Epoch 18/100\n",
      "554/554 [==============================] - 0s - loss: 1.2494 - acc: 0.6949 - val_loss: 1.4893 - val_acc: 0.7101\n",
      "Epoch 19/100\n",
      "554/554 [==============================] - 0s - loss: 1.2263 - acc: 0.6931 - val_loss: 1.4011 - val_acc: 0.6933\n",
      "Epoch 20/100\n",
      "554/554 [==============================] - 0s - loss: 1.1232 - acc: 0.7040 - val_loss: 1.3255 - val_acc: 0.7395\n",
      "Epoch 21/100\n",
      "554/554 [==============================] - 0s - loss: 1.0668 - acc: 0.7130 - val_loss: 1.2792 - val_acc: 0.7017\n",
      "Epoch 22/100\n",
      "554/554 [==============================] - 0s - loss: 1.0377 - acc: 0.7022 - val_loss: 1.2192 - val_acc: 0.7311\n",
      "Epoch 23/100\n",
      "554/554 [==============================] - 0s - loss: 0.9862 - acc: 0.7329 - val_loss: 1.2002 - val_acc: 0.7437\n",
      "Epoch 24/100\n",
      "554/554 [==============================] - 0s - loss: 0.8931 - acc: 0.7780 - val_loss: 1.1488 - val_acc: 0.7437\n",
      "Epoch 25/100\n",
      "554/554 [==============================] - 0s - loss: 0.8799 - acc: 0.7617 - val_loss: 1.1251 - val_acc: 0.7311\n",
      "Epoch 26/100\n",
      "554/554 [==============================] - 0s - loss: 0.8192 - acc: 0.7708 - val_loss: 1.0853 - val_acc: 0.7521\n",
      "Epoch 27/100\n",
      "554/554 [==============================] - 0s - loss: 0.7599 - acc: 0.8141 - val_loss: 1.0039 - val_acc: 0.7689\n",
      "Epoch 28/100\n",
      "554/554 [==============================] - 0s - loss: 0.7587 - acc: 0.8051 - val_loss: 0.9929 - val_acc: 0.7563\n",
      "Epoch 29/100\n",
      "554/554 [==============================] - 0s - loss: 0.7226 - acc: 0.7924 - val_loss: 0.9716 - val_acc: 0.7773\n",
      "Epoch 30/100\n",
      "554/554 [==============================] - 0s - loss: 0.6384 - acc: 0.8375 - val_loss: 0.9670 - val_acc: 0.7857\n",
      "Epoch 31/100\n",
      "554/554 [==============================] - 0s - loss: 0.6052 - acc: 0.8412 - val_loss: 0.9227 - val_acc: 0.7731\n",
      "Epoch 32/100\n",
      "554/554 [==============================] - 0s - loss: 0.6253 - acc: 0.8592 - val_loss: 0.8640 - val_acc: 0.7983\n",
      "Epoch 33/100\n",
      "554/554 [==============================] - 0s - loss: 0.5796 - acc: 0.8303 - val_loss: 0.8601 - val_acc: 0.8025\n",
      "Epoch 34/100\n",
      "554/554 [==============================] - 0s - loss: 0.5554 - acc: 0.8538 - val_loss: 0.8770 - val_acc: 0.7941\n",
      "Epoch 35/100\n",
      "554/554 [==============================] - 0s - loss: 0.5069 - acc: 0.8700 - val_loss: 0.8414 - val_acc: 0.8025\n",
      "Epoch 36/100\n",
      "554/554 [==============================] - 0s - loss: 0.4950 - acc: 0.8773 - val_loss: 0.8436 - val_acc: 0.8067\n",
      "Epoch 37/100\n",
      "554/554 [==============================] - 0s - loss: 0.4670 - acc: 0.8899 - val_loss: 0.8226 - val_acc: 0.7983\n",
      "Epoch 38/100\n",
      "554/554 [==============================] - 0s - loss: 0.4716 - acc: 0.8899 - val_loss: 0.8165 - val_acc: 0.7899\n",
      "Epoch 39/100\n",
      "554/554 [==============================] - 0s - loss: 0.4713 - acc: 0.8682 - val_loss: 0.7897 - val_acc: 0.8025\n",
      "Epoch 40/100\n",
      "554/554 [==============================] - 0s - loss: 0.4270 - acc: 0.8827 - val_loss: 0.7776 - val_acc: 0.7941\n",
      "Epoch 41/100\n",
      "554/554 [==============================] - 0s - loss: 0.4287 - acc: 0.8971 - val_loss: 0.7570 - val_acc: 0.8109\n",
      "Epoch 42/100\n",
      "554/554 [==============================] - 0s - loss: 0.4072 - acc: 0.8881 - val_loss: 0.7849 - val_acc: 0.8025\n",
      "Epoch 43/100\n",
      "554/554 [==============================] - 0s - loss: 0.3766 - acc: 0.8953 - val_loss: 0.7435 - val_acc: 0.8151\n",
      "Epoch 44/100\n",
      "554/554 [==============================] - 0s - loss: 0.3704 - acc: 0.9134 - val_loss: 0.7287 - val_acc: 0.8319\n",
      "Epoch 45/100\n",
      "554/554 [==============================] - 0s - loss: 0.3695 - acc: 0.9043 - val_loss: 0.7583 - val_acc: 0.8025\n",
      "Epoch 46/100\n",
      "554/554 [==============================] - 0s - loss: 0.3364 - acc: 0.9097 - val_loss: 0.7200 - val_acc: 0.8193\n",
      "Epoch 47/100\n",
      "554/554 [==============================] - 0s - loss: 0.3552 - acc: 0.8953 - val_loss: 0.7367 - val_acc: 0.8109\n",
      "Epoch 48/100\n",
      "554/554 [==============================] - 0s - loss: 0.2983 - acc: 0.9422 - val_loss: 0.7137 - val_acc: 0.8361\n",
      "Epoch 49/100\n",
      "554/554 [==============================] - 0s - loss: 0.3129 - acc: 0.9188 - val_loss: 0.6992 - val_acc: 0.8361\n",
      "Epoch 50/100\n",
      "554/554 [==============================] - 0s - loss: 0.3181 - acc: 0.9278 - val_loss: 0.7105 - val_acc: 0.8193\n",
      "Epoch 51/100\n",
      "554/554 [==============================] - 0s - loss: 0.2808 - acc: 0.9296 - val_loss: 0.7008 - val_acc: 0.8067\n",
      "Epoch 52/100\n",
      "554/554 [==============================] - 0s - loss: 0.2810 - acc: 0.9350 - val_loss: 0.7126 - val_acc: 0.8151\n",
      "Epoch 53/100\n",
      "554/554 [==============================] - 0s - loss: 0.2353 - acc: 0.9458 - val_loss: 0.6758 - val_acc: 0.8151\n",
      "Epoch 54/100\n",
      "554/554 [==============================] - 0s - loss: 0.2321 - acc: 0.9495 - val_loss: 0.6701 - val_acc: 0.8277\n",
      "Epoch 55/100\n",
      "554/554 [==============================] - 0s - loss: 0.2482 - acc: 0.9386 - val_loss: 0.6722 - val_acc: 0.8109\n",
      "Epoch 56/100\n",
      "554/554 [==============================] - 0s - loss: 0.2885 - acc: 0.9260 - val_loss: 0.6352 - val_acc: 0.8235\n",
      "Epoch 57/100\n",
      "554/554 [==============================] - 0s - loss: 0.2332 - acc: 0.9350 - val_loss: 0.6453 - val_acc: 0.8277\n",
      "Epoch 58/100\n",
      "554/554 [==============================] - 0s - loss: 0.2364 - acc: 0.9404 - val_loss: 0.6469 - val_acc: 0.8403\n",
      "Epoch 59/100\n",
      "554/554 [==============================] - 0s - loss: 0.2652 - acc: 0.9332 - val_loss: 0.6344 - val_acc: 0.8445\n",
      "Epoch 60/100\n",
      "554/554 [==============================] - 0s - loss: 0.2202 - acc: 0.9440 - val_loss: 0.6398 - val_acc: 0.8277\n",
      "Epoch 61/100\n",
      "554/554 [==============================] - 0s - loss: 0.2264 - acc: 0.9477 - val_loss: 0.6310 - val_acc: 0.8445\n",
      "Epoch 62/100\n",
      "554/554 [==============================] - 0s - loss: 0.2345 - acc: 0.9332 - val_loss: 0.6420 - val_acc: 0.8319\n",
      "Epoch 63/100\n",
      "554/554 [==============================] - 0s - loss: 0.1860 - acc: 0.9567 - val_loss: 0.6128 - val_acc: 0.8571\n",
      "Epoch 64/100\n",
      "554/554 [==============================] - 0s - loss: 0.1771 - acc: 0.9639 - val_loss: 0.6136 - val_acc: 0.8571\n",
      "Epoch 65/100\n",
      "554/554 [==============================] - 0s - loss: 0.1895 - acc: 0.9513 - val_loss: 0.6234 - val_acc: 0.8487\n",
      "Epoch 66/100\n"
     ]
    },
    {
     "name": "stdout",
     "output_type": "stream",
     "text": [
      "554/554 [==============================] - 0s - loss: 0.1856 - acc: 0.9531 - val_loss: 0.6089 - val_acc: 0.8445\n",
      "Epoch 67/100\n",
      "554/554 [==============================] - 0s - loss: 0.1671 - acc: 0.9693 - val_loss: 0.6001 - val_acc: 0.8361\n",
      "Epoch 68/100\n",
      "554/554 [==============================] - 0s - loss: 0.1631 - acc: 0.9585 - val_loss: 0.5940 - val_acc: 0.8487\n",
      "Epoch 69/100\n",
      "554/554 [==============================] - 0s - loss: 0.1662 - acc: 0.9657 - val_loss: 0.6107 - val_acc: 0.8487\n",
      "Epoch 70/100\n",
      "554/554 [==============================] - 0s - loss: 0.1680 - acc: 0.9549 - val_loss: 0.6282 - val_acc: 0.8361\n",
      "Epoch 71/100\n",
      "554/554 [==============================] - 0s - loss: 0.1616 - acc: 0.9585 - val_loss: 0.6192 - val_acc: 0.8403\n",
      "Epoch 72/100\n",
      "554/554 [==============================] - 0s - loss: 0.1563 - acc: 0.9585 - val_loss: 0.5852 - val_acc: 0.8529\n",
      "Epoch 73/100\n",
      "554/554 [==============================] - 0s - loss: 0.1580 - acc: 0.9675 - val_loss: 0.5729 - val_acc: 0.8571\n",
      "Epoch 74/100\n",
      "554/554 [==============================] - 0s - loss: 0.1529 - acc: 0.9621 - val_loss: 0.5787 - val_acc: 0.8655\n",
      "Epoch 75/100\n",
      "554/554 [==============================] - 0s - loss: 0.1377 - acc: 0.9711 - val_loss: 0.5895 - val_acc: 0.8613\n",
      "Epoch 76/100\n",
      "554/554 [==============================] - 0s - loss: 0.1517 - acc: 0.9639 - val_loss: 0.5876 - val_acc: 0.8613\n",
      "Epoch 77/100\n",
      "554/554 [==============================] - 0s - loss: 0.1480 - acc: 0.9711 - val_loss: 0.5862 - val_acc: 0.8277\n",
      "Epoch 78/100\n",
      "554/554 [==============================] - 0s - loss: 0.1388 - acc: 0.9639 - val_loss: 0.5809 - val_acc: 0.8529\n",
      "Epoch 79/100\n",
      "554/554 [==============================] - 0s - loss: 0.1281 - acc: 0.9711 - val_loss: 0.5887 - val_acc: 0.8445\n",
      "Epoch 80/100\n",
      "554/554 [==============================] - 0s - loss: 0.1479 - acc: 0.9657 - val_loss: 0.5909 - val_acc: 0.8445\n",
      "Epoch 81/100\n",
      "554/554 [==============================] - 0s - loss: 0.1244 - acc: 0.9801 - val_loss: 0.5749 - val_acc: 0.8571\n",
      "Epoch 82/100\n",
      "554/554 [==============================] - 0s - loss: 0.1409 - acc: 0.9693 - val_loss: 0.5832 - val_acc: 0.8571\n",
      "Epoch 83/100\n",
      "554/554 [==============================] - 0s - loss: 0.1205 - acc: 0.9675 - val_loss: 0.5886 - val_acc: 0.8571\n",
      "Epoch 84/100\n",
      "554/554 [==============================] - 0s - loss: 0.1196 - acc: 0.9693 - val_loss: 0.5791 - val_acc: 0.8487\n",
      "Epoch 85/100\n",
      "554/554 [==============================] - 0s - loss: 0.1025 - acc: 0.9801 - val_loss: 0.5572 - val_acc: 0.8529\n",
      "Epoch 86/100\n",
      "554/554 [==============================] - 0s - loss: 0.1100 - acc: 0.9801 - val_loss: 0.5822 - val_acc: 0.8487\n",
      "Epoch 87/100\n",
      "554/554 [==============================] - 0s - loss: 0.1108 - acc: 0.9765 - val_loss: 0.5792 - val_acc: 0.8529\n",
      "Epoch 88/100\n",
      "554/554 [==============================] - 0s - loss: 0.1172 - acc: 0.9693 - val_loss: 0.5822 - val_acc: 0.8277\n",
      "Epoch 89/100\n",
      "554/554 [==============================] - 0s - loss: 0.0913 - acc: 0.9856 - val_loss: 0.5696 - val_acc: 0.8487\n",
      "Epoch 90/100\n",
      "554/554 [==============================] - 0s - loss: 0.0940 - acc: 0.9892 - val_loss: 0.5901 - val_acc: 0.8445\n",
      "Epoch 91/100\n",
      "554/554 [==============================] - 0s - loss: 0.0875 - acc: 0.9819 - val_loss: 0.5831 - val_acc: 0.8487\n",
      "Epoch 92/100\n",
      "554/554 [==============================] - 0s - loss: 0.0900 - acc: 0.9783 - val_loss: 0.5750 - val_acc: 0.8571\n",
      "Epoch 93/100\n",
      "554/554 [==============================] - 0s - loss: 0.1061 - acc: 0.9747 - val_loss: 0.5743 - val_acc: 0.8487\n",
      "Epoch 94/100\n",
      "554/554 [==============================] - 0s - loss: 0.1000 - acc: 0.9801 - val_loss: 0.5685 - val_acc: 0.8613\n",
      "Epoch 95/100\n",
      "554/554 [==============================] - 0s - loss: 0.0851 - acc: 0.9856 - val_loss: 0.5479 - val_acc: 0.8782\n",
      "Epoch 96/100\n",
      "554/554 [==============================] - 0s - loss: 0.0952 - acc: 0.9783 - val_loss: 0.5468 - val_acc: 0.8655\n",
      "Epoch 97/100\n",
      "554/554 [==============================] - 0s - loss: 0.0706 - acc: 0.9856 - val_loss: 0.5546 - val_acc: 0.8487\n",
      "Epoch 98/100\n",
      "554/554 [==============================] - 0s - loss: 0.0986 - acc: 0.9693 - val_loss: 0.5752 - val_acc: 0.8445\n",
      "Epoch 99/100\n",
      "554/554 [==============================] - 0s - loss: 0.0916 - acc: 0.9747 - val_loss: 0.5759 - val_acc: 0.8571\n",
      "Epoch 100/100\n",
      "554/554 [==============================] - 0s - loss: 0.0843 - acc: 0.9801 - val_loss: 0.5770 - val_acc: 0.8529\n"
     ]
    },
    {
     "data": {
      "text/plain": [
       "<keras.callbacks.History at 0x7f19490a1b90>"
      ]
     },
     "execution_count": 206,
     "metadata": {},
     "output_type": "execute_result"
    }
   ],
   "source": [
    "cnn.fit(X2_train,y_train, validation_split=.3, epochs=100)\n",
    "                    "
   ]
  },
  {
   "cell_type": "code",
   "execution_count": 208,
   "metadata": {
    "collapsed": true
   },
   "outputs": [],
   "source": [
    "X2_test = X_test.reshape(-1, 192, 1)"
   ]
  },
  {
   "cell_type": "code",
   "execution_count": 211,
   "metadata": {},
   "outputs": [
    {
     "name": "stdout",
     "output_type": "stream",
     "text": [
      "\r",
      " 32/198 [===>..........................] - ETA: 0s"
     ]
    }
   ],
   "source": [
    "y_preds = cnn.predict_classes(X2_test)"
   ]
  },
  {
   "cell_type": "code",
   "execution_count": 220,
   "metadata": {},
   "outputs": [
    {
     "data": {
      "text/plain": [
       "array([36, 44, 32, 36, 61, 62, 17, 55, 58, 75,  2, 78, 84, 48, 28, 93, 59,\n",
       "       74,  9, 92, 16, 25, 65, 11, 65, 39, 98, 64,  7, 66, 62, 93, 96, 14,\n",
       "       47, 94, 35,  5, 22, 72, 51, 49, 74, 48, 89, 98, 21,  2, 56, 64, 82,\n",
       "       76, 56, 88, 57, 37, 95, 18, 39, 26, 13, 85, 83, 46,  8, 42,  4, 30,\n",
       "       20, 64, 86, 11, 63, 16, 95, 50,  4, 45, 48, 66, 60, 43, 25, 15, 47,\n",
       "       37, 50, 86, 70, 45, 97, 17, 96, 45, 33, 68, 30, 10, 94,  2, 67, 14,\n",
       "       42, 27, 89, 52, 73, 41, 54, 22, 92, 77, 87, 34, 79, 85,  3, 41, 81,\n",
       "       49, 21, 91, 82, 45, 41, 61, 84, 51, 88, 86, 29, 78,  9, 83,  1,  0,\n",
       "       54, 73, 38, 69, 35, 71, 72, 44, 19, 76, 57, 90, 43, 43, 23, 29, 15,\n",
       "       80,  6, 19, 43, 23, 87, 68, 47, 43,  7, 75,  0, 50, 97, 60, 91, 33,\n",
       "       79, 56, 58, 32, 37, 67, 53,  6, 60, 40, 40, 56, 80, 63, 28, 27, 48,\n",
       "       71, 20, 90, 70, 34, 13, 46, 77,  8, 59,  3])"
      ]
     },
     "execution_count": 220,
     "metadata": {},
     "output_type": "execute_result"
    }
   ],
   "source": [
    "y_preds"
   ]
  },
  {
   "cell_type": "code",
   "execution_count": 215,
   "metadata": {},
   "outputs": [],
   "source": [
    "y_test = np.argmax(y_test, axis=1)"
   ]
  },
  {
   "cell_type": "code",
   "execution_count": 222,
   "metadata": {},
   "outputs": [],
   "source": [
    "y_test = keras.utils.to_categorical(y_test)"
   ]
  },
  {
   "cell_type": "code",
   "execution_count": 224,
   "metadata": {},
   "outputs": [
    {
     "name": "stdout",
     "output_type": "stream",
     "text": [
      "\r",
      " 32/198 [===>..........................] - ETA: 0s"
     ]
    },
    {
     "data": {
      "text/plain": [
       "[0.42065755029519397, 0.89898989898989901]"
      ]
     },
     "execution_count": 224,
     "metadata": {},
     "output_type": "execute_result"
    }
   ],
   "source": [
    "cnn.evaluate(X2_test, y_test)"
   ]
  },
  {
   "cell_type": "code",
   "execution_count": 218,
   "metadata": {},
   "outputs": [],
   "source": [
    "#turn your y_test back to argmax for confusion matrix results.\n",
    "\n",
    "from sklearn.metrics import confusion_matrix"
   ]
  },
  {
   "cell_type": "code",
   "execution_count": 219,
   "metadata": {},
   "outputs": [
    {
     "data": {
      "text/plain": [
       "array([[1, 0, 0, ..., 0, 0, 0],\n",
       "       [0, 1, 0, ..., 0, 0, 0],\n",
       "       [0, 0, 2, ..., 0, 0, 0],\n",
       "       ..., \n",
       "       [0, 0, 0, ..., 2, 0, 0],\n",
       "       [0, 0, 0, ..., 0, 2, 0],\n",
       "       [0, 0, 0, ..., 0, 0, 2]])"
      ]
     },
     "execution_count": 219,
     "metadata": {},
     "output_type": "execute_result"
    }
   ],
   "source": [
    "confusion_matrix(y_test, y_preds)"
   ]
  },
  {
   "cell_type": "markdown",
   "metadata": {},
   "source": [
    "### compile on(optimizer= Adadelta)"
   ]
  },
  {
   "cell_type": "code",
   "execution_count": 89,
   "metadata": {
    "collapsed": true
   },
   "outputs": [],
   "source": [
    "#cnn.compile(loss=keras.losses.categorical_crossentropy,\n",
    "#              optimizer=keras.optimizers.Adadelta(),\n",
    "#              metrics=['accuracy'])"
   ]
  },
  {
   "cell_type": "markdown",
   "metadata": {},
   "source": [
    "## buiding the pipe"
   ]
  },
  {
   "cell_type": "code",
   "execution_count": 31,
   "metadata": {},
   "outputs": [
    {
     "name": "stderr",
     "output_type": "stream",
     "text": [
      "/usr/local/lib/python2.7/dist-packages/ipykernel_launcher.py:4: UserWarning: Update your `Conv2D` call to the Keras 2 API: `Conv2D(8, (5, 5), padding=\"same\", kernel_regularizer=\"l1\")`\n",
      "  after removing the cwd from sys.path.\n"
     ]
    }
   ],
   "source": [
    "#kernel_size: specifying the width and height of the 2D convolution window.\n",
    "        \n",
    "\n",
    "pipe_line = Convolution2D(8,5,5, border_mode = \"same\", W_regularizer='l1')(input_layer)\n",
    "pipe_line =(Activation(\"relu\"))(pipe_line)\n",
    "pipe_line = (MaxPooling2D(pool_size=(2,2), strides = (2,2)))(pipe_line)"
   ]
  },
  {
   "cell_type": "code",
   "execution_count": null,
   "metadata": {
    "collapsed": true
   },
   "outputs": [],
   "source": [
    "#Conv2D()"
   ]
  },
  {
   "cell_type": "markdown",
   "metadata": {},
   "source": [
    "## flatten the pipe"
   ]
  },
  {
   "cell_type": "code",
   "execution_count": 32,
   "metadata": {
    "collapsed": true
   },
   "outputs": [],
   "source": [
    "#flatten\n",
    "pipe_line = Flatten()(pipe_line)\n"
   ]
  },
  {
   "cell_type": "markdown",
   "metadata": {},
   "source": [
    "## fully connected layer (using dense class)"
   ]
  },
  {
   "cell_type": "code",
   "execution_count": 33,
   "metadata": {
    "collapsed": true
   },
   "outputs": [],
   "source": [
    "# fully connected layer\n",
    "pipe_line = Dense(100, activation=\"relu\")(pipe_line)\n",
    "pipe_line = Dropout(.5)(pipe_line)\n"
   ]
  },
  {
   "cell_type": "markdown",
   "metadata": {},
   "source": [
    "## output layer"
   ]
  },
  {
   "cell_type": "code",
   "execution_count": 34,
   "metadata": {
    "collapsed": true
   },
   "outputs": [],
   "source": [
    "#output layer\n",
    "output_layer = Dense(99, activation=\"softmax\")(pipe_line)"
   ]
  },
  {
   "cell_type": "code",
   "execution_count": 35,
   "metadata": {
    "collapsed": true
   },
   "outputs": [],
   "source": [
    "#lr ==> learning rate\n",
    "sgd = SGD(lr= 0.008, momentum= 0.9)"
   ]
  },
  {
   "cell_type": "code",
   "execution_count": null,
   "metadata": {
    "collapsed": true
   },
   "outputs": [],
   "source": []
  },
  {
   "cell_type": "code",
   "execution_count": 38,
   "metadata": {},
   "outputs": [
    {
     "ename": "AttributeError",
     "evalue": "'Tensor' object has no attribute 'compile'",
     "output_type": "error",
     "traceback": [
      "\u001b[0;31m\u001b[0m",
      "\u001b[0;31mAttributeError\u001b[0mTraceback (most recent call last)",
      "\u001b[0;32m<ipython-input-38-ad04559463f2>\u001b[0m in \u001b[0;36m<module>\u001b[0;34m()\u001b[0m\n\u001b[0;32m----> 1\u001b[0;31m pipe_line.compile(optimizer = \"Adam\", loss = \"categorical_crossentropy\",\n\u001b[0m\u001b[1;32m      2\u001b[0m              metrics = [\"accuracy\"]) ## Log_Loss for metrics???\n",
      "\u001b[0;31mAttributeError\u001b[0m: 'Tensor' object has no attribute 'compile'"
     ]
    }
   ],
   "source": [
    "pipe_line.compile(optimizer = \"Adam\", loss = \"categorical_crossentropy\",\n",
    "             metrics = [\"accuracy\"]) ## Log_Loss for metrics???"
   ]
  },
  {
   "cell_type": "code",
   "execution_count": 36,
   "metadata": {},
   "outputs": [
    {
     "ename": "NameError",
     "evalue": "name 'model' is not defined",
     "output_type": "error",
     "traceback": [
      "\u001b[0;31m\u001b[0m",
      "\u001b[0;31mNameError\u001b[0mTraceback (most recent call last)",
      "\u001b[0;32m<ipython-input-36-f847a27ea159>\u001b[0m in \u001b[0;36m<module>\u001b[0;34m()\u001b[0m\n\u001b[0;32m----> 1\u001b[0;31m model_2layer = model.fit(train[1][:], train_labels,\n\u001b[0m\u001b[1;32m      2\u001b[0m                    validation_data = (validation[1][:],\n\u001b[1;32m      3\u001b[0m                                      valid_labels),  nb_epoch = 1)\n",
      "\u001b[0;31mNameError\u001b[0m: name 'model' is not defined"
     ]
    }
   ],
   "source": [
    "model_2layer = model.fit(train[1][:], train_labels,\n",
    "                   validation_data = (validation[1][:],\n",
    "                                     valid_labels),  nb_epoch = 1)"
   ]
  },
  {
   "cell_type": "code",
   "execution_count": null,
   "metadata": {
    "collapsed": true
   },
   "outputs": [],
   "source": []
  },
  {
   "cell_type": "code",
   "execution_count": null,
   "metadata": {
    "collapsed": true
   },
   "outputs": [],
   "source": []
  },
  {
   "cell_type": "code",
   "execution_count": null,
   "metadata": {
    "collapsed": true
   },
   "outputs": [],
   "source": []
  }
 ],
 "metadata": {
  "kernelspec": {
   "display_name": "Python 2",
   "language": "python",
   "name": "python2"
  },
  "language_info": {
   "codemirror_mode": {
    "name": "ipython",
    "version": 2
   },
   "file_extension": ".py",
   "mimetype": "text/x-python",
   "name": "python",
   "nbconvert_exporter": "python",
   "pygments_lexer": "ipython2",
   "version": "2.7.12"
  }
 },
 "nbformat": 4,
 "nbformat_minor": 2
}
