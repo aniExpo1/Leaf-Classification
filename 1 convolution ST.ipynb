{
 "cells": [
  {
   "cell_type": "markdown",
   "metadata": {},
   "source": [
    "* one convolution notebook"
   ]
  },
  {
   "cell_type": "code",
   "execution_count": 3,
   "metadata": {
    "collapsed": true
   },
   "outputs": [],
   "source": [
    "# tensorflow on 8889"
   ]
  },
  {
   "cell_type": "code",
   "execution_count": 1,
   "metadata": {
    "collapsed": true
   },
   "outputs": [],
   "source": [
    "import os\n",
    "os.chdir(\"/notebooks/src\")"
   ]
  },
  {
   "cell_type": "code",
   "execution_count": 2,
   "metadata": {},
   "outputs": [
    {
     "data": {
      "text/plain": [
       "u'/notebooks/src'"
      ]
     },
     "execution_count": 2,
     "metadata": {},
     "output_type": "execute_result"
    }
   ],
   "source": [
    "pwd"
   ]
  },
  {
   "cell_type": "code",
   "execution_count": 68,
   "metadata": {
    "collapsed": true
   },
   "outputs": [],
   "source": [
    "! ls /home"
   ]
  },
  {
   "cell_type": "code",
   "execution_count": 69,
   "metadata": {},
   "outputs": [
    {
     "name": "stdout",
     "output_type": "stream",
     "text": [
      "Requirement already satisfied: keras in /usr/local/lib/python2.7/dist-packages\n",
      "Requirement already satisfied: cython in /usr/local/lib/python2.7/dist-packages\n",
      "Requirement already satisfied: h5py in /usr/local/lib/python2.7/dist-packages\n",
      "Requirement already satisfied: pyyaml in /usr/local/lib/python2.7/dist-packages (from keras)\n",
      "Requirement already satisfied: six>=1.9.0 in /usr/local/lib/python2.7/dist-packages (from keras)\n",
      "Requirement already satisfied: scipy>=0.14 in /usr/local/lib/python2.7/dist-packages (from keras)\n",
      "Requirement already satisfied: numpy>=1.9.1 in /usr/local/lib/python2.7/dist-packages (from keras)\n"
     ]
    }
   ],
   "source": [
    "!pip install keras cython h5py"
   ]
  },
  {
   "cell_type": "code",
   "execution_count": 3,
   "metadata": {},
   "outputs": [
    {
     "name": "stderr",
     "output_type": "stream",
     "text": [
      "Using TensorFlow backend.\n"
     ]
    }
   ],
   "source": [
    "import keras\n",
    "from keras.layers import Input, Convolution2D, Dense, Activation, Flatten, merge, Conv2D\n",
    "from keras.layers import MaxPooling2D, Dropout, LocallyConnected2D, MaxPool2D, MaxPool1D\n",
    "from keras.models import Model, load_model,  Sequential\n",
    "from keras.optimizers import SGD\n",
    "from keras.models import Sequential\n",
    "from keras.activations import relu, softmax\n",
    "import numpy as np\n",
    "import pandas as pd\n",
    "import matplotlib.pyplot as plt\n",
    "import matplotlib.image as mpimg\n",
    "#from lib.data_split import load_train_data, load_test_data"
   ]
  },
  {
   "cell_type": "markdown",
   "metadata": {},
   "source": [
    "### preprocessing the data(functions)"
   ]
  },
  {
   "cell_type": "code",
   "execution_count": 4,
   "metadata": {
    "collapsed": true
   },
   "outputs": [],
   "source": [
    "from sklearn.preprocessing import LabelEncoder\n",
    "from sklearn.preprocessing import StandardScaler\n",
    "'''\n",
    "This module takes a file path and loades pre_extracted features \n",
    "from leaf kaggle competiton. The input is the file path for\n",
    "train or test files. \n",
    "'''\n",
    "\n",
    "\n",
    "\n",
    "def load_train(filepath):\n",
    "\n",
    "    #loading\n",
    "    train_df = pd.read_csv(filepath)\n",
    "    id = train_df.pop('id')\n",
    "    target = train_df.pop('species')\n",
    "    \n",
    "    #scaling\n",
    "    target = LabelEncoder().fit(target).transform(target)\n",
    "    features = StandardScaler().fit(train_df).transform(train_df)\n",
    "    \n",
    "    return id,features,target\n",
    "    \n",
    "\n",
    "def load_test(filepath):\n",
    "    \n",
    "    #loading\n",
    "    test_df = pd.read_csv(filepath)\n",
    "    id = test_df.pop('id')\n",
    "    \n",
    "    #scaling\n",
    "    features = StandardScaler().fit(test_df).transform(test_df)\n",
    "    \n",
    "    return id, features\n",
    "    "
   ]
  },
  {
   "cell_type": "markdown",
   "metadata": {},
   "source": [
    "* loading images"
   ]
  },
  {
   "cell_type": "code",
   "execution_count": 5,
   "metadata": {
    "collapsed": true
   },
   "outputs": [],
   "source": [
    "from keras.utils.np_utils import to_categorical\n",
    "from keras.preprocessing.image import img_to_array, load_img\n",
    "\n",
    "'''\n",
    "This module loads all the training/test images, resizes them and \n",
    "makes them ready for kaggle.\n",
    "'''\n",
    "\n",
    "\n",
    "def rebuild_image(img, dim=64):\n",
    "    \n",
    "    # find largest axis\n",
    "    maxsize = max((0,1), key=lambda i: img.size[i])\n",
    "    \n",
    "    #scale both axis\n",
    "    scale = dim/float(img.size[maxsize])\n",
    "    \n",
    "    return img.resize((int(img.size[0] * scale), int(img.size[1]*scale)))\n",
    "    \n",
    "\n",
    "    \n",
    "def load_image(ids,dim=64):\n",
    "\n",
    "    filepath = './data/images/'\n",
    "    \n",
    "    IM = np.empty((len(ids),dim,dim,1))\n",
    "    \n",
    "    for i, ids in enumerate(ids):\n",
    "    \n",
    "        images = rebuild_image(load_img(filepath + str(ids) + '.jpg',\n",
    "grayscale=True),dim = dim)\n",
    "        \n",
    "        images = img_to_array(images)\n",
    "        x = images.shape[0]\n",
    "        y = images.shape[1]\n",
    "        \n",
    "        #centering\n",
    "        l_bound_0 = int((dim - x) / 2)\n",
    "        u_bound_0 = l_bound_0 + x\n",
    "        l_bound_1 = int((dim - y) / 2)\n",
    "        u_bound_1 = l_bound_1 + y\n",
    "        \n",
    "        IM[i,l_bound_0:u_bound_0,l_bound_1:u_bound_1,0:1] = images\n",
    "        \n",
    "        #scale it to grey\n",
    "    return np.around(IM/ 255.0) "
   ]
  },
  {
   "cell_type": "code",
   "execution_count": 6,
   "metadata": {},
   "outputs": [
    {
     "data": {
      "image/png": "[encoded data removed]",
      "text/plain": [
       "<matplotlib.figure.Figure at 0x7f70f4f00790>"
      ]
     },
     "metadata": {},
     "output_type": "display_data"
    }
   ],
   "source": [
    "# reading an image file using matplotlib into a numpy array\n",
    "# good ones: 11, 19, 23, 27, 48, 53, 78, 218\n",
    "img = mpimg.imread('./data/images/53.jpg')\n",
    "plt.imshow(img, cmap='Greens') \n",
    "plt.show()"
   ]
  },
  {
   "cell_type": "markdown",
   "metadata": {},
   "source": [
    "### splitting the data with StratifiedShuffleSplit"
   ]
  },
  {
   "cell_type": "code",
   "execution_count": 7,
   "metadata": {
    "collapsed": true
   },
   "outputs": [],
   "source": [
    "\n",
    "from sklearn.model_selection import StratifiedShuffleSplit\n",
    "\n",
    "random_state = 8\n",
    "split = 0.8\n",
    "\n",
    "\n",
    "\n",
    "def load_train_data(filepath, split = split, random_state = random_state):\n",
    "\n",
    "    id, features_train, target_train = load_train(filepath)\n",
    "    image_train = load_image(id)\n",
    "    \n",
    "    sss = StratifiedShuffleSplit(n_splits = 1, train_size=split ,random_state=random_state)\n",
    "    train_i,val_i = next(sss.split(features_train,target_train))\n",
    "      \n",
    "    features_val,val_img,val_target = features_train[val_i],image_train[val_i], target_train[val_i]\n",
    "      \n",
    "    features_train,train_img,train_target = features_train[train_i],image_train[train_i],target_train[train_i]\n",
    "    \n",
    "    \n",
    "    return (features_train,train_img,train_target),(features_val,val_img,val_target)\n",
    "    \n",
    "\n",
    "def load_test_data(filepath):\n",
    "\n",
    "    id, test_features = load_test(filepath)\n",
    "    test_images = load_image(id)\n",
    "    \n",
    "    return (id,test_features,test_images)\n",
    "    \n",
    "    "
   ]
  },
  {
   "cell_type": "code",
   "execution_count": 8,
   "metadata": {},
   "outputs": [
    {
     "name": "stderr",
     "output_type": "stream",
     "text": [
      "/usr/local/lib/python2.7/dist-packages/sklearn/model_selection/_split.py:1630: FutureWarning: From version 0.21, test_size will always complement train_size unless both are specified.\n",
      "  FutureWarning)\n"
     ]
    }
   ],
   "source": [
    "#X_train, y_train\n",
    "train,validation = load_train_data(\"./data/train.csv\",split = split, random_state = random_state)"
   ]
  },
  {
   "cell_type": "code",
   "execution_count": 9,
   "metadata": {},
   "outputs": [
    {
     "data": {
      "text/plain": [
       "(792, 192)"
      ]
     },
     "execution_count": 9,
     "metadata": {},
     "output_type": "execute_result"
    }
   ],
   "source": [
    "train[0].shape"
   ]
  },
  {
   "cell_type": "code",
   "execution_count": 10,
   "metadata": {
    "collapsed": true
   },
   "outputs": [],
   "source": [
    "test = load_test_data(\"./data/test.csv\")"
   ]
  },
  {
   "cell_type": "code",
   "execution_count": 11,
   "metadata": {},
   "outputs": [
    {
     "data": {
      "text/plain": [
       "tuple"
      ]
     },
     "execution_count": 11,
     "metadata": {},
     "output_type": "execute_result"
    }
   ],
   "source": [
    "type(test)"
   ]
  },
  {
   "cell_type": "code",
   "execution_count": 12,
   "metadata": {
    "collapsed": true
   },
   "outputs": [],
   "source": [
    "train_labels = train[2][:]\n",
    "valid_labels = validation[2][:]"
   ]
  },
  {
   "cell_type": "code",
   "execution_count": 13,
   "metadata": {},
   "outputs": [
    {
     "data": {
      "text/plain": [
       "(792,)"
      ]
     },
     "execution_count": 13,
     "metadata": {},
     "output_type": "execute_result"
    }
   ],
   "source": [
    "train_labels.shape"
   ]
  },
  {
   "cell_type": "code",
   "execution_count": 80,
   "metadata": {},
   "outputs": [
    {
     "data": {
      "text/plain": [
       "array([78, 69, 33, 89, 92, 73, 75, 23, 17, 88, 69, 35, 97, 52, 87, 23, 18,\n",
       "       24, 70, 95, 80, 43, 22,  1, 84, 68, 34, 76, 36, 61, 32, 93, 95,  1,\n",
       "       55, 59, 33, 97, 22,  6, 28, 38, 50, 96, 85, 85, 82, 37, 47, 25, 41,\n",
       "       54, 33, 36, 70, 55, 42, 84, 63,  6, 51, 37,  6, 62, 43,  2, 30, 28,\n",
       "        2, 19, 74, 77, 14, 26, 21, 93,  7, 83, 56, 77, 62, 72,  3, 24, 89,\n",
       "       20, 71, 58,  4, 29, 68,  9, 33, 39, 30, 13, 92, 10, 81, 37, 61, 20,\n",
       "       89, 90,  3, 81, 79, 29, 80, 12, 34, 43, 37,  9, 16, 50, 74,  8, 60,\n",
       "       96, 13,  0, 69, 78, 10, 65, 47, 58, 92, 90,  5, 71, 30, 33, 56, 73,\n",
       "       21, 86, 53,  5, 15, 64, 16, 82, 62, 64, 47, 53, 30, 42, 45, 50, 63,\n",
       "       65, 14, 28, 44, 28, 75, 72, 82, 94, 39, 10, 78, 67, 20, 71, 64, 75,\n",
       "       44,  4, 92, 43, 47, 88, 46, 16, 25, 23,  0,  7,  6, 85, 35, 70,  7,\n",
       "       53,  9, 43, 59, 67, 59, 79, 68, 17, 11, 98, 77, 20, 31,  4, 21, 41,\n",
       "        8, 57, 24, 89, 87, 68, 74, 46,  2, 18, 92,  7, 51, 70, 68, 92, 90,\n",
       "       63, 12, 32, 98, 45, 80, 19, 54,  8, 15, 50, 48, 19, 76, 91, 74, 96,\n",
       "        1, 94, 11, 88, 10, 36, 35, 61,  2, 93, 33, 70, 91, 75, 38, 20, 13,\n",
       "       15, 12, 28, 48, 89, 34, 21, 44, 75, 51, 91, 59, 76, 50, 25, 35,  8,\n",
       "       86,  8, 40, 40, 66, 90, 37, 45, 14, 76,  0, 49, 54,  9, 19, 81, 18,\n",
       "       83, 83, 60, 32, 38, 33, 59,  8, 83,  3, 49,  5, 12, 86, 73, 76, 66,\n",
       "       97, 54,  6, 53, 82, 13, 26, 44,  7, 98, 21, 26, 74,  0, 22, 32, 81,\n",
       "       65, 19, 26, 92, 40, 22, 91, 10, 88, 13, 38, 19, 51, 80, 32,  5, 55,\n",
       "       53, 97, 98, 23, 64, 45, 30, 61, 60, 51, 30,  0, 37, 91, 15, 41, 55,\n",
       "       42, 46, 94, 13,  2, 81, 64, 83, 40, 61, 77, 94, 39, 18, 44, 58,  7,\n",
       "       68, 42, 34, 56, 77, 39, 25, 27, 50,  4, 75, 52, 25, 48, 47,  2, 86,\n",
       "       24, 56, 87, 82, 69,  3, 54, 55, 58, 71, 27, 51, 64,  1, 77, 44, 90,\n",
       "       32, 69, 48, 24, 85, 90, 88, 97, 41, 50, 18, 16, 54,  9, 31, 38,  3,\n",
       "       45, 23, 84, 48, 79, 41, 48, 78, 49, 71, 31,  4, 46, 76, 62, 88, 39,\n",
       "       89, 11, 11, 30, 56, 15, 37, 43, 80, 20, 75, 80, 49, 34,  7, 93, 36,\n",
       "       41, 68, 14, 42, 13, 22, 43, 18, 58, 34, 76, 96, 82, 66, 15, 29, 57,\n",
       "       71, 23, 17, 98, 29, 35, 27, 96, 83, 57, 79, 31, 65, 94, 24, 52, 10,\n",
       "       36, 32, 39, 84, 64, 49, 31, 35,  3, 98, 60, 14, 40, 52, 87, 88, 31,\n",
       "       79, 35, 60, 78, 46, 85, 37, 29,  1, 57, 48, 11,  4, 91, 55, 52, 96,\n",
       "       11, 49,  7, 96, 22,  0, 62, 66,  8,  9, 26, 16, 57,  5, 27, 58, 53,\n",
       "        5, 65, 36, 36, 17, 21, 66, 53, 28, 34, 87, 56, 95, 59, 22,  9, 21,\n",
       "       47, 16, 16, 24, 52, 63, 44, 80, 35, 12, 62, 54, 17, 45, 80, 25, 82,\n",
       "       19, 41, 46, 95, 12,  2, 79, 87, 31, 84, 78, 73,  8, 67, 62, 93, 31,\n",
       "       77, 40, 17, 72, 70, 39, 84, 24, 77, 64, 74, 63, 87, 13, 59, 92, 53,\n",
       "       96, 27, 69, 72, 52, 40, 56, 90, 97, 57, 23,  4,  3, 90, 42, 89, 55,\n",
       "       95, 72,  1, 22,  1, 12, 94, 95, 41, 55, 56, 62, 27, 91, 39, 18, 88,\n",
       "        6, 25,  9, 65, 38, 83, 57, 27, 97, 21,  1, 48, 74,  6,  5, 73, 16,\n",
       "       14, 10, 45, 84, 79, 63, 61, 60, 50,  2, 32, 83, 95, 17, 46, 58, 51,\n",
       "       65, 69, 78, 78, 17, 84, 67,  0, 26, 65, 59, 14, 68, 46, 86, 66, 81,\n",
       "       30, 72, 20, 60, 98, 49, 76, 47, 63, 60, 98, 26, 28, 67, 87, 73, 44,\n",
       "       70, 25, 81, 47,  3, 33, 23, 36, 94, 63, 49,  4,  6, 73, 15, 19, 74,\n",
       "       43, 27, 73, 85, 89, 28,  0, 93, 75, 70, 42, 71, 29, 93, 58, 18, 52,\n",
       "       14, 94, 54, 85, 61, 85, 51, 81, 11, 72, 66, 67, 34, 72, 91, 66, 67,\n",
       "       86, 61, 29, 97,  5, 82, 71, 86, 40, 42, 79, 93, 69, 67, 95, 45, 57,\n",
       "       86, 10, 26, 38, 11, 15, 12, 20, 38, 29])"
      ]
     },
     "execution_count": 80,
     "metadata": {},
     "output_type": "execute_result"
    }
   ],
   "source": [
    "train_labels"
   ]
  },
  {
   "cell_type": "code",
   "execution_count": 81,
   "metadata": {},
   "outputs": [
    {
     "data": {
      "text/plain": [
       "(99,)"
      ]
     },
     "execution_count": 81,
     "metadata": {},
     "output_type": "execute_result"
    }
   ],
   "source": [
    "valid_labels.shape"
   ]
  },
  {
   "cell_type": "code",
   "execution_count": 82,
   "metadata": {},
   "outputs": [
    {
     "data": {
      "text/plain": [
       "array([96,  4, 80,  8, 26,  7, 98, 38, 53, 72, 68, 58, 34, 60, 89,  9, 86,\n",
       "       54, 40,  6, 21, 49, 29, 75, 91, 27, 33, 11, 95, 57, 32, 35, 61, 19,\n",
       "       12, 44, 31, 41, 24, 94, 30, 18, 17,  1, 45, 20, 48, 10, 84, 67, 37,\n",
       "       81, 93, 59, 66, 23, 22, 64, 83, 46, 69, 25, 79, 50, 47, 90, 51,  3,\n",
       "       15,  2, 39, 73,  5, 63, 97, 82, 92, 85, 74, 36, 71, 13, 14, 70, 88,\n",
       "       55, 28, 16, 56,  0, 43, 65, 76, 42, 52, 78, 77, 62, 87])"
      ]
     },
     "execution_count": 82,
     "metadata": {},
     "output_type": "execute_result"
    }
   ],
   "source": [
    "valid_labels"
   ]
  },
  {
   "cell_type": "markdown",
   "metadata": {},
   "source": [
    "### reformat function"
   ]
  },
  {
   "cell_type": "code",
   "execution_count": 14,
   "metadata": {
    "collapsed": true
   },
   "outputs": [],
   "source": [
    "def reformat(labels):\n",
    "    labels = (np.arange(99) == labels[:,None]).astype(np.float32)\n",
    "    return labels\n",
    "train_labels = reformat(train_labels)\n",
    "valid_labels = reformat(valid_labels)"
   ]
  },
  {
   "cell_type": "code",
   "execution_count": 15,
   "metadata": {},
   "outputs": [
    {
     "data": {
      "text/plain": [
       "(792, 99)"
      ]
     },
     "execution_count": 15,
     "metadata": {},
     "output_type": "execute_result"
    }
   ],
   "source": [
    "train_labels.shape"
   ]
  },
  {
   "cell_type": "code",
   "execution_count": 85,
   "metadata": {},
   "outputs": [
    {
     "data": {
      "text/plain": [
       "array([[ 0.,  0.,  0., ...,  0.,  0.,  0.],\n",
       "       [ 0.,  0.,  0., ...,  0.,  0.,  0.],\n",
       "       [ 0.,  0.,  0., ...,  0.,  0.,  0.],\n",
       "       ..., \n",
       "       [ 0.,  0.,  0., ...,  0.,  0.,  0.],\n",
       "       [ 0.,  0.,  0., ...,  0.,  0.,  0.],\n",
       "       [ 0.,  0.,  0., ...,  0.,  0.,  0.]], dtype=float32)"
      ]
     },
     "execution_count": 85,
     "metadata": {},
     "output_type": "execute_result"
    }
   ],
   "source": [
    "train_labels"
   ]
  },
  {
   "cell_type": "code",
   "execution_count": 16,
   "metadata": {},
   "outputs": [
    {
     "data": {
      "text/plain": [
       "(99, 99)"
      ]
     },
     "execution_count": 16,
     "metadata": {},
     "output_type": "execute_result"
    }
   ],
   "source": [
    "valid_labels.shape"
   ]
  },
  {
   "cell_type": "code",
   "execution_count": 87,
   "metadata": {},
   "outputs": [
    {
     "data": {
      "text/plain": [
       "array([[ 0.,  0.,  0., ...,  1.,  0.,  0.],\n",
       "       [ 0.,  0.,  0., ...,  0.,  0.,  0.],\n",
       "       [ 0.,  0.,  0., ...,  0.,  0.,  0.],\n",
       "       ..., \n",
       "       [ 0.,  0.,  0., ...,  0.,  0.,  0.],\n",
       "       [ 0.,  0.,  0., ...,  0.,  0.,  0.],\n",
       "       [ 0.,  0.,  0., ...,  0.,  0.,  0.]], dtype=float32)"
      ]
     },
     "execution_count": 87,
     "metadata": {},
     "output_type": "execute_result"
    }
   ],
   "source": [
    "valid_labels"
   ]
  },
  {
   "cell_type": "code",
   "execution_count": 17,
   "metadata": {
    "collapsed": true
   },
   "outputs": [],
   "source": [
    "input_layer = Input(shape=(64,64,1))"
   ]
  },
  {
   "cell_type": "code",
   "execution_count": 18,
   "metadata": {},
   "outputs": [
    {
     "data": {
      "text/plain": [
       "<tf.Tensor 'input_1:0' shape=(?, 64, 64, 1) dtype=float32>"
      ]
     },
     "execution_count": 18,
     "metadata": {},
     "output_type": "execute_result"
    }
   ],
   "source": [
    "input_layer"
   ]
  },
  {
   "cell_type": "code",
   "execution_count": 19,
   "metadata": {},
   "outputs": [
    {
     "data": {
      "text/plain": [
       "TensorShape([Dimension(None), Dimension(64), Dimension(64), Dimension(1)])"
      ]
     },
     "execution_count": 19,
     "metadata": {},
     "output_type": "execute_result"
    }
   ],
   "source": [
    "input_layer.shape"
   ]
  },
  {
   "cell_type": "markdown",
   "metadata": {},
   "source": [
    "### Frankenstein Neural Network (FNN)\n",
    "* Neural Network the functional way ( concating images and features)"
   ]
  },
  {
   "cell_type": "code",
   "execution_count": 125,
   "metadata": {},
   "outputs": [],
   "source": [
    "# first network only for the images\n",
    "\n",
    "Input_layer = Input(shape=(64,64,1))\n",
    "\n",
    "first = Conv2D(8, kernel_size=(3,3), activation= \"relu\", padding= \"same\")(Input_layer)\n",
    "\n",
    "first = Conv2D(16, kernel_size=(3,3), activation = \"relu\")(first)\n",
    "\n",
    "first = Dropout(.5)(first)\n",
    "\n",
    "first = MaxPool2D(pool_size=(2, 2), strides=(2, 2))(first)\n",
    "\n",
    "first = Flatten()(first)"
   ]
  },
  {
   "cell_type": "code",
   "execution_count": 126,
   "metadata": {},
   "outputs": [],
   "source": [
    "#second network only for the pre_extracted features\n",
    "\n",
    "Input_layer_features = Input(shape=(192,1),name='second')\n",
    "\n",
    "second = Dense(100, activation = \"relu\")(Input_layer_features)\n",
    "\n",
    "second = MaxPool1D()(second)\n",
    "\n",
    "second = Flatten()(second)\n"
   ]
  },
  {
   "cell_type": "code",
   "execution_count": 127,
   "metadata": {
    "collapsed": true
   },
   "outputs": [],
   "source": [
    "\n",
    "from keras.layers import concatenate#,Add"
   ]
  },
  {
   "cell_type": "code",
   "execution_count": 128,
   "metadata": {},
   "outputs": [
    {
     "data": {
      "text/plain": [
       "tensorflow.python.framework.ops.Tensor"
      ]
     },
     "execution_count": 128,
     "metadata": {},
     "output_type": "execute_result"
    }
   ],
   "source": [
    "#concating the first network(the images only) and the second network(the pre_extracted features only)\n",
    "combined = concatenate([first,second])\n",
    "type(combined)"
   ]
  },
  {
   "cell_type": "code",
   "execution_count": 129,
   "metadata": {
    "collapsed": true
   },
   "outputs": [],
   "source": [
    "combined = Dense(100, activation= \"relu\")(combined)\n",
    "combined = Dropout(.5)(combined)\n",
    "#output layer\n",
    "output_layer = Dense(99, activation=\"softmax\")(combined)"
   ]
  },
  {
   "cell_type": "code",
   "execution_count": 130,
   "metadata": {},
   "outputs": [
    {
     "data": {
      "text/plain": [
       "<tf.Tensor 'dense_24/Softmax:0' shape=(?, 99) dtype=float32>"
      ]
     },
     "execution_count": 130,
     "metadata": {},
     "output_type": "execute_result"
    }
   ],
   "source": [
    "output_layer"
   ]
  },
  {
   "cell_type": "code",
   "execution_count": 131,
   "metadata": {},
   "outputs": [
    {
     "data": {
      "text/plain": [
       "(99, 64, 64, 1)"
      ]
     },
     "execution_count": 131,
     "metadata": {},
     "output_type": "execute_result"
    }
   ],
   "source": [
    "validation[1][:].shape"
   ]
  },
  {
   "cell_type": "code",
   "execution_count": 132,
   "metadata": {},
   "outputs": [
    {
     "data": {
      "text/plain": [
       "(99, 192)"
      ]
     },
     "execution_count": 132,
     "metadata": {},
     "output_type": "execute_result"
    }
   ],
   "source": [
    "validation[0][:].shape"
   ]
  },
  {
   "cell_type": "code",
   "execution_count": 133,
   "metadata": {},
   "outputs": [],
   "source": [
    "\n",
    "model = Model(inputs=[Input_layer, Input_layer_features],outputs=output_layer)"
   ]
  },
  {
   "cell_type": "code",
   "execution_count": 134,
   "metadata": {
    "collapsed": true
   },
   "outputs": [],
   "source": [
    "#every time you compile your model It will start over the scoring\n",
    "model.compile(optimizer='adam',loss='categorical_crossentropy',\n",
    "              metrics=['accuracy'])"
   ]
  },
  {
   "cell_type": "code",
   "execution_count": 123,
   "metadata": {},
   "outputs": [],
   "source": [
    "# train[1][:].shape\n",
    "# train[0][:].reshape((792,192,1))"
   ]
  },
  {
   "cell_type": "code",
   "execution_count": 137,
   "metadata": {
    "collapsed": true
   },
   "outputs": [],
   "source": [
    "#reshaping from 2D to 3D\n",
    "train_features = train[0][:].reshape((792,192,1))\n",
    "validation_features = validation[0][:].reshape((99,192,1))"
   ]
  },
  {
   "cell_type": "code",
   "execution_count": 139,
   "metadata": {},
   "outputs": [
    {
     "name": "stdout",
     "output_type": "stream",
     "text": [
      "Train on 792 samples, validate on 99 samples\n",
      "Epoch 1/20\n",
      "792/792 [==============================] - 4s - loss: 4.5734 - acc: 0.0253 - val_loss: 4.1950 - val_acc: 0.1010\n",
      "Epoch 2/20\n",
      "792/792 [==============================] - 3s - loss: 3.9926 - acc: 0.0833 - val_loss: 3.5116 - val_acc: 0.2828\n",
      "Epoch 3/20\n",
      "792/792 [==============================] - 3s - loss: 3.2344 - acc: 0.2210 - val_loss: 2.6663 - val_acc: 0.4848\n",
      "Epoch 4/20\n",
      "792/792 [==============================] - 3s - loss: 2.5039 - acc: 0.3396 - val_loss: 1.8483 - val_acc: 0.7879\n",
      "Epoch 5/20\n",
      "792/792 [==============================] - 3s - loss: 1.8919 - acc: 0.4722 - val_loss: 1.1577 - val_acc: 0.9293\n",
      "Epoch 6/20\n",
      "792/792 [==============================] - 4s - loss: 1.4627 - acc: 0.5783 - val_loss: 0.6830 - val_acc: 0.9394\n",
      "Epoch 7/20\n",
      "792/792 [==============================] - 4s - loss: 1.1697 - acc: 0.6616 - val_loss: 0.5069 - val_acc: 0.9697\n",
      "Epoch 8/20\n",
      "792/792 [==============================] - 4s - loss: 0.9239 - acc: 0.7273 - val_loss: 0.3615 - val_acc: 0.9899\n",
      "Epoch 9/20\n",
      "792/792 [==============================] - 4s - loss: 0.7991 - acc: 0.7538 - val_loss: 0.2410 - val_acc: 0.9798\n",
      "Epoch 10/20\n",
      "792/792 [==============================] - 4s - loss: 0.6740 - acc: 0.7790 - val_loss: 0.2146 - val_acc: 0.9899\n",
      "Epoch 11/20\n",
      "792/792 [==============================] - 4s - loss: 0.6643 - acc: 0.8018 - val_loss: 0.1678 - val_acc: 0.9899\n",
      "Epoch 12/20\n",
      "792/792 [==============================] - 4s - loss: 0.6467 - acc: 0.8093 - val_loss: 0.1675 - val_acc: 0.9899\n",
      "Epoch 13/20\n",
      "792/792 [==============================] - 4s - loss: 0.5080 - acc: 0.8485 - val_loss: 0.1409 - val_acc: 0.9899\n",
      "Epoch 14/20\n",
      "792/792 [==============================] - 4s - loss: 0.4800 - acc: 0.8460 - val_loss: 0.1456 - val_acc: 0.9495\n",
      "Epoch 15/20\n",
      "792/792 [==============================] - 4s - loss: 0.5436 - acc: 0.8321 - val_loss: 0.1511 - val_acc: 0.9798\n",
      "Epoch 16/20\n",
      "792/792 [==============================] - 4s - loss: 0.4337 - acc: 0.8725 - val_loss: 0.1018 - val_acc: 0.9798\n",
      "Epoch 17/20\n",
      "792/792 [==============================] - 4s - loss: 0.4159 - acc: 0.8535 - val_loss: 0.1191 - val_acc: 0.9697\n",
      "Epoch 18/20\n",
      "792/792 [==============================] - 4s - loss: 0.3777 - acc: 0.8838 - val_loss: 0.0948 - val_acc: 1.0000\n",
      "Epoch 19/20\n",
      "792/792 [==============================] - 4s - loss: 0.3567 - acc: 0.8763 - val_loss: 0.0991 - val_acc: 0.9697\n",
      "Epoch 20/20\n",
      "792/792 [==============================] - 4s - loss: 0.3280 - acc: 0.8952 - val_loss: 0.0631 - val_acc: 1.0000\n"
     ]
    },
    {
     "data": {
      "text/plain": [
       "<keras.callbacks.History at 0x7f70c728d7d0>"
      ]
     },
     "execution_count": 139,
     "metadata": {},
     "output_type": "execute_result"
    }
   ],
   "source": [
    "model.fit([train[1][:],train_features], train_labels, validation_data = ([validation[1][:],validation_features],valid_labels),epochs= 20)\n"
   ]
  },
  {
   "cell_type": "code",
   "execution_count": null,
   "metadata": {
    "collapsed": true
   },
   "outputs": [],
   "source": []
  },
  {
   "cell_type": "code",
   "execution_count": null,
   "metadata": {
    "collapsed": true
   },
   "outputs": [],
   "source": []
  },
  {
   "cell_type": "markdown",
   "metadata": {},
   "source": [
    " ### Sequential Convolutional Neural Network(CNN)-images only"
   ]
  },
  {
   "cell_type": "code",
   "execution_count": 137,
   "metadata": {
    "collapsed": true
   },
   "outputs": [],
   "source": [
    "#start with the images only.\n",
    "\n",
    "cnn = Sequential([\n",
    "    Conv2D(8, kernel_size=(3,3),\n",
    "          activation= \"relu\",\n",
    "          input_shape = (64,64,1)),\n",
    "    Conv2D(16, kernel_size=(3,3), \n",
    "           activation = \"relu\"),\n",
    "    Dropout(.25),\n",
    "    MaxPool2D(pool_size=(2, 2), strides=(2, 2)),\n",
    "    Flatten(),\n",
    "    Dense(100, activation = \"relu\"),\n",
    "    Dropout(.25),\n",
    "    #output _ layer\n",
    "    Dense(256),\n",
    "    Dense(99, activation= \"softmax\")\n",
    "])"
   ]
  },
  {
   "cell_type": "code",
   "execution_count": 108,
   "metadata": {},
   "outputs": [
    {
     "name": "stdout",
     "output_type": "stream",
     "text": [
      "_________________________________________________________________\n",
      "Layer (type)                 Output Shape              Param #   \n",
      "=================================================================\n",
      "conv2d_23 (Conv2D)           (None, 62, 62, 8)         80        \n",
      "_________________________________________________________________\n",
      "conv2d_24 (Conv2D)           (None, 60, 60, 16)        1168      \n",
      "_________________________________________________________________\n",
      "dropout_18 (Dropout)         (None, 60, 60, 16)        0         \n",
      "_________________________________________________________________\n",
      "max_pooling2d_13 (MaxPooling (None, 30, 30, 16)        0         \n",
      "_________________________________________________________________\n",
      "flatten_12 (Flatten)         (None, 14400)             0         \n",
      "_________________________________________________________________\n",
      "dense_23 (Dense)             (None, 100)               1440100   \n",
      "_________________________________________________________________\n",
      "dropout_19 (Dropout)         (None, 100)               0         \n",
      "_________________________________________________________________\n",
      "dense_24 (Dense)             (None, 256)               25856     \n",
      "_________________________________________________________________\n",
      "dense_25 (Dense)             (None, 99)                25443     \n",
      "=================================================================\n",
      "Total params: 1,492,647\n",
      "Trainable params: 1,492,647\n",
      "Non-trainable params: 0\n",
      "_________________________________________________________________\n"
     ]
    }
   ],
   "source": [
    "cnn.summary()"
   ]
  },
  {
   "cell_type": "code",
   "execution_count": 109,
   "metadata": {
    "collapsed": true
   },
   "outputs": [],
   "source": [
    "cnn.compile(loss= keras.losses.categorical_crossentropy,\n",
    "           optimizer= keras.optimizers.adam(),\n",
    "           metrics=[\"accuracy\"])"
   ]
  },
  {
   "cell_type": "code",
   "execution_count": 110,
   "metadata": {},
   "outputs": [
    {
     "name": "stdout",
     "output_type": "stream",
     "text": [
      "Train on 792 samples, validate on 99 samples\n",
      "Epoch 1/20\n",
      "792/792 [==============================] - 3s - loss: 4.5576 - acc: 0.0202 - val_loss: 4.2439 - val_acc: 0.0808\n",
      "Epoch 2/20\n",
      "792/792 [==============================] - 3s - loss: 3.7604 - acc: 0.0846 - val_loss: 3.1458 - val_acc: 0.1818\n",
      "Epoch 3/20\n",
      "792/792 [==============================] - 3s - loss: 2.8101 - acc: 0.2449 - val_loss: 2.4668 - val_acc: 0.3535\n",
      "Epoch 4/20\n",
      "792/792 [==============================] - 3s - loss: 2.2514 - acc: 0.3245 - val_loss: 2.1048 - val_acc: 0.4242\n",
      "Epoch 5/20\n",
      "792/792 [==============================] - 3s - loss: 1.8565 - acc: 0.4571 - val_loss: 1.8336 - val_acc: 0.5152\n",
      "Epoch 6/20\n",
      "792/792 [==============================] - 3s - loss: 1.7217 - acc: 0.4722 - val_loss: 1.7084 - val_acc: 0.5354\n",
      "Epoch 7/20\n",
      "792/792 [==============================] - 3s - loss: 1.4511 - acc: 0.5682 - val_loss: 1.5166 - val_acc: 0.5354\n",
      "Epoch 8/20\n",
      "792/792 [==============================] - 3s - loss: 1.2963 - acc: 0.5960 - val_loss: 1.5006 - val_acc: 0.5758\n",
      "Epoch 9/20\n",
      "792/792 [==============================] - 3s - loss: 1.1555 - acc: 0.6288 - val_loss: 1.5559 - val_acc: 0.5253\n",
      "Epoch 10/20\n",
      "792/792 [==============================] - 3s - loss: 1.0568 - acc: 0.6641 - val_loss: 1.5516 - val_acc: 0.5657\n",
      "Epoch 11/20\n",
      "792/792 [==============================] - 3s - loss: 0.9591 - acc: 0.6667 - val_loss: 1.5054 - val_acc: 0.5859\n",
      "Epoch 12/20\n",
      "792/792 [==============================] - 3s - loss: 0.9013 - acc: 0.7247 - val_loss: 1.4944 - val_acc: 0.5859\n",
      "Epoch 13/20\n",
      "792/792 [==============================] - 3s - loss: 0.8083 - acc: 0.7348 - val_loss: 1.4965 - val_acc: 0.5657\n",
      "Epoch 14/20\n",
      "792/792 [==============================] - 3s - loss: 0.7669 - acc: 0.7614 - val_loss: 1.4547 - val_acc: 0.5859\n",
      "Epoch 15/20\n",
      "792/792 [==============================] - 3s - loss: 0.6599 - acc: 0.7929 - val_loss: 1.5280 - val_acc: 0.5859\n",
      "Epoch 16/20\n",
      "792/792 [==============================] - 3s - loss: 0.6646 - acc: 0.7740 - val_loss: 1.4396 - val_acc: 0.5758\n",
      "Epoch 17/20\n",
      "792/792 [==============================] - 3s - loss: 0.6071 - acc: 0.7942 - val_loss: 1.4575 - val_acc: 0.5556\n",
      "Epoch 18/20\n",
      "792/792 [==============================] - 3s - loss: 0.5863 - acc: 0.8144 - val_loss: 1.5812 - val_acc: 0.5556\n",
      "Epoch 19/20\n",
      "792/792 [==============================] - 3s - loss: 0.5764 - acc: 0.7980 - val_loss: 1.7092 - val_acc: 0.5455\n",
      "Epoch 20/20\n",
      "792/792 [==============================] - 3s - loss: 0.4433 - acc: 0.8548 - val_loss: 1.6206 - val_acc: 0.5354\n"
     ]
    }
   ],
   "source": [
    "# for images only ==> train[1] and validation[1]\n",
    "history = cnn.fit(train[1],train_labels, validation_data=(validation[1], valid_labels),nb_epoch=20)"
   ]
  },
  {
   "cell_type": "code",
   "execution_count": 124,
   "metadata": {},
   "outputs": [
    {
     "data": {
      "text/plain": [
       "(792, 64, 64, 1)"
      ]
     },
     "execution_count": 124,
     "metadata": {},
     "output_type": "execute_result"
    }
   ],
   "source": [
    "train[1][:].shape"
   ]
  },
  {
   "cell_type": "code",
   "execution_count": 125,
   "metadata": {},
   "outputs": [
    {
     "data": {
      "text/plain": [
       "(792, 192)"
      ]
     },
     "execution_count": 125,
     "metadata": {},
     "output_type": "execute_result"
    }
   ],
   "source": [
    "train[0][:].shape"
   ]
  },
  {
   "cell_type": "code",
   "execution_count": 16,
   "metadata": {
    "collapsed": true
   },
   "outputs": [],
   "source": [
    "#you need an optimizer anyway.\n",
    "#sgd = SGD(lr=0.008, momentum=0.9,decay=0.0,nesterov=False)"
   ]
  },
  {
   "cell_type": "code",
   "execution_count": 17,
   "metadata": {},
   "outputs": [
    {
     "name": "stderr",
     "output_type": "stream",
     "text": [
      "/usr/local/lib/python2.7/dist-packages/ipykernel_launcher.py:2: UserWarning: Update your `Model` call to the Keras 2 API: `Model(outputs=Tensor(\"de..., inputs=[<tf.Tenso...)`\n",
      "  \n"
     ]
    }
   ],
   "source": [
    "# for image + numerical data\n",
    "model = Model(input=[input_layer,num],output=output_layer)"
   ]
  },
  {
   "cell_type": "code",
   "execution_count": 18,
   "metadata": {
    "collapsed": true
   },
   "outputs": [],
   "source": [
    "#model.compile(optimizer='Adam',loss='categorical_crossentropy',\n",
    "#              metrics=['accuracy'])"
   ]
  },
  {
   "cell_type": "code",
   "execution_count": 59,
   "metadata": {
    "collapsed": true
   },
   "outputs": [],
   "source": [
    "#!pip install seaborn"
   ]
  }
 ],
 "metadata": {
  "kernelspec": {
   "display_name": "Python 2",
   "language": "python",
   "name": "python2"
  },
  "language_info": {
   "codemirror_mode": {
    "name": "ipython",
    "version": 2
   },
   "file_extension": ".py",
   "mimetype": "text/x-python",
   "name": "python",
   "nbconvert_exporter": "python",
   "pygments_lexer": "ipython2",
   "version": "2.7.12"
  }
 },
 "nbformat": 4,
 "nbformat_minor": 2
}
